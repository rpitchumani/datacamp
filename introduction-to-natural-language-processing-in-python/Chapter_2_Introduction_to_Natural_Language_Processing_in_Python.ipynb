{
 "cells": [
  {
   "cell_type": "markdown",
   "id": "49b651d1-5517-40fa-a3b6-0c683f66caa6",
   "metadata": {},
   "source": [
    "# Introduction to Natural Language Processing in Python"
   ]
  },
  {
   "cell_type": "markdown",
   "id": "75fbcee1-8db9-4673-9cfa-d485aa12d609",
   "metadata": {},
   "source": [
    "## Chapter 2"
   ]
  },
  {
   "cell_type": "code",
   "execution_count": 42,
   "id": "58e03314-50ba-4c64-bf1c-e9f9afdda58c",
   "metadata": {
    "tags": []
   },
   "outputs": [],
   "source": [
    "import glob\n",
    "from nltk.tokenize import word_tokenize\n",
    "from nltk.stem import WordNetLemmatizer\n",
    "from collections import Counter, defaultdict\n",
    "import itertools"
   ]
  },
  {
   "cell_type": "code",
   "execution_count": 43,
   "id": "c5e71ccb-5258-45e9-942b-9870706f2ec2",
   "metadata": {},
   "outputs": [
    {
     "data": {
      "text/plain": [
       "Counter({'The': 2, 'cat': 2, 'is': 1, 'in': 1, 'the': 1, 'box': 2, '.': 2})"
      ]
     },
     "execution_count": 43,
     "metadata": {},
     "output_type": "execute_result"
    }
   ],
   "source": [
    "text = \"The cat is in the box. The cat box.\"\n",
    "\n",
    "Counter(word_tokenize(text))"
   ]
  },
  {
   "cell_type": "code",
   "execution_count": 44,
   "id": "d6ba3327-2418-4b5f-8b4f-92c4763723b4",
   "metadata": {
    "tags": []
   },
   "outputs": [],
   "source": [
    "with open(\"wiki_text_debugging.txt\", \"r\") as f_article:\n",
    "    article = f_article.read()\n",
    "    \n",
    "# print(article)"
   ]
  },
  {
   "cell_type": "code",
   "execution_count": 45,
   "id": "8b280249-9251-4d5c-b6c7-cf203a354761",
   "metadata": {
    "tags": []
   },
   "outputs": [
    {
     "name": "stdout",
     "output_type": "stream",
     "text": [
      "[(',', 151), ('the', 150), ('.', 89), ('of', 81), (\"''\", 69), ('to', 63), ('a', 60), ('``', 47), ('in', 44), ('and', 41)]\n"
     ]
    }
   ],
   "source": [
    "# Tokenize the article: tokens\n",
    "tokens = word_tokenize(article)\n",
    "\n",
    "# Convert the tokens into lowercase: lower_tokens\n",
    "lower_tokens = [t.lower() for t in tokens]\n",
    "\n",
    "# Create a Counter with the lowercase tokens: bow_simple\n",
    "bow_simple = Counter(lower_tokens)\n",
    "\n",
    "# Print the 10 most common tokens\n",
    "print(bow_simple.most_common(10))"
   ]
  },
  {
   "cell_type": "code",
   "execution_count": 46,
   "id": "128c731f-899b-4627-958b-4592e638424e",
   "metadata": {
    "tags": []
   },
   "outputs": [],
   "source": [
    "with open(\"english_stopwords.txt\", \"r\") as f_english:\n",
    "    text_english = f_english.read()\n",
    "    \n",
    "english_stops = text_english.split(\"\\n\")"
   ]
  },
  {
   "cell_type": "code",
   "execution_count": 47,
   "id": "5407d094-83e1-4d7a-80df-05d7bb34fc52",
   "metadata": {
    "tags": []
   },
   "outputs": [
    {
     "name": "stdout",
     "output_type": "stream",
     "text": [
      "[('debugging', 39), ('system', 25), ('bug', 17), ('software', 16), ('problem', 15), ('tool', 15), ('computer', 14), ('process', 13), ('term', 13), ('debugger', 13)]\n"
     ]
    }
   ],
   "source": [
    "# Retain alphabetic words: alpha_only\n",
    "alpha_only = [t for t in lower_tokens if t.isalpha()]\n",
    "\n",
    "# Remove all stop words: no_stops\n",
    "no_stops = [t for t in alpha_only if t not in english_stops]\n",
    "\n",
    "# Instantiate the WordNetLemmatizer\n",
    "wordnet_lemmatizer = WordNetLemmatizer()\n",
    "\n",
    "# Lemmatize all tokens into a new list: lemmatized\n",
    "lemmatized = [wordnet_lemmatizer.lemmatize(t) for t in no_stops]\n",
    "\n",
    "# Create the bag-of-words: bow\n",
    "bow = Counter(lemmatized)\n",
    "\n",
    "# Print the 10 most common tokens\n",
    "print(bow.most_common(10))"
   ]
  },
  {
   "cell_type": "code",
   "execution_count": 48,
   "id": "67405b2c-9968-446c-9027-6defd8192fbb",
   "metadata": {},
   "outputs": [
    {
     "name": "stdout",
     "output_type": "stream",
     "text": [
      "['wiki_text_bug.txt', 'wiki_text_computer.txt', 'wiki_text_crash.txt', 'wiki_text_debugger.txt', 'wiki_text_debugging.txt', 'wiki_text_exception.txt', 'wiki_text_hopper.txt', 'wiki_text_language.txt', 'wiki_text_malware.txt', 'wiki_text_program.txt', 'wiki_text_reversing.txt', 'wiki_text_software.txt']\n",
      "wiki_text_bug.txt\n",
      "wiki_text_computer.txt\n",
      "wiki_text_crash.txt\n",
      "wiki_text_debugger.txt\n",
      "wiki_text_debugging.txt\n",
      "wiki_text_exception.txt\n",
      "wiki_text_hopper.txt\n",
      "wiki_text_language.txt\n",
      "wiki_text_malware.txt\n",
      "wiki_text_program.txt\n",
      "wiki_text_reversing.txt\n",
      "wiki_text_software.txt\n",
      "12\n"
     ]
    }
   ],
   "source": [
    "# Get all tokens for all Wiki Articles\n",
    "list_wiki_files = glob.glob(\"wiki*.txt\")\n",
    "print(list_wiki_files)\n",
    "\n",
    "wiki_all = []\n",
    "\n",
    "for wiki_file in list_wiki_files:\n",
    "    print(wiki_file)\n",
    "    with open(wiki_file, encoding=\"utf8\") as f_wiki:        \n",
    "\n",
    "        wiki_article = f_wiki.read()\n",
    "        \n",
    "        # Tokenize the article: tokens\n",
    "    wiki_tokens = word_tokenize(wiki_article)\n",
    "\n",
    "    # Convert the tokens into lowercase: lower_tokens\n",
    "    wiki_lower_tokens = [t.lower() for t in wiki_tokens]\n",
    "\n",
    "    # Retain alphabetic words: alpha_only\n",
    "    wiki_alpha_only = [t for t in wiki_lower_tokens if t.isalpha()]\n",
    "\n",
    "    # Remove all stop words: no_stops\n",
    "    wiki_no_stops = [t for t in wiki_alpha_only if t not in english_stops]\n",
    "\n",
    "    # Instantiate the WordNetLemmatizer\n",
    "    wiki_wordnet_lemmatizer = WordNetLemmatizer()\n",
    "\n",
    "    # Lemmatize all tokens into a new list: lemmatized\n",
    "    wiki_lemmatized = [wiki_wordnet_lemmatizer.lemmatize(t) for t in wiki_no_stops]\n",
    "    \n",
    "    wiki_all.append(wiki_lemmatized)\n",
    "\n",
    "print(len(wiki_all))\n",
    "articles = wiki_all"
   ]
  },
  {
   "cell_type": "code",
   "execution_count": 49,
   "id": "346a78b0-8cbf-4d26-93e6-63e60e207076",
   "metadata": {
    "tags": []
   },
   "outputs": [
    {
     "name": "stdout",
     "output_type": "stream",
     "text": [
      "computer\n",
      "[(1, 1), (13, 1), (14, 1), (17, 1), (24, 1), (27, 1), (33, 1), (34, 4), (42, 2), (43, 7)]\n"
     ]
    }
   ],
   "source": [
    "# Import Dictionary\n",
    "from gensim.corpora.dictionary import Dictionary\n",
    "\n",
    "# Create a Dictionary from the articles: dictionary\n",
    "dictionary = Dictionary(articles)\n",
    "\n",
    "# Select the id for \"computer\": computer_id\n",
    "computer_id = dictionary.token2id.get(\"computer\")\n",
    "\n",
    "# Use computer_id with the dictionary to print the word\n",
    "print(dictionary.get(computer_id))\n",
    "\n",
    "# Create a MmCorpus: corpus\n",
    "corpus = [dictionary.doc2bow(article) for article in articles]\n",
    "\n",
    "# Print the first 10 word ids with their frequency counts from the fifth document\n",
    "print(corpus[4][:10])"
   ]
  },
  {
   "cell_type": "code",
   "execution_count": 50,
   "id": "c50b1608-dae3-46d8-a454-760026c2faa9",
   "metadata": {
    "tags": []
   },
   "outputs": [
    {
     "name": "stdout",
     "output_type": "stream",
     "text": [
      "debugging 39\n",
      "system 25\n",
      "bug 17\n",
      "software 16\n",
      "problem 15\n"
     ]
    }
   ],
   "source": [
    "# Save the fifth document: doc\n",
    "doc = corpus[4]\n",
    "\n",
    "# Sort the doc for frequency: bow_doc\n",
    "bow_doc = sorted(doc, key=lambda w: w[1], reverse=True)\n",
    "\n",
    "# Print the top 5 words of the document alongside the count\n",
    "for word_id, word_count in bow_doc[:5]:\n",
    "    print(dictionary.get(word_id), word_count)\n",
    "    \n",
    "# Create the defaultdict: total_word_count\n",
    "total_word_count = defaultdict(int)\n",
    "for word_id, word_count in itertools.chain.from_iterable(corpus):\n",
    "    total_word_count[word_id] += word_count"
   ]
  },
  {
   "cell_type": "code",
   "execution_count": 51,
   "id": "f21a59df-2adb-4b99-b744-f91c5b4fb542",
   "metadata": {
    "tags": []
   },
   "outputs": [
    {
     "name": "stdout",
     "output_type": "stream",
     "text": [
      "debugging 39\n",
      "system 25\n",
      "bug 17\n",
      "software 16\n",
      "problem 15\n",
      "computer 753\n",
      "software 451\n",
      "program 341\n",
      "cite 322\n",
      "language 320\n"
     ]
    }
   ],
   "source": [
    "# Save the fifth document: doc\n",
    "doc = corpus[4]\n",
    "\n",
    "# Sort the doc for frequency: bow_doc\n",
    "bow_doc = sorted(doc, key=lambda w: w[1], reverse=True)\n",
    "\n",
    "# Print the top 5 words of the document alongside the count\n",
    "for word_id, word_count in bow_doc[:5]:\n",
    "    print(dictionary.get(word_id), word_count)\n",
    "    \n",
    "# Create the defaultdict: total_word_count\n",
    "total_word_count = defaultdict(int)\n",
    "for word_id, word_count in itertools.chain.from_iterable(corpus):\n",
    "    total_word_count[word_id] += word_count\n",
    "    \n",
    "# Create a sorted list from the defaultdict: sorted_word_count\n",
    "sorted_word_count = sorted(total_word_count.items(), key=lambda w: w[1], reverse=True) \n",
    "\n",
    "# Print the top 5 words across all documents alongside the count\n",
    "for word_id, word_count in sorted_word_count[:5]:\n",
    "    print(dictionary.get(word_id), word_count)"
   ]
  },
  {
   "cell_type": "code",
   "execution_count": 52,
   "id": "ee1d29b4-506f-4cdf-b29e-7b3102ac63c3",
   "metadata": {
    "tags": []
   },
   "outputs": [],
   "source": [
    "from gensim.models.tfidfmodel import TfidfModel"
   ]
  },
  {
   "cell_type": "code",
   "execution_count": 53,
   "id": "4a4eb876-c531-4eb6-b46c-386a2d2c9b4e",
   "metadata": {},
   "outputs": [
    {
     "name": "stdout",
     "output_type": "stream",
     "text": [
      "[(1, 0.012844137985779271), (13, 0.012844137985779271), (14, 0.012844137985779271), (17, 0.012844137985779271), (24, 0.02035747706154831)]\n",
      "wolf 0.23022876516553425\n",
      "debugging 0.20790115749039909\n",
      "fence 0.1841830121324274\n",
      "squeeze 0.13813725909932056\n",
      "tron 0.13813725909932056\n"
     ]
    }
   ],
   "source": [
    "# Create a new TfidfModel using the corpus: tfidf\n",
    "tfidf = TfidfModel(corpus)\n",
    "\n",
    "# Calculate the tfidf weights of doc: tfidf_weights\n",
    "tfidf_weights = tfidf[doc]\n",
    "\n",
    "# Print the first five weights\n",
    "print(tfidf_weights[:5])\n",
    "\n",
    "# Sort the weights from highest to lowest: sorted_tfidf_weights\n",
    "sorted_tfidf_weights = sorted(tfidf_weights, key=lambda w: w[1], reverse=True)\n",
    "\n",
    "# Print the top 5 weighted words\n",
    "for term_id, weight in sorted_tfidf_weights[:5]:\n",
    "    print(dictionary.get(term_id), weight)"
   ]
  },
  {
   "cell_type": "code",
   "execution_count": null,
   "id": "9bf8234f-c90e-40be-ab43-23cb46e5fce8",
   "metadata": {},
   "outputs": [],
   "source": []
  }
 ],
 "metadata": {
  "kernelspec": {
   "display_name": "Python 3 (ipykernel)",
   "language": "python",
   "name": "python3"
  },
  "language_info": {
   "codemirror_mode": {
    "name": "ipython",
    "version": 3
   },
   "file_extension": ".py",
   "mimetype": "text/x-python",
   "name": "python",
   "nbconvert_exporter": "python",
   "pygments_lexer": "ipython3",
   "version": "3.10.12"
  }
 },
 "nbformat": 4,
 "nbformat_minor": 5
}
