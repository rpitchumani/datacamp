{
 "cells": [
  {
   "cell_type": "markdown",
   "id": "3ed0edb2-696b-49ab-9db0-681defcce695",
   "metadata": {},
   "source": [
    "![A soccer pitch for an international match.](soccer-pitch.jpg)\n",
    "\n",
    "You're working as a sports journalist at a major online sports media company, specializing in soccer analysis and reporting. You've been watching both men's and women's international soccer matches for a number of years, and your gut instinct tells you that more goals are scored in women's international football matches than men's. This would make an interesting investigative article that your subscribers are bound to love, but you'll need to perform a valid statistical hypothesis test to be sure!\n",
    "\n",
    "While scoping this project, you acknowledge that the sport has changed a lot over the years, and performances likely vary a lot depending on the tournament, so you decide to limit the data used in the analysis to only official `FIFA World Cup` matches (not including qualifiers) since `2002-01-01`.\n",
    "\n",
    "You create two datasets containing the results of every official men's and women's international football match since the 19th century, which you scraped from a reliable online source. This data is stored in two CSV files: `women_results.csv` and `men_results.csv`.\n",
    "\n",
    "The question you are trying to determine the answer to is:\n",
    "\n",
    "> Are more goals scored in women's international soccer matches than men's?\n",
    "\n",
    "You assume a **10% significance level**, and use the following null and alternative hypotheses:\n",
    "\n",
    "$H_0$ : The mean number of goals scored in women's international soccer matches is the same as men's.\n",
    "\n",
    "$H_A$ : The mean number of goals scored in women's international soccer matches is greater than men's."
   ]
  },
  {
   "cell_type": "code",
   "execution_count": 1,
   "id": "84a3c4c8-534b-4d1a-9919-17e05208b2ca",
   "metadata": {
    "tags": [],
    "ExecuteTime": {
     "end_time": "2023-10-10T21:41:59.580790700Z",
     "start_time": "2023-10-10T21:41:59.423881600Z"
    }
   },
   "outputs": [],
   "source": [
    "# Start your code here!\n",
    "import datetime\n",
    "import pingouin as pg\n",
    "import pandas as pd\n",
    "\n",
    "pd.options.display.width = 0\n",
    "pd.options.display.max_colwidth = None"
   ]
  },
  {
   "cell_type": "code",
   "execution_count": 2,
   "id": "fd0e93d3-205b-4a1b-b1bb-3fb4327fdec3",
   "metadata": {
    "tags": [],
    "ExecuteTime": {
     "end_time": "2023-10-10T21:41:59.643135300Z",
     "start_time": "2023-10-10T21:41:59.580790700Z"
    }
   },
   "outputs": [
    {
     "name": "stdout",
     "output_type": "stream",
     "text": [
      "         date home_team away_team  home_score  away_score tournament  \\\n",
      "0  1872-11-30  Scotland   England           0           0   Friendly   \n",
      "1  1873-03-08   England  Scotland           4           2   Friendly   \n",
      "2  1874-03-07  Scotland   England           2           1   Friendly   \n",
      "3  1875-03-06   England  Scotland           2           2   Friendly   \n",
      "4  1876-03-04  Scotland   England           3           0   Friendly   \n",
      "\n",
      "    datetime  \n",
      "0 1872-11-30  \n",
      "1 1873-03-08  \n",
      "2 1874-03-07  \n",
      "3 1875-03-06  \n",
      "4 1876-03-04  \n",
      "         date home_team  away_team  home_score  away_score        tournament  \\\n",
      "0  1969-11-01     Italy     France           1           0              Euro   \n",
      "1  1969-11-01   Denmark    England           4           3              Euro   \n",
      "2  1969-11-02   England     France           2           0              Euro   \n",
      "3  1969-11-02     Italy    Denmark           3           1              Euro   \n",
      "4  1975-08-25  Thailand  Australia           3           2  AFC Championship   \n",
      "\n",
      "    datetime  \n",
      "0 1969-11-01  \n",
      "1 1969-11-01  \n",
      "2 1969-11-02  \n",
      "3 1969-11-02  \n",
      "4 1975-08-25  \n",
      "date                  object\n",
      "home_team             object\n",
      "away_team             object\n",
      "home_score             int64\n",
      "away_score             int64\n",
      "tournament            object\n",
      "datetime      datetime64[ns]\n",
      "dtype: object\n",
      "date                  object\n",
      "home_team             object\n",
      "away_team             object\n",
      "home_score             int64\n",
      "away_score             int64\n",
      "tournament            object\n",
      "datetime      datetime64[ns]\n",
      "dtype: object\n"
     ]
    }
   ],
   "source": [
    "df_men_results = pd.read_csv(\"./datasets/men_results.csv\", index_col=0)\n",
    "df_women_results = pd.read_csv(\"./datasets/women_results.csv\", index_col=0)\n",
    "\n",
    "df_men_results[\"datetime\"] = pd.to_datetime(df_men_results[\"date\"])\n",
    "df_women_results[\"datetime\"] = pd.to_datetime(df_women_results[\"date\"])\n",
    "\n",
    "print(df_men_results.head())\n",
    "print(df_women_results.head())\n",
    "print(df_men_results.dtypes)\n",
    "print(df_women_results.dtypes)"
   ]
  },
  {
   "cell_type": "code",
   "execution_count": 3,
   "id": "6a2a1669-8a9b-47bd-b8f0-a3061da391bb",
   "metadata": {
    "tags": [],
    "ExecuteTime": {
     "end_time": "2023-10-10T21:42:00.910889900Z",
     "start_time": "2023-10-10T21:42:00.907588500Z"
    }
   },
   "outputs": [],
   "source": [
    "filter_datetime = datetime.datetime(2002, 1, 1)\n",
    "df_men_2021 = df_men_results[df_men_results[\"datetime\"] >= filter_datetime]\n",
    "df_women_2021 = df_women_results[df_women_results[\"datetime\"] >= filter_datetime]"
   ]
  },
  {
   "cell_type": "code",
   "execution_count": null,
   "id": "e45ec828-b97f-4b58-9e42-d47f738ecd32",
   "metadata": {},
   "outputs": [],
   "source": []
  },
  {
   "cell_type": "markdown",
   "source": [
    "W"
   ],
   "metadata": {
    "collapsed": false
   }
  },
  {
   "cell_type": "code",
   "execution_count": null,
   "id": "9d834f5d-7cd1-414d-89bf-a255dd4a0dca",
   "metadata": {},
   "outputs": [],
   "source": []
  },
  {
   "cell_type": "code",
   "execution_count": null,
   "id": "3954933a-f56d-446a-98a4-4a9c472c5ac9",
   "metadata": {},
   "outputs": [],
   "source": []
  }
 ],
 "metadata": {
  "colab": {
   "name": "Welcome to DataCamp Workspaces.ipynb",
   "provenance": []
  },
  "kernelspec": {
   "display_name": "Python 3 (ipykernel)",
   "language": "python",
   "name": "python3"
  },
  "language_info": {
   "codemirror_mode": {
    "name": "ipython",
    "version": 3
   },
   "file_extension": ".py",
   "mimetype": "text/x-python",
   "name": "python",
   "nbconvert_exporter": "python",
   "pygments_lexer": "ipython3",
   "version": "3.11.5"
  }
 },
 "nbformat": 4,
 "nbformat_minor": 5
}
