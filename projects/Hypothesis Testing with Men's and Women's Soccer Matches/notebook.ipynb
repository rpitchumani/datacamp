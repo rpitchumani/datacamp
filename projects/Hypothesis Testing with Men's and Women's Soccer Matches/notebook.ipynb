{
 "cells": [
  {
   "cell_type": "markdown",
   "id": "3ed0edb2-696b-49ab-9db0-681defcce695",
   "metadata": {},
   "source": [
    "![A soccer pitch for an international match.](soccer-pitch.jpg)\n",
    "\n",
    "You're working as a sports journalist at a major online sports media company, specializing in soccer analysis and reporting. You've been watching both men's and women's international soccer matches for a number of years, and your gut instinct tells you that more goals are scored in women's international football matches than men's. This would make an interesting investigative article that your subscribers are bound to love, but you'll need to perform a valid statistical hypothesis test to be sure!\n",
    "\n",
    "While scoping this project, you acknowledge that the sport has changed a lot over the years, and performances likely vary a lot depending on the tournament, so you decide to limit the data used in the analysis to only official `FIFA World Cup` matches (not including qualifiers) since `2002-01-01`.\n",
    "\n",
    "You create two datasets containing the results of every official men's and women's international football match since the 19th century, which you scraped from a reliable online source. This data is stored in two CSV files: `women_results.csv` and `men_results.csv`.\n",
    "\n",
    "The question you are trying to determine the answer to is:\n",
    "\n",
    "> Are more goals scored in women's international soccer matches than men's?\n",
    "\n",
    "You assume a **10% significance level**, and use the following null and alternative hypotheses:\n",
    "\n",
    "$H_0$ : The mean number of goals scored in women's international soccer matches is the same as men's.\n",
    "\n",
    "$H_A$ : The mean number of goals scored in women's international soccer matches is greater than men's."
   ]
  },
  {
   "cell_type": "code",
   "execution_count": 85,
   "id": "84a3c4c8-534b-4d1a-9919-17e05208b2ca",
   "metadata": {
    "tags": [],
    "ExecuteTime": {
     "end_time": "2023-10-14T04:00:28.546311800Z",
     "start_time": "2023-10-14T04:00:27.263326700Z"
    }
   },
   "outputs": [],
   "source": [
    "# Start your code here!\n",
    "import datetime\n",
    "import pandas as pd\n",
    "from scipy.stats import mannwhitneyu\n",
    "import pingouin\n",
    "import statsmodels.api as sm\n",
    "import matplotlib.pyplot as plt\n",
    "\n",
    "pd.options.display.width = 0\n",
    "pd.options.display.max_colwidth = None"
   ]
  },
  {
   "cell_type": "markdown",
   "source": [
    "## Exploratory Data Analysis"
   ],
   "metadata": {
    "collapsed": false
   }
  },
  {
   "cell_type": "code",
   "execution_count": 86,
   "id": "fd0e93d3-205b-4a1b-b1bb-3fb4327fdec3",
   "metadata": {
    "tags": [],
    "ExecuteTime": {
     "end_time": "2023-10-14T04:00:28.597445800Z",
     "start_time": "2023-10-14T04:00:28.546311800Z"
    }
   },
   "outputs": [
    {
     "name": "stdout",
     "output_type": "stream",
     "text": [
      "date                  object\n",
      "home_team             object\n",
      "away_team             object\n",
      "home_score             int64\n",
      "away_score             int64\n",
      "tournament            object\n",
      "datetime      datetime64[ns]\n",
      "dtype: object\n",
      "date                  object\n",
      "home_team             object\n",
      "away_team             object\n",
      "home_score             int64\n",
      "away_score             int64\n",
      "tournament            object\n",
      "datetime      datetime64[ns]\n",
      "dtype: object\n"
     ]
    }
   ],
   "source": [
    "df_men = pd.read_csv(\"./datasets/men_results.csv\", index_col=0)\n",
    "df_women = pd.read_csv(\"./datasets/women_results.csv\", index_col=0)\n",
    "\n",
    "df_men[\"datetime\"] = pd.to_datetime(df_men[\"date\"])\n",
    "df_women[\"datetime\"] = pd.to_datetime(df_women[\"date\"])\n",
    "\n",
    "print(df_men.dtypes)\n",
    "print(df_women.dtypes)"
   ]
  },
  {
   "cell_type": "code",
   "execution_count": 87,
   "outputs": [
    {
     "data": {
      "text/plain": "             date  home_team    away_team  home_score  away_score  \\\n0      1872-11-30   Scotland      England           0           0   \n1      1873-03-08    England     Scotland           4           2   \n2      1874-03-07   Scotland      England           2           1   \n3      1875-03-06    England     Scotland           2           2   \n4      1876-03-04   Scotland      England           3           0   \n...           ...        ...          ...         ...         ...   \n44348  2022-12-14   Thailand       Taiwan           0           1   \n44349  2022-12-14    Vietnam  Philippines           1           0   \n44350  2022-12-17    Croatia      Morocco           2           1   \n44351  2022-12-17  Singapore     Maldives           3           1   \n44352  2022-12-18  Argentina       France           3           3   \n\n           tournament   datetime  \n0            Friendly 1872-11-30  \n1            Friendly 1873-03-08  \n2            Friendly 1874-03-07  \n3            Friendly 1875-03-06  \n4            Friendly 1876-03-04  \n...               ...        ...  \n44348        Friendly 2022-12-14  \n44349        Friendly 2022-12-14  \n44350  FIFA World Cup 2022-12-17  \n44351        Friendly 2022-12-17  \n44352  FIFA World Cup 2022-12-18  \n\n[44353 rows x 7 columns]",
      "text/html": "<div>\n<style scoped>\n    .dataframe tbody tr th:only-of-type {\n        vertical-align: middle;\n    }\n\n    .dataframe tbody tr th {\n        vertical-align: top;\n    }\n\n    .dataframe thead th {\n        text-align: right;\n    }\n</style>\n<table border=\"1\" class=\"dataframe\">\n  <thead>\n    <tr style=\"text-align: right;\">\n      <th></th>\n      <th>date</th>\n      <th>home_team</th>\n      <th>away_team</th>\n      <th>home_score</th>\n      <th>away_score</th>\n      <th>tournament</th>\n      <th>datetime</th>\n    </tr>\n  </thead>\n  <tbody>\n    <tr>\n      <th>0</th>\n      <td>1872-11-30</td>\n      <td>Scotland</td>\n      <td>England</td>\n      <td>0</td>\n      <td>0</td>\n      <td>Friendly</td>\n      <td>1872-11-30</td>\n    </tr>\n    <tr>\n      <th>1</th>\n      <td>1873-03-08</td>\n      <td>England</td>\n      <td>Scotland</td>\n      <td>4</td>\n      <td>2</td>\n      <td>Friendly</td>\n      <td>1873-03-08</td>\n    </tr>\n    <tr>\n      <th>2</th>\n      <td>1874-03-07</td>\n      <td>Scotland</td>\n      <td>England</td>\n      <td>2</td>\n      <td>1</td>\n      <td>Friendly</td>\n      <td>1874-03-07</td>\n    </tr>\n    <tr>\n      <th>3</th>\n      <td>1875-03-06</td>\n      <td>England</td>\n      <td>Scotland</td>\n      <td>2</td>\n      <td>2</td>\n      <td>Friendly</td>\n      <td>1875-03-06</td>\n    </tr>\n    <tr>\n      <th>4</th>\n      <td>1876-03-04</td>\n      <td>Scotland</td>\n      <td>England</td>\n      <td>3</td>\n      <td>0</td>\n      <td>Friendly</td>\n      <td>1876-03-04</td>\n    </tr>\n    <tr>\n      <th>...</th>\n      <td>...</td>\n      <td>...</td>\n      <td>...</td>\n      <td>...</td>\n      <td>...</td>\n      <td>...</td>\n      <td>...</td>\n    </tr>\n    <tr>\n      <th>44348</th>\n      <td>2022-12-14</td>\n      <td>Thailand</td>\n      <td>Taiwan</td>\n      <td>0</td>\n      <td>1</td>\n      <td>Friendly</td>\n      <td>2022-12-14</td>\n    </tr>\n    <tr>\n      <th>44349</th>\n      <td>2022-12-14</td>\n      <td>Vietnam</td>\n      <td>Philippines</td>\n      <td>1</td>\n      <td>0</td>\n      <td>Friendly</td>\n      <td>2022-12-14</td>\n    </tr>\n    <tr>\n      <th>44350</th>\n      <td>2022-12-17</td>\n      <td>Croatia</td>\n      <td>Morocco</td>\n      <td>2</td>\n      <td>1</td>\n      <td>FIFA World Cup</td>\n      <td>2022-12-17</td>\n    </tr>\n    <tr>\n      <th>44351</th>\n      <td>2022-12-17</td>\n      <td>Singapore</td>\n      <td>Maldives</td>\n      <td>3</td>\n      <td>1</td>\n      <td>Friendly</td>\n      <td>2022-12-17</td>\n    </tr>\n    <tr>\n      <th>44352</th>\n      <td>2022-12-18</td>\n      <td>Argentina</td>\n      <td>France</td>\n      <td>3</td>\n      <td>3</td>\n      <td>FIFA World Cup</td>\n      <td>2022-12-18</td>\n    </tr>\n  </tbody>\n</table>\n<p>44353 rows × 7 columns</p>\n</div>"
     },
     "execution_count": 87,
     "metadata": {},
     "output_type": "execute_result"
    }
   ],
   "source": [
    "df_men"
   ],
   "metadata": {
    "collapsed": false,
    "ExecuteTime": {
     "end_time": "2023-10-14T04:00:28.597445800Z",
     "start_time": "2023-10-14T04:00:28.591361400Z"
    }
   }
  },
  {
   "cell_type": "code",
   "execution_count": 88,
   "outputs": [
    {
     "data": {
      "text/plain": "            date home_team    away_team  home_score  away_score  \\\n0     1969-11-01     Italy       France           1           0   \n1     1969-11-01   Denmark      England           4           3   \n2     1969-11-02   England       France           2           0   \n3     1969-11-02     Italy      Denmark           3           1   \n4     1975-08-25  Thailand    Australia           3           2   \n...          ...       ...          ...         ...         ...   \n4879  2022-07-22    Sweden      Belgium           1           0   \n4880  2022-07-23    France  Netherlands           1           0   \n4881  2022-07-26   England       Sweden           4           0   \n4882  2022-07-27   Germany       France           2           1   \n4883  2022-07-31   England      Germany           2           1   \n\n            tournament   datetime  \n0                 Euro 1969-11-01  \n1                 Euro 1969-11-01  \n2                 Euro 1969-11-02  \n3                 Euro 1969-11-02  \n4     AFC Championship 1975-08-25  \n...                ...        ...  \n4879         UEFA Euro 2022-07-22  \n4880         UEFA Euro 2022-07-23  \n4881         UEFA Euro 2022-07-26  \n4882         UEFA Euro 2022-07-27  \n4883         UEFA Euro 2022-07-31  \n\n[4884 rows x 7 columns]",
      "text/html": "<div>\n<style scoped>\n    .dataframe tbody tr th:only-of-type {\n        vertical-align: middle;\n    }\n\n    .dataframe tbody tr th {\n        vertical-align: top;\n    }\n\n    .dataframe thead th {\n        text-align: right;\n    }\n</style>\n<table border=\"1\" class=\"dataframe\">\n  <thead>\n    <tr style=\"text-align: right;\">\n      <th></th>\n      <th>date</th>\n      <th>home_team</th>\n      <th>away_team</th>\n      <th>home_score</th>\n      <th>away_score</th>\n      <th>tournament</th>\n      <th>datetime</th>\n    </tr>\n  </thead>\n  <tbody>\n    <tr>\n      <th>0</th>\n      <td>1969-11-01</td>\n      <td>Italy</td>\n      <td>France</td>\n      <td>1</td>\n      <td>0</td>\n      <td>Euro</td>\n      <td>1969-11-01</td>\n    </tr>\n    <tr>\n      <th>1</th>\n      <td>1969-11-01</td>\n      <td>Denmark</td>\n      <td>England</td>\n      <td>4</td>\n      <td>3</td>\n      <td>Euro</td>\n      <td>1969-11-01</td>\n    </tr>\n    <tr>\n      <th>2</th>\n      <td>1969-11-02</td>\n      <td>England</td>\n      <td>France</td>\n      <td>2</td>\n      <td>0</td>\n      <td>Euro</td>\n      <td>1969-11-02</td>\n    </tr>\n    <tr>\n      <th>3</th>\n      <td>1969-11-02</td>\n      <td>Italy</td>\n      <td>Denmark</td>\n      <td>3</td>\n      <td>1</td>\n      <td>Euro</td>\n      <td>1969-11-02</td>\n    </tr>\n    <tr>\n      <th>4</th>\n      <td>1975-08-25</td>\n      <td>Thailand</td>\n      <td>Australia</td>\n      <td>3</td>\n      <td>2</td>\n      <td>AFC Championship</td>\n      <td>1975-08-25</td>\n    </tr>\n    <tr>\n      <th>...</th>\n      <td>...</td>\n      <td>...</td>\n      <td>...</td>\n      <td>...</td>\n      <td>...</td>\n      <td>...</td>\n      <td>...</td>\n    </tr>\n    <tr>\n      <th>4879</th>\n      <td>2022-07-22</td>\n      <td>Sweden</td>\n      <td>Belgium</td>\n      <td>1</td>\n      <td>0</td>\n      <td>UEFA Euro</td>\n      <td>2022-07-22</td>\n    </tr>\n    <tr>\n      <th>4880</th>\n      <td>2022-07-23</td>\n      <td>France</td>\n      <td>Netherlands</td>\n      <td>1</td>\n      <td>0</td>\n      <td>UEFA Euro</td>\n      <td>2022-07-23</td>\n    </tr>\n    <tr>\n      <th>4881</th>\n      <td>2022-07-26</td>\n      <td>England</td>\n      <td>Sweden</td>\n      <td>4</td>\n      <td>0</td>\n      <td>UEFA Euro</td>\n      <td>2022-07-26</td>\n    </tr>\n    <tr>\n      <th>4882</th>\n      <td>2022-07-27</td>\n      <td>Germany</td>\n      <td>France</td>\n      <td>2</td>\n      <td>1</td>\n      <td>UEFA Euro</td>\n      <td>2022-07-27</td>\n    </tr>\n    <tr>\n      <th>4883</th>\n      <td>2022-07-31</td>\n      <td>England</td>\n      <td>Germany</td>\n      <td>2</td>\n      <td>1</td>\n      <td>UEFA Euro</td>\n      <td>2022-07-31</td>\n    </tr>\n  </tbody>\n</table>\n<p>4884 rows × 7 columns</p>\n</div>"
     },
     "execution_count": 88,
     "metadata": {},
     "output_type": "execute_result"
    }
   ],
   "source": [
    "df_women"
   ],
   "metadata": {
    "collapsed": false,
    "ExecuteTime": {
     "end_time": "2023-10-14T04:00:28.602421700Z",
     "start_time": "2023-10-14T04:00:28.596446300Z"
    }
   }
  },
  {
   "cell_type": "markdown",
   "source": [
    "## Filtering the Data"
   ],
   "metadata": {
    "collapsed": false
   }
  },
  {
   "cell_type": "code",
   "execution_count": 89,
   "id": "6a2a1669-8a9b-47bd-b8f0-a3061da391bb",
   "metadata": {
    "tags": [],
    "ExecuteTime": {
     "end_time": "2023-10-14T04:00:28.882397900Z",
     "start_time": "2023-10-14T04:00:28.860584Z"
    }
   },
   "outputs": [],
   "source": [
    "filter_datetime = datetime.datetime(2002, 1, 1)\n",
    "df_men_2021 = df_men[(df_men[\"datetime\"] >= filter_datetime) & (df_men[\"tournament\"]==\"FIFA World Cup\")].copy()\n",
    "df_women_2021 = df_women[(df_women[\"datetime\"] >= filter_datetime) & (df_women[\"tournament\"]==\"FIFA World Cup\")].copy()\n",
    "\n",
    "df_men_2021[\"total\"] =df_men_2021[\"home_score\"] + df_men_2021[\"away_score\"]\n",
    "df_women_2021[\"total\"] = df_women_2021[\"home_score\"] + df_women_2021[\"away_score\"]"
   ]
  },
  {
   "cell_type": "markdown",
   "source": [
    "## Choosing the Correct Hypothesis Test"
   ],
   "metadata": {
    "collapsed": false
   }
  },
  {
   "cell_type": "markdown",
   "source": [
    "### Normality Test\n",
    "\n",
    "We will use Shapiro-Wilk Test for normality\n",
    "\n",
    "$H_0$: The women's goals and men's come from normal distribution.\n",
    "$H_A$: The women's goals and men's do not come from normal distribution."
   ],
   "metadata": {
    "collapsed": false
   }
  },
  {
   "cell_type": "code",
   "execution_count": 90,
   "outputs": [
    {
     "data": {
      "text/plain": "              W          pval  normal\ntotal  0.849101  3.890520e-13   False",
      "text/html": "<div>\n<style scoped>\n    .dataframe tbody tr th:only-of-type {\n        vertical-align: middle;\n    }\n\n    .dataframe tbody tr th {\n        vertical-align: top;\n    }\n\n    .dataframe thead th {\n        text-align: right;\n    }\n</style>\n<table border=\"1\" class=\"dataframe\">\n  <thead>\n    <tr style=\"text-align: right;\">\n      <th></th>\n      <th>W</th>\n      <th>pval</th>\n      <th>normal</th>\n    </tr>\n  </thead>\n  <tbody>\n    <tr>\n      <th>total</th>\n      <td>0.849101</td>\n      <td>3.890520e-13</td>\n      <td>False</td>\n    </tr>\n  </tbody>\n</table>\n</div>"
     },
     "execution_count": 90,
     "metadata": {},
     "output_type": "execute_result"
    }
   ],
   "source": [
    "women_shapiro_wilk = pingouin.normality(df_women_2021[\"total\"])\n",
    "women_shapiro_wilk"
   ],
   "metadata": {
    "collapsed": false,
    "ExecuteTime": {
     "end_time": "2023-10-14T04:00:29.956535800Z",
     "start_time": "2023-10-14T04:00:29.927379600Z"
    }
   }
  },
  {
   "cell_type": "code",
   "execution_count": 91,
   "outputs": [
    {
     "data": {
      "text/plain": "              W          pval  normal\ntotal  0.926649  8.894154e-13   False",
      "text/html": "<div>\n<style scoped>\n    .dataframe tbody tr th:only-of-type {\n        vertical-align: middle;\n    }\n\n    .dataframe tbody tr th {\n        vertical-align: top;\n    }\n\n    .dataframe thead th {\n        text-align: right;\n    }\n</style>\n<table border=\"1\" class=\"dataframe\">\n  <thead>\n    <tr style=\"text-align: right;\">\n      <th></th>\n      <th>W</th>\n      <th>pval</th>\n      <th>normal</th>\n    </tr>\n  </thead>\n  <tbody>\n    <tr>\n      <th>total</th>\n      <td>0.926649</td>\n      <td>8.894154e-13</td>\n      <td>False</td>\n    </tr>\n  </tbody>\n</table>\n</div>"
     },
     "execution_count": 91,
     "metadata": {},
     "output_type": "execute_result"
    }
   ],
   "source": [
    "men_shapiro_wilk = pingouin.normality(df_men_2021[\"total\"])\n",
    "men_shapiro_wilk"
   ],
   "metadata": {
    "collapsed": false,
    "ExecuteTime": {
     "end_time": "2023-10-14T04:00:33.112368500Z",
     "start_time": "2023-10-14T04:00:33.087272900Z"
    }
   }
  },
  {
   "cell_type": "markdown",
   "source": [
    "In both cases of women's and men's matches we reject the null hypothesis that the distribution of total goals scored is normal since the p-value is very low"
   ],
   "metadata": {
    "collapsed": false
   }
  },
  {
   "cell_type": "code",
   "execution_count": 92,
   "outputs": [
    {
     "data": {
      "text/plain": "<Axes: >"
     },
     "execution_count": 92,
     "metadata": {},
     "output_type": "execute_result"
    },
    {
     "data": {
      "text/plain": "<Figure size 640x480 with 1 Axes>",
      "image/png": "[encoded data removed]"
     },
     "metadata": {},
     "output_type": "display_data"
    }
   ],
   "source": [
    "df_women_2021[\"total\"].hist()"
   ],
   "metadata": {
    "collapsed": false,
    "ExecuteTime": {
     "end_time": "2023-10-14T04:00:33.817234200Z",
     "start_time": "2023-10-14T04:00:33.760489Z"
    }
   }
  },
  {
   "cell_type": "code",
   "execution_count": 93,
   "outputs": [
    {
     "data": {
      "text/plain": "<Axes: >"
     },
     "execution_count": 93,
     "metadata": {},
     "output_type": "execute_result"
    },
    {
     "data": {
      "text/plain": "<Figure size 640x480 with 1 Axes>",
      "image/png": "[encoded data removed]"
     },
     "metadata": {},
     "output_type": "display_data"
    }
   ],
   "source": [
    "df_men_2021[\"total\"].hist()"
   ],
   "metadata": {
    "collapsed": false,
    "ExecuteTime": {
     "end_time": "2023-10-14T04:00:34.633452400Z",
     "start_time": "2023-10-14T04:00:34.571738Z"
    }
   }
  },
  {
   "cell_type": "markdown",
   "source": [
    "The histograms also show that the distributions of goals are not normal"
   ],
   "metadata": {
    "collapsed": false
   }
  },
  {
   "cell_type": "code",
   "execution_count": 94,
   "outputs": [
    {
     "data": {
      "text/plain": "<Figure size 640x480 with 1 Axes>",
      "image/png": "[encoded data removed]"
     },
     "metadata": {},
     "output_type": "display_data"
    }
   ],
   "source": [
    "sm.qqplot(df_women_2021[\"total\"], line='45')\n",
    "plt.show()"
   ],
   "metadata": {
    "collapsed": false,
    "ExecuteTime": {
     "end_time": "2023-10-14T04:01:10.930550400Z",
     "start_time": "2023-10-14T04:01:10.867916600Z"
    }
   }
  },
  {
   "cell_type": "code",
   "execution_count": 95,
   "outputs": [
    {
     "data": {
      "text/plain": "<Figure size 640x480 with 1 Axes>",
      "image/png": "[encoded data removed]"
     },
     "metadata": {},
     "output_type": "display_data"
    }
   ],
   "source": [
    "sm.qqplot(df_men_2021[\"total\"], line='45')\n",
    "plt.show()"
   ],
   "metadata": {
    "collapsed": false,
    "ExecuteTime": {
     "end_time": "2023-10-14T04:02:18.634595900Z",
     "start_time": "2023-10-14T04:02:18.585709300Z"
    }
   }
  },
  {
   "cell_type": "markdown",
   "source": [
    "The q-q plot shows that the data is not normal"
   ],
   "metadata": {
    "collapsed": false
   }
  },
  {
   "cell_type": "code",
   "execution_count": 69,
   "id": "e45ec828-b97f-4b58-9e42-d47f738ecd32",
   "metadata": {
    "ExecuteTime": {
     "end_time": "2023-10-14T03:50:25.623028400Z",
     "start_time": "2023-10-14T03:50:25.620877Z"
    }
   },
   "outputs": [],
   "source": [
    "alpha = 0.1"
   ]
  },
  {
   "cell_type": "markdown",
   "source": [
    "We will us Mann Whitney U-test in this case because:\n",
    "\n",
    "- data is not normally distributed\n",
    "- unpaired data\n",
    "\n",
    "And the hypothesis is:\n",
    "\n",
    "$H_0$: $\\mu_{\\text{women}} = \\mu_{\\text{men}}$\n",
    "$H_A$: $\\mu_{\\text{women}} > \\mu_{\\text{men}}$\n",
    "\n",
    "Also, we will be using right-tailed test"
   ],
   "metadata": {
    "collapsed": false
   }
  },
  {
   "cell_type": "markdown",
   "source": [
    "### Using ```scipy.stats``` library"
   ],
   "metadata": {
    "collapsed": false
   }
  },
  {
   "cell_type": "code",
   "execution_count": 100,
   "outputs": [
    {
     "data": {
      "text/plain": "MannwhitneyuResult(statistic=43273.0, pvalue=0.005106609825443641)"
     },
     "execution_count": 100,
     "metadata": {},
     "output_type": "execute_result"
    }
   ],
   "source": [
    "mwu_scipy_test_results = mannwhitneyu(\n",
    "    x=df_women_2021[\"total\"],\n",
    "    y=df_men_2021[\"total\"],\n",
    "    alternative=\"greater\"\n",
    ")\n",
    "\n",
    "mwu_scipy_test_results"
   ],
   "metadata": {
    "collapsed": false,
    "ExecuteTime": {
     "end_time": "2023-10-14T04:07:21.606097500Z",
     "start_time": "2023-10-14T04:07:21.575866600Z"
    }
   }
  },
  {
   "cell_type": "markdown",
   "source": [
    "### Using ```pingouin``` library"
   ],
   "metadata": {
    "collapsed": false
   }
  },
  {
   "cell_type": "code",
   "execution_count": 101,
   "outputs": [
    {
     "data": {
      "text/plain": "       U-val alternative     p-val       RBC      CLES\nMWU  43273.0     greater  0.005107 -0.126901  0.563451",
      "text/html": "<div>\n<style scoped>\n    .dataframe tbody tr th:only-of-type {\n        vertical-align: middle;\n    }\n\n    .dataframe tbody tr th {\n        vertical-align: top;\n    }\n\n    .dataframe thead th {\n        text-align: right;\n    }\n</style>\n<table border=\"1\" class=\"dataframe\">\n  <thead>\n    <tr style=\"text-align: right;\">\n      <th></th>\n      <th>U-val</th>\n      <th>alternative</th>\n      <th>p-val</th>\n      <th>RBC</th>\n      <th>CLES</th>\n    </tr>\n  </thead>\n  <tbody>\n    <tr>\n      <th>MWU</th>\n      <td>43273.0</td>\n      <td>greater</td>\n      <td>0.005107</td>\n      <td>-0.126901</td>\n      <td>0.563451</td>\n    </tr>\n  </tbody>\n</table>\n</div>"
     },
     "execution_count": 101,
     "metadata": {},
     "output_type": "execute_result"
    }
   ],
   "source": [
    "mwu_pingouin_test_results = pingouin.mwu(\n",
    "    x=df_women_2021[\"total\"],\n",
    "    y=df_men_2021[\"total\"],\n",
    "    alternative=\"greater\"\n",
    ")\n",
    "mwu_pingouin_test_results"
   ],
   "metadata": {
    "collapsed": false,
    "ExecuteTime": {
     "end_time": "2023-10-14T04:07:39.252696900Z",
     "start_time": "2023-10-14T04:07:39.222043100Z"
    }
   }
  },
  {
   "cell_type": "code",
   "execution_count": 102,
   "outputs": [],
   "source": [
    "p_value = mwu_pingouin_test_results[\"p-val\"].iloc[0]"
   ],
   "metadata": {
    "collapsed": false,
    "ExecuteTime": {
     "end_time": "2023-10-14T04:07:45.567544600Z",
     "start_time": "2023-10-14T04:07:45.560540900Z"
    }
   }
  },
  {
   "cell_type": "code",
   "execution_count": 103,
   "outputs": [
    {
     "data": {
      "text/plain": "{'p_val': 0.005106609825443641, 'result': 'reject'}"
     },
     "execution_count": 103,
     "metadata": {},
     "output_type": "execute_result"
    }
   ],
   "source": [
    "result_dict = {\n",
    "    \"p_val\": p_value,\n",
    "    \"result\": \"reject\"\n",
    "}\n",
    "\n",
    "result_dict"
   ],
   "metadata": {
    "collapsed": false,
    "ExecuteTime": {
     "end_time": "2023-10-14T04:07:46.013865800Z",
     "start_time": "2023-10-14T04:07:45.985242700Z"
    }
   }
  },
  {
   "cell_type": "markdown",
   "source": [
    "Since p_value < alpha, we reject the null hypothesis that mean number of goals in women soccer is same as those of men"
   ],
   "metadata": {
    "collapsed": false
   }
  },
  {
   "cell_type": "code",
   "execution_count": null,
   "outputs": [],
   "source": [],
   "metadata": {
    "collapsed": false
   }
  }
 ],
 "metadata": {
  "colab": {
   "name": "Welcome to DataCamp Workspaces.ipynb",
   "provenance": []
  },
  "kernelspec": {
   "display_name": "Python 3 (ipykernel)",
   "language": "python",
   "name": "python3"
  },
  "language_info": {
   "codemirror_mode": {
    "name": "ipython",
    "version": 3
   },
   "file_extension": ".py",
   "mimetype": "text/x-python",
   "name": "python",
   "nbconvert_exporter": "python",
   "pygments_lexer": "ipython3",
   "version": "3.11.5"
  }
 },
 "nbformat": 4,
 "nbformat_minor": 5
}
