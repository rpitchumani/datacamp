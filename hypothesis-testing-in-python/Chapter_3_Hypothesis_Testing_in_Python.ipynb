{
 "cells": [
  {
   "cell_type": "markdown",
   "id": "49b651d1-5517-40fa-a3b6-0c683f66caa6",
   "metadata": {},
   "source": [
    "# Hypothesis Testing in Python"
   ]
  },
  {
   "cell_type": "markdown",
   "id": "75fbcee1-8db9-4673-9cfa-d485aa12d609",
   "metadata": {},
   "source": [
    "## Chapter 3: Proportion Tests"
   ]
  },
  {
   "cell_type": "code",
   "execution_count": 2,
   "id": "58e03314-50ba-4c64-bf1c-e9f9afdda58c",
   "metadata": {
    "ExecuteTime": {
     "end_time": "2023-10-12T15:06:10.144156100Z",
     "start_time": "2023-10-12T15:06:10.021226300Z"
    },
    "tags": []
   },
   "outputs": [],
   "source": [
    "import numpy as np\n",
    "import pandas as pd\n",
    "from scipy.stats import norm, chisquare\n",
    "from statsmodels.stats.proportion import proportions_ztest\n",
    "import pingouin as pg\n",
    "import matplotlib.pyplot as plt"
   ]
  },
  {
   "cell_type": "code",
   "execution_count": 33,
   "id": "56a22c27",
   "metadata": {
    "ExecuteTime": {
     "end_time": "2023-10-12T15:06:10.822361800Z",
     "start_time": "2023-10-12T15:06:10.799816800Z"
    },
    "collapsed": false,
    "jupyter": {
     "outputs_hidden": false
    },
    "tags": []
   },
   "outputs": [
    {
     "data": {
      "text/html": [
       "<div>\n",
       "<style scoped>\n",
       "    .dataframe tbody tr th:only-of-type {\n",
       "        vertical-align: middle;\n",
       "    }\n",
       "\n",
       "    .dataframe tbody tr th {\n",
       "        vertical-align: top;\n",
       "    }\n",
       "\n",
       "    .dataframe thead th {\n",
       "        text-align: right;\n",
       "    }\n",
       "</style>\n",
       "<table border=\"1\" class=\"dataframe\">\n",
       "  <thead>\n",
       "    <tr style=\"text-align: right;\">\n",
       "      <th></th>\n",
       "      <th>id</th>\n",
       "      <th>country</th>\n",
       "      <th>managed_by</th>\n",
       "      <th>fulfill_via</th>\n",
       "      <th>vendor_inco_term</th>\n",
       "      <th>shipment_mode</th>\n",
       "      <th>late_delivery</th>\n",
       "      <th>late</th>\n",
       "      <th>product_group</th>\n",
       "      <th>sub_classification</th>\n",
       "      <th>...</th>\n",
       "      <th>line_item_quantity</th>\n",
       "      <th>line_item_value</th>\n",
       "      <th>pack_price</th>\n",
       "      <th>unit_price</th>\n",
       "      <th>manufacturing_site</th>\n",
       "      <th>first_line_designation</th>\n",
       "      <th>weight_kilograms</th>\n",
       "      <th>freight_cost_usd</th>\n",
       "      <th>freight_cost_groups</th>\n",
       "      <th>line_item_insurance_usd</th>\n",
       "    </tr>\n",
       "  </thead>\n",
       "  <tbody>\n",
       "    <tr>\n",
       "      <th>0</th>\n",
       "      <td>36203.0</td>\n",
       "      <td>Nigeria</td>\n",
       "      <td>PMO - US</td>\n",
       "      <td>Direct Drop</td>\n",
       "      <td>EXW</td>\n",
       "      <td>Air</td>\n",
       "      <td>1.0</td>\n",
       "      <td>Yes</td>\n",
       "      <td>HRDT</td>\n",
       "      <td>HIV test</td>\n",
       "      <td>...</td>\n",
       "      <td>2996.0</td>\n",
       "      <td>266644.00</td>\n",
       "      <td>89.00</td>\n",
       "      <td>0.89</td>\n",
       "      <td>Alere Medical Co., Ltd.</td>\n",
       "      <td>Yes</td>\n",
       "      <td>1426.0</td>\n",
       "      <td>33279.83</td>\n",
       "      <td>expensive</td>\n",
       "      <td>373.83</td>\n",
       "    </tr>\n",
       "    <tr>\n",
       "      <th>1</th>\n",
       "      <td>30998.0</td>\n",
       "      <td>Botswana</td>\n",
       "      <td>PMO - US</td>\n",
       "      <td>Direct Drop</td>\n",
       "      <td>EXW</td>\n",
       "      <td>Air</td>\n",
       "      <td>0.0</td>\n",
       "      <td>No</td>\n",
       "      <td>HRDT</td>\n",
       "      <td>HIV test</td>\n",
       "      <td>...</td>\n",
       "      <td>25.0</td>\n",
       "      <td>800.00</td>\n",
       "      <td>32.00</td>\n",
       "      <td>1.60</td>\n",
       "      <td>Trinity Biotech, Plc</td>\n",
       "      <td>Yes</td>\n",
       "      <td>10.0</td>\n",
       "      <td>559.89</td>\n",
       "      <td>reasonable</td>\n",
       "      <td>1.72</td>\n",
       "    </tr>\n",
       "    <tr>\n",
       "      <th>2</th>\n",
       "      <td>69871.0</td>\n",
       "      <td>Vietnam</td>\n",
       "      <td>PMO - US</td>\n",
       "      <td>Direct Drop</td>\n",
       "      <td>EXW</td>\n",
       "      <td>Air</td>\n",
       "      <td>0.0</td>\n",
       "      <td>No</td>\n",
       "      <td>ARV</td>\n",
       "      <td>Adult</td>\n",
       "      <td>...</td>\n",
       "      <td>22925.0</td>\n",
       "      <td>110040.00</td>\n",
       "      <td>4.80</td>\n",
       "      <td>0.08</td>\n",
       "      <td>Hetero Unit III Hyderabad IN</td>\n",
       "      <td>Yes</td>\n",
       "      <td>3723.0</td>\n",
       "      <td>19056.13</td>\n",
       "      <td>expensive</td>\n",
       "      <td>181.57</td>\n",
       "    </tr>\n",
       "    <tr>\n",
       "      <th>3</th>\n",
       "      <td>17648.0</td>\n",
       "      <td>South Africa</td>\n",
       "      <td>PMO - US</td>\n",
       "      <td>Direct Drop</td>\n",
       "      <td>DDP</td>\n",
       "      <td>Ocean</td>\n",
       "      <td>0.0</td>\n",
       "      <td>No</td>\n",
       "      <td>ARV</td>\n",
       "      <td>Adult</td>\n",
       "      <td>...</td>\n",
       "      <td>152535.0</td>\n",
       "      <td>361507.95</td>\n",
       "      <td>2.37</td>\n",
       "      <td>0.04</td>\n",
       "      <td>Aurobindo Unit III, India</td>\n",
       "      <td>Yes</td>\n",
       "      <td>7698.0</td>\n",
       "      <td>11372.23</td>\n",
       "      <td>expensive</td>\n",
       "      <td>779.41</td>\n",
       "    </tr>\n",
       "    <tr>\n",
       "      <th>4</th>\n",
       "      <td>5647.0</td>\n",
       "      <td>Uganda</td>\n",
       "      <td>PMO - US</td>\n",
       "      <td>Direct Drop</td>\n",
       "      <td>EXW</td>\n",
       "      <td>Air</td>\n",
       "      <td>0.0</td>\n",
       "      <td>No</td>\n",
       "      <td>HRDT</td>\n",
       "      <td>HIV test - Ancillary</td>\n",
       "      <td>...</td>\n",
       "      <td>850.0</td>\n",
       "      <td>8.50</td>\n",
       "      <td>0.01</td>\n",
       "      <td>0.00</td>\n",
       "      <td>Inverness Japan</td>\n",
       "      <td>Yes</td>\n",
       "      <td>56.0</td>\n",
       "      <td>360.00</td>\n",
       "      <td>reasonable</td>\n",
       "      <td>0.01</td>\n",
       "    </tr>\n",
       "    <tr>\n",
       "      <th>...</th>\n",
       "      <td>...</td>\n",
       "      <td>...</td>\n",
       "      <td>...</td>\n",
       "      <td>...</td>\n",
       "      <td>...</td>\n",
       "      <td>...</td>\n",
       "      <td>...</td>\n",
       "      <td>...</td>\n",
       "      <td>...</td>\n",
       "      <td>...</td>\n",
       "      <td>...</td>\n",
       "      <td>...</td>\n",
       "      <td>...</td>\n",
       "      <td>...</td>\n",
       "      <td>...</td>\n",
       "      <td>...</td>\n",
       "      <td>...</td>\n",
       "      <td>...</td>\n",
       "      <td>...</td>\n",
       "      <td>...</td>\n",
       "      <td>...</td>\n",
       "    </tr>\n",
       "    <tr>\n",
       "      <th>995</th>\n",
       "      <td>13608.0</td>\n",
       "      <td>Uganda</td>\n",
       "      <td>PMO - US</td>\n",
       "      <td>Direct Drop</td>\n",
       "      <td>DDP</td>\n",
       "      <td>Air</td>\n",
       "      <td>0.0</td>\n",
       "      <td>No</td>\n",
       "      <td>ARV</td>\n",
       "      <td>Adult</td>\n",
       "      <td>...</td>\n",
       "      <td>121.0</td>\n",
       "      <td>9075.00</td>\n",
       "      <td>75.00</td>\n",
       "      <td>0.62</td>\n",
       "      <td>Janssen-Cilag, Latina, IT</td>\n",
       "      <td>Yes</td>\n",
       "      <td>43.0</td>\n",
       "      <td>199.00</td>\n",
       "      <td>reasonable</td>\n",
       "      <td>12.72</td>\n",
       "    </tr>\n",
       "    <tr>\n",
       "      <th>996</th>\n",
       "      <td>80394.0</td>\n",
       "      <td>Congo, DRC</td>\n",
       "      <td>PMO - US</td>\n",
       "      <td>Direct Drop</td>\n",
       "      <td>EXW</td>\n",
       "      <td>Air</td>\n",
       "      <td>0.0</td>\n",
       "      <td>No</td>\n",
       "      <td>HRDT</td>\n",
       "      <td>HIV test</td>\n",
       "      <td>...</td>\n",
       "      <td>292.0</td>\n",
       "      <td>9344.00</td>\n",
       "      <td>32.00</td>\n",
       "      <td>1.60</td>\n",
       "      <td>Trinity Biotech, Plc</td>\n",
       "      <td>Yes</td>\n",
       "      <td>99.0</td>\n",
       "      <td>2162.55</td>\n",
       "      <td>reasonable</td>\n",
       "      <td>13.10</td>\n",
       "    </tr>\n",
       "    <tr>\n",
       "      <th>997</th>\n",
       "      <td>61675.0</td>\n",
       "      <td>Zambia</td>\n",
       "      <td>PMO - US</td>\n",
       "      <td>Direct Drop</td>\n",
       "      <td>EXW</td>\n",
       "      <td>Air</td>\n",
       "      <td>1.0</td>\n",
       "      <td>Yes</td>\n",
       "      <td>HRDT</td>\n",
       "      <td>HIV test</td>\n",
       "      <td>...</td>\n",
       "      <td>2127.0</td>\n",
       "      <td>170160.00</td>\n",
       "      <td>80.00</td>\n",
       "      <td>0.80</td>\n",
       "      <td>Alere Medical Co., Ltd.</td>\n",
       "      <td>Yes</td>\n",
       "      <td>881.0</td>\n",
       "      <td>14019.38</td>\n",
       "      <td>expensive</td>\n",
       "      <td>210.49</td>\n",
       "    </tr>\n",
       "    <tr>\n",
       "      <th>998</th>\n",
       "      <td>39182.0</td>\n",
       "      <td>South Africa</td>\n",
       "      <td>PMO - US</td>\n",
       "      <td>Direct Drop</td>\n",
       "      <td>DDP</td>\n",
       "      <td>Ocean</td>\n",
       "      <td>0.0</td>\n",
       "      <td>No</td>\n",
       "      <td>ARV</td>\n",
       "      <td>Adult</td>\n",
       "      <td>...</td>\n",
       "      <td>191011.0</td>\n",
       "      <td>861459.61</td>\n",
       "      <td>4.51</td>\n",
       "      <td>0.15</td>\n",
       "      <td>Aurobindo Unit III, India</td>\n",
       "      <td>Yes</td>\n",
       "      <td>16234.0</td>\n",
       "      <td>14439.17</td>\n",
       "      <td>expensive</td>\n",
       "      <td>1421.41</td>\n",
       "    </tr>\n",
       "    <tr>\n",
       "      <th>999</th>\n",
       "      <td>5645.0</td>\n",
       "      <td>Botswana</td>\n",
       "      <td>PMO - US</td>\n",
       "      <td>Direct Drop</td>\n",
       "      <td>EXW</td>\n",
       "      <td>Air</td>\n",
       "      <td>0.0</td>\n",
       "      <td>No</td>\n",
       "      <td>HRDT</td>\n",
       "      <td>HIV test</td>\n",
       "      <td>...</td>\n",
       "      <td>200.0</td>\n",
       "      <td>14398.00</td>\n",
       "      <td>71.99</td>\n",
       "      <td>0.72</td>\n",
       "      <td>Inverness Japan</td>\n",
       "      <td>Yes</td>\n",
       "      <td>46.0</td>\n",
       "      <td>1028.18</td>\n",
       "      <td>reasonable</td>\n",
       "      <td>23.04</td>\n",
       "    </tr>\n",
       "  </tbody>\n",
       "</table>\n",
       "<p>999 rows × 27 columns</p>\n",
       "</div>"
      ],
      "text/plain": [
       "          id       country managed_by  fulfill_via vendor_inco_term  \\\n",
       "0    36203.0       Nigeria   PMO - US  Direct Drop              EXW   \n",
       "1    30998.0      Botswana   PMO - US  Direct Drop              EXW   \n",
       "2    69871.0       Vietnam   PMO - US  Direct Drop              EXW   \n",
       "3    17648.0  South Africa   PMO - US  Direct Drop              DDP   \n",
       "4     5647.0        Uganda   PMO - US  Direct Drop              EXW   \n",
       "..       ...           ...        ...          ...              ...   \n",
       "995  13608.0        Uganda   PMO - US  Direct Drop              DDP   \n",
       "996  80394.0    Congo, DRC   PMO - US  Direct Drop              EXW   \n",
       "997  61675.0        Zambia   PMO - US  Direct Drop              EXW   \n",
       "998  39182.0  South Africa   PMO - US  Direct Drop              DDP   \n",
       "999   5645.0      Botswana   PMO - US  Direct Drop              EXW   \n",
       "\n",
       "    shipment_mode  late_delivery late product_group    sub_classification  \\\n",
       "0             Air            1.0  Yes          HRDT              HIV test   \n",
       "1             Air            0.0   No          HRDT              HIV test   \n",
       "2             Air            0.0   No           ARV                 Adult   \n",
       "3           Ocean            0.0   No           ARV                 Adult   \n",
       "4             Air            0.0   No          HRDT  HIV test - Ancillary   \n",
       "..            ...            ...  ...           ...                   ...   \n",
       "995           Air            0.0   No           ARV                 Adult   \n",
       "996           Air            0.0   No          HRDT              HIV test   \n",
       "997           Air            1.0  Yes          HRDT              HIV test   \n",
       "998         Ocean            0.0   No           ARV                 Adult   \n",
       "999           Air            0.0   No          HRDT              HIV test   \n",
       "\n",
       "     ... line_item_quantity line_item_value pack_price unit_price  \\\n",
       "0    ...             2996.0       266644.00      89.00       0.89   \n",
       "1    ...               25.0          800.00      32.00       1.60   \n",
       "2    ...            22925.0       110040.00       4.80       0.08   \n",
       "3    ...           152535.0       361507.95       2.37       0.04   \n",
       "4    ...              850.0            8.50       0.01       0.00   \n",
       "..   ...                ...             ...        ...        ...   \n",
       "995  ...              121.0         9075.00      75.00       0.62   \n",
       "996  ...              292.0         9344.00      32.00       1.60   \n",
       "997  ...             2127.0       170160.00      80.00       0.80   \n",
       "998  ...           191011.0       861459.61       4.51       0.15   \n",
       "999  ...              200.0        14398.00      71.99       0.72   \n",
       "\n",
       "               manufacturing_site first_line_designation  weight_kilograms  \\\n",
       "0         Alere Medical Co., Ltd.                    Yes            1426.0   \n",
       "1            Trinity Biotech, Plc                    Yes              10.0   \n",
       "2    Hetero Unit III Hyderabad IN                    Yes            3723.0   \n",
       "3       Aurobindo Unit III, India                    Yes            7698.0   \n",
       "4                 Inverness Japan                    Yes              56.0   \n",
       "..                            ...                    ...               ...   \n",
       "995     Janssen-Cilag, Latina, IT                    Yes              43.0   \n",
       "996          Trinity Biotech, Plc                    Yes              99.0   \n",
       "997       Alere Medical Co., Ltd.                    Yes             881.0   \n",
       "998     Aurobindo Unit III, India                    Yes           16234.0   \n",
       "999               Inverness Japan                    Yes              46.0   \n",
       "\n",
       "     freight_cost_usd  freight_cost_groups  line_item_insurance_usd  \n",
       "0            33279.83            expensive                   373.83  \n",
       "1              559.89           reasonable                     1.72  \n",
       "2            19056.13            expensive                   181.57  \n",
       "3            11372.23            expensive                   779.41  \n",
       "4              360.00           reasonable                     0.01  \n",
       "..                ...                  ...                      ...  \n",
       "995            199.00           reasonable                    12.72  \n",
       "996           2162.55           reasonable                    13.10  \n",
       "997          14019.38            expensive                   210.49  \n",
       "998          14439.17            expensive                  1421.41  \n",
       "999           1028.18           reasonable                    23.04  \n",
       "\n",
       "[999 rows x 27 columns]"
      ]
     },
     "execution_count": 33,
     "metadata": {},
     "output_type": "execute_result"
    }
   ],
   "source": [
    "late_shipments = pd.read_feather(\"late_shipments.feather\")\n",
    "late_shipments = late_shipments[late_shipments[\"vendor_inco_term\"] != \"DDU\"].copy()\n",
    "late_shipments"
   ]
  },
  {
   "cell_type": "code",
   "execution_count": 34,
   "id": "d0a3a02c",
   "metadata": {
    "ExecuteTime": {
     "end_time": "2023-10-12T15:06:11.056105700Z",
     "start_time": "2023-10-12T15:06:11.052262800Z"
    },
    "collapsed": false,
    "jupyter": {
     "outputs_hidden": false
    },
    "tags": []
   },
   "outputs": [
    {
     "name": "stdout",
     "output_type": "stream",
     "text": [
      "0.06106106106106106 999\n"
     ]
    }
   ],
   "source": [
    "# Hypothesize that the proportion of late shipments is 6%\n",
    "p_0 = 6/100\n",
    "\n",
    "# Calculate the sample proportion of late shipments\n",
    "p_hat = (late_shipments[\"late\"]==\"Yes\").mean()\n",
    "\n",
    "# Calculate the sample size\n",
    "n = len(late_shipments[\"late\"])\n",
    "\n",
    "# Print p_hat and n\n",
    "print(p_hat, n)"
   ]
  },
  {
   "cell_type": "code",
   "execution_count": 35,
   "id": "319c6364",
   "metadata": {
    "ExecuteTime": {
     "end_time": "2023-10-12T15:06:11.335549600Z",
     "start_time": "2023-10-12T15:06:11.309487Z"
    },
    "collapsed": false,
    "jupyter": {
     "outputs_hidden": false
    },
    "tags": []
   },
   "outputs": [
    {
     "name": "stdout",
     "output_type": "stream",
     "text": [
      "0.14121589054828845\n"
     ]
    }
   ],
   "source": [
    "# Calculate the numerator and denominator of the test statistic\n",
    "numerator = p_hat - p_0\n",
    "denominator = np.sqrt(p_0 * (1 - p_0) / n)\n",
    "\n",
    "# Calculate the test statistic\n",
    "z_score = numerator / denominator\n",
    "\n",
    "# Print the result\n",
    "print(z_score)"
   ]
  },
  {
   "cell_type": "code",
   "execution_count": 36,
   "id": "94176239",
   "metadata": {
    "ExecuteTime": {
     "end_time": "2023-10-12T15:06:11.539509900Z",
     "start_time": "2023-10-12T15:06:11.533635800Z"
    },
    "collapsed": false,
    "jupyter": {
     "outputs_hidden": false
    },
    "tags": []
   },
   "outputs": [
    {
     "name": "stdout",
     "output_type": "stream",
     "text": [
      "0.44384969651518114\n"
     ]
    }
   ],
   "source": [
    "# Calculate the p-value from the z-score\n",
    "p_value = 1 - norm.cdf(z_score)\n",
    "\n",
    "# Print the p-value\n",
    "print(p_value)"
   ]
  },
  {
   "cell_type": "markdown",
   "id": "71809d36",
   "metadata": {},
   "source": [
    "While bootstrapping can be used to estimate the standard error of any statistic, it is computationally intensive. For proportions, using a simple equation of the hypothesized proportion and sample size is easier to compute.\n",
    "\n",
    "Here $p > \\alpha$, so we reject the null hypothesis that proportion of shipments are late is greater than 6%."
   ]
  },
  {
   "cell_type": "markdown",
   "id": "d06ed859",
   "metadata": {},
   "source": [
    "$H_0$: $late_{\\text{expensive}}$ - $late_{\\text{reasonable}}$ $=0$\n",
    "$H_1$: $late_{\\text{expensive}}$ - $late_{\\text{reasonable}}$ $>0$\n"
   ]
  },
  {
   "cell_type": "code",
   "execution_count": 37,
   "id": "8670aea2",
   "metadata": {
    "ExecuteTime": {
     "end_time": "2023-10-12T15:06:12.765699700Z",
     "start_time": "2023-10-12T15:06:12.753933700Z"
    },
    "collapsed": false,
    "jupyter": {
     "outputs_hidden": false
    },
    "tags": []
   },
   "outputs": [
    {
     "data": {
      "text/plain": [
       "freight_cost_groups  late\n",
       "expensive            No      0.920904\n",
       "                     Yes     0.079096\n",
       "reasonable           No      0.964758\n",
       "                     Yes     0.035242\n",
       "Name: proportion, dtype: float64"
      ]
     },
     "execution_count": 37,
     "metadata": {},
     "output_type": "execute_result"
    }
   ],
   "source": [
    "p_hats = late_shipments.groupby(\"freight_cost_groups\")[\"late\"].value_counts(normalize=True)\n",
    "p_hats"
   ]
  },
  {
   "cell_type": "code",
   "execution_count": 38,
   "id": "e9d8a082",
   "metadata": {
    "ExecuteTime": {
     "end_time": "2023-10-12T15:06:13.416537400Z",
     "start_time": "2023-10-12T15:06:13.401354600Z"
    },
    "collapsed": false,
    "jupyter": {
     "outputs_hidden": false
    },
    "tags": []
   },
   "outputs": [
    {
     "data": {
      "text/plain": [
       "freight_cost_groups\n",
       "expensive     531\n",
       "reasonable    454\n",
       "Name: late, dtype: int64"
      ]
     },
     "execution_count": 38,
     "metadata": {},
     "output_type": "execute_result"
    }
   ],
   "source": [
    "ns = late_shipments.groupby(\"freight_cost_groups\")[\"late\"].count()\n",
    "ns"
   ]
  },
  {
   "cell_type": "code",
   "execution_count": 39,
   "id": "22ed618f",
   "metadata": {
    "ExecuteTime": {
     "end_time": "2023-10-12T15:06:13.816415700Z",
     "start_time": "2023-10-12T15:06:13.797610100Z"
    },
    "collapsed": false,
    "jupyter": {
     "outputs_hidden": false
    },
    "tags": []
   },
   "outputs": [
    {
     "name": "stdout",
     "output_type": "stream",
     "text": [
      "0.07909604519774012 0.03524229074889868\n"
     ]
    }
   ],
   "source": [
    "p_hat_expensive = p_hats[(\"expensive\", \"Yes\")]\n",
    "p_hat_reasonable = p_hats[(\"reasonable\", \"Yes\")]\n",
    "print(p_hat_expensive, p_hat_reasonable)"
   ]
  },
  {
   "cell_type": "code",
   "execution_count": 40,
   "id": "da410f7b",
   "metadata": {
    "ExecuteTime": {
     "end_time": "2023-10-12T15:06:14.262812300Z",
     "start_time": "2023-10-12T15:06:14.247964Z"
    },
    "collapsed": false,
    "jupyter": {
     "outputs_hidden": false
    },
    "tags": []
   },
   "outputs": [
    {
     "name": "stdout",
     "output_type": "stream",
     "text": [
      "531 454\n"
     ]
    }
   ],
   "source": [
    "n_expensive = ns[(\"expensive\")]\n",
    "n_reasonable = ns[(\"reasonable\")]\n",
    "print(n_expensive, n_reasonable)"
   ]
  },
  {
   "cell_type": "code",
   "execution_count": 41,
   "id": "501ef5cd",
   "metadata": {
    "ExecuteTime": {
     "end_time": "2023-10-12T15:06:14.665063300Z",
     "start_time": "2023-10-12T15:06:14.663546200Z"
    },
    "collapsed": false,
    "jupyter": {
     "outputs_hidden": false
    },
    "tags": []
   },
   "outputs": [
    {
     "name": "stdout",
     "output_type": "stream",
     "text": [
      "0.05888324873096447\n"
     ]
    }
   ],
   "source": [
    "p_hat = (n_expensive * p_hat_expensive + n_reasonable * p_hat_reasonable)/(n_expensive + n_reasonable)\n",
    "\n",
    "# Print the result\n",
    "print(p_hat)"
   ]
  },
  {
   "cell_type": "code",
   "execution_count": 42,
   "id": "a4c2ad8a",
   "metadata": {
    "ExecuteTime": {
     "end_time": "2023-10-12T15:06:15.101771600Z",
     "start_time": "2023-10-12T15:06:15.078055500Z"
    },
    "collapsed": false,
    "jupyter": {
     "outputs_hidden": false
    },
    "tags": []
   },
   "outputs": [
    {
     "name": "stdout",
     "output_type": "stream",
     "text": [
      "0.015047368671572671\n"
     ]
    }
   ],
   "source": [
    "# Calculate p_hat one minus p_hat\n",
    "p_hat_times_not_p_hat = p_hat * ( 1 - p_hat)\n",
    "\n",
    "# Divide this by each of the sample sizes and then sum\n",
    "p_hat_times_not_p_hat_over_ns = p_hat_times_not_p_hat/n_expensive + p_hat_times_not_p_hat/n_reasonable\n",
    "\n",
    "# Calculate the standard error\n",
    "std_error = np.sqrt(p_hat_times_not_p_hat_over_ns)\n",
    "\n",
    "# Print the result\n",
    "print(std_error)"
   ]
  },
  {
   "cell_type": "code",
   "execution_count": 43,
   "id": "d8c6f27e",
   "metadata": {
    "ExecuteTime": {
     "end_time": "2023-10-12T15:06:15.546321500Z",
     "start_time": "2023-10-12T15:06:15.535484100Z"
    },
    "collapsed": false,
    "jupyter": {
     "outputs_hidden": false
    },
    "tags": []
   },
   "outputs": [
    {
     "name": "stdout",
     "output_type": "stream",
     "text": [
      "2.9143802751167707\n"
     ]
    }
   ],
   "source": [
    "# Calculate the z-score\n",
    "z_score = (p_hat_expensive - p_hat_reasonable)/std_error\n",
    "\n",
    "# Print z_score\n",
    "print(z_score)"
   ]
  },
  {
   "cell_type": "code",
   "execution_count": 44,
   "id": "1ceeee52",
   "metadata": {
    "ExecuteTime": {
     "end_time": "2023-10-12T15:06:16.004480800Z",
     "start_time": "2023-10-12T15:06:15.952429700Z"
    },
    "collapsed": false,
    "jupyter": {
     "outputs_hidden": false
    },
    "tags": []
   },
   "outputs": [
    {
     "name": "stdout",
     "output_type": "stream",
     "text": [
      "0.00178197741124142\n"
     ]
    }
   ],
   "source": [
    "# Calculate the p-value from the z-score\n",
    "p_value = 1 - norm.cdf(z_score)\n",
    "\n",
    "# Print p_value\n",
    "print(p_value)"
   ]
  },
  {
   "cell_type": "markdown",
   "id": "89f6aa37",
   "metadata": {},
   "source": [
    "This low p-value leads us to reject $H_0$ and suspect there is a larger proportion of late shipments for expensive freight compared to reasonable freight."
   ]
  },
  {
   "cell_type": "code",
   "execution_count": 45,
   "id": "8ea78b69",
   "metadata": {
    "ExecuteTime": {
     "end_time": "2023-10-12T15:06:16.664344500Z",
     "start_time": "2023-10-12T15:06:16.634483200Z"
    },
    "collapsed": false,
    "jupyter": {
     "outputs_hidden": false
    },
    "tags": []
   },
   "outputs": [
    {
     "name": "stdout",
     "output_type": "stream",
     "text": [
      "freight_cost_groups  late\n",
      "expensive            No      489\n",
      "                     Yes      42\n",
      "reasonable           No      438\n",
      "                     Yes      16\n",
      "Name: count, dtype: int64\n"
     ]
    }
   ],
   "source": [
    "# Count the late column values for each freight_cost_group\n",
    "late_by_freight_cost_group = late_shipments.groupby(\"freight_cost_groups\")[\"late\"].value_counts()\n",
    "\n",
    "# Print the counts\n",
    "print(late_by_freight_cost_group)"
   ]
  },
  {
   "cell_type": "code",
   "execution_count": 46,
   "id": "df6847ae",
   "metadata": {
    "ExecuteTime": {
     "end_time": "2023-10-12T15:06:17.100519300Z",
     "start_time": "2023-10-12T15:06:17.093932Z"
    },
    "collapsed": false,
    "jupyter": {
     "outputs_hidden": false
    },
    "tags": []
   },
   "outputs": [
    {
     "name": "stdout",
     "output_type": "stream",
     "text": [
      "2.9143802751167707 0.0017819774112414581\n"
     ]
    }
   ],
   "source": [
    "# Count the late column values for each freight_cost_group\n",
    "late_by_freight_cost_group = late_shipments.groupby(\"freight_cost_groups\")['late'].value_counts()\n",
    "\n",
    "# Create an array of the \"Yes\" counts for each freight_cost_group\n",
    "success_counts = np.array([late_by_freight_cost_group[(\"expensive\", \"Yes\")], late_by_freight_cost_group[(\"reasonable\", \"Yes\")]])\n",
    "\n",
    "# Create an array of the total number of rows in each freight_cost_group\n",
    "n = np.array([late_by_freight_cost_group[(\"expensive\")].sum(), late_by_freight_cost_group[(\"reasonable\")].sum()])\n",
    "\n",
    "# Run a z-test on the two proportions\n",
    "stat, p_value = proportions_ztest(count=success_counts, nobs=n, alternative=\"larger\")\n",
    "\n",
    "# Print the results\n",
    "print(stat, p_value)"
   ]
  },
  {
   "cell_type": "markdown",
   "id": "21b015af",
   "metadata": {},
   "source": [
    "$H_0$: ```vendor_inco_term``` and ```freight_cost_group``` are independent.\n",
    "\n",
    "$H_A$: ```vendor_inco_term``` and ```freight_cost_group``` are associated."
   ]
  },
  {
   "cell_type": "code",
   "execution_count": 47,
   "id": "fd03a066",
   "metadata": {
    "ExecuteTime": {
     "end_time": "2023-10-12T15:06:18.211827500Z",
     "start_time": "2023-10-12T15:06:18.196571400Z"
    },
    "collapsed": false,
    "jupyter": {
     "outputs_hidden": false
    },
    "tags": []
   },
   "outputs": [
    {
     "name": "stdout",
     "output_type": "stream",
     "text": [
      "vendor_inco_term  freight_cost_groups\n",
      "CIP               reasonable             0.680000\n",
      "                  expensive              0.320000\n",
      "DDP               expensive              0.550000\n",
      "                  reasonable             0.450000\n",
      "EXW               expensive              0.583448\n",
      "                  reasonable             0.416552\n",
      "FCA               reasonable             0.663636\n",
      "                  expensive              0.336364\n",
      "Name: proportion, dtype: float64\n"
     ]
    }
   ],
   "source": [
    "# Proportion of freight_cost_group grouped by vendor_inco_term\n",
    "props = late_shipments.groupby(\"vendor_inco_term\")[\"freight_cost_groups\"].value_counts(normalize=True)\n",
    "\n",
    "# Print props\n",
    "print(props)"
   ]
  },
  {
   "cell_type": "code",
   "execution_count": 48,
   "id": "5efe6160-2e21-4d1f-92cd-81d32370b825",
   "metadata": {
    "tags": []
   },
   "outputs": [
    {
     "name": "stdout",
     "output_type": "stream",
     "text": [
      "freight_cost_groups  expensive  reasonable\n",
      "vendor_inco_term                          \n",
      "CIP                   0.320000    0.680000\n",
      "DDP                   0.550000    0.450000\n",
      "EXW                   0.583448    0.416552\n",
      "FCA                   0.336364    0.663636\n"
     ]
    }
   ],
   "source": [
    "# Convert props to wide format\n",
    "wide_props = props.unstack()\n",
    "\n",
    "# Print wide_props\n",
    "print(wide_props)"
   ]
  },
  {
   "cell_type": "code",
   "execution_count": 49,
   "id": "5d792205-fab6-41e4-b450-09b7516f30ce",
   "metadata": {
    "tags": []
   },
   "outputs": [
    {
     "data": {
      "image/png": "[encoded data removed]",
      "text/plain": [
       "<Figure size 640x480 with 1 Axes>"
      ]
     },
     "metadata": {},
     "output_type": "display_data"
    }
   ],
   "source": [
    "# Proportional stacked bar plot of freight_cost_group vs. vendor_inco_term\n",
    "wide_props.plot(kind=\"bar\", stacked=True)\n",
    "plt.show()"
   ]
  },
  {
   "cell_type": "code",
   "execution_count": 52,
   "id": "a81c0763-2ad3-4013-a07e-eeac8bad538b",
   "metadata": {
    "tags": []
   },
   "outputs": [
    {
     "name": "stdout",
     "output_type": "stream",
     "text": [
      "      test  lambda     chi2  dof          pval    cramer     power\n",
      "0  pearson     1.0  33.6426  3.0  2.357026e-07  0.183511  0.999424\n"
     ]
    }
   ],
   "source": [
    "# Determine if freight_cost_group and vendor_inco_term are independent\n",
    "expected, observed, stats = pg.chi2_independence(data=late_shipments, x=\"freight_cost_groups\", y=\"vendor_inco_term\")\n",
    "\n",
    "# Print results\n",
    "print(stats[stats['test'] == 'pearson']) "
   ]
  },
  {
   "cell_type": "code",
   "execution_count": 53,
   "id": "dcdecf11-2780-4c81-a3c3-7cea5211c0bf",
   "metadata": {
    "tags": []
   },
   "outputs": [
    {
     "name": "stdout",
     "output_type": "stream",
     "text": [
      "999\n"
     ]
    }
   ],
   "source": [
    "# Find the number of rows in late_shipments\n",
    "n_total = late_shipments.shape[0]\n",
    "\n",
    "# Print n_total\n",
    "print(n_total)"
   ]
  },
  {
   "cell_type": "code",
   "execution_count": 54,
   "id": "0a068258-6993-4f39-a1fa-a81993022aef",
   "metadata": {
    "tags": []
   },
   "outputs": [
    {
     "name": "stdout",
     "output_type": "stream",
     "text": [
      "  vendor_inco_term   prop        n\n",
      "0              CIP  0.050   49.950\n",
      "1              DDP  0.100   99.900\n",
      "2              EXW  0.749  748.251\n",
      "3              FCA  0.100   99.900\n"
     ]
    }
   ],
   "source": [
    "# Create n column that is prop column * n_total\n",
    "hypothesized[\"n\"] = hypothesized[\"prop\"] *n_total\n",
    "\n",
    "# Print the modified hypothesized DataFrame\n",
    "print(hypothesized)"
   ]
  },
  {
   "cell_type": "code",
   "execution_count": 26,
   "id": "0c0fdeff-05d7-410b-89cd-ca04042e43d2",
   "metadata": {
    "tags": []
   },
   "outputs": [
    {
     "data": {
      "image/png": "[encoded data removed]",
      "text/plain": [
       "<Figure size 640x480 with 1 Axes>"
      ]
     },
     "metadata": {},
     "output_type": "display_data"
    }
   ],
   "source": [
    "# Plot a red bar graph of n vs. vendor_inco_term for incoterm_counts\n",
    "plt.bar(incoterm_counts[\"vendor_inco_term\"], incoterm_counts[\"n\"], color=\"red\", label=\"Observed\")\n",
    "plt.legend()\n",
    "plt.show()"
   ]
  },
  {
   "cell_type": "code",
   "execution_count": 55,
   "id": "0c594df8-88fe-42e5-ab49-64c1e235651c",
   "metadata": {
    "tags": []
   },
   "outputs": [
    {
     "data": {
      "image/png": "[encoded data removed]",
      "text/plain": [
       "<Figure size 640x480 with 1 Axes>"
      ]
     },
     "metadata": {},
     "output_type": "display_data"
    }
   ],
   "source": [
    "# Find the number of rows in late_shipments\n",
    "n_total = len(late_shipments)\n",
    "\n",
    "# Create n column that is prop column * n_total\n",
    "hypothesized[\"n\"] = hypothesized[\"prop\"] * n_total\n",
    "\n",
    "# Plot a red bar graph of n vs. vendor_inco_term for incoterm_counts\n",
    "plt.bar(incoterm_counts['vendor_inco_term'], incoterm_counts['n'], color=\"red\", label=\"Observed\")\n",
    "\n",
    "# Add a blue bar plot for the hypothesized counts\n",
    "plt.bar(hypothesized['vendor_inco_term'], hypothesized['n'], color=\"blue\", alpha=0.5, label=\"Hypothesized\")\n",
    "plt.legend()\n",
    "plt.show()"
   ]
  },
  {
   "cell_type": "code",
   "execution_count": 56,
   "id": "cd9509e5",
   "metadata": {
    "ExecuteTime": {
     "end_time": "2023-10-12T15:06:34.285331300Z",
     "start_time": "2023-10-12T15:06:34.255691200Z"
    },
    "collapsed": false,
    "jupyter": {
     "outputs_hidden": false
    },
    "tags": []
   },
   "outputs": [
    {
     "data": {
      "text/html": [
       "<div>\n",
       "<style scoped>\n",
       "    .dataframe tbody tr th:only-of-type {\n",
       "        vertical-align: middle;\n",
       "    }\n",
       "\n",
       "    .dataframe tbody tr th {\n",
       "        vertical-align: top;\n",
       "    }\n",
       "\n",
       "    .dataframe thead th {\n",
       "        text-align: right;\n",
       "    }\n",
       "</style>\n",
       "<table border=\"1\" class=\"dataframe\">\n",
       "  <thead>\n",
       "    <tr style=\"text-align: right;\">\n",
       "      <th></th>\n",
       "      <th>vendor_inco_term</th>\n",
       "      <th>prop</th>\n",
       "    </tr>\n",
       "  </thead>\n",
       "  <tbody>\n",
       "    <tr>\n",
       "      <th>0</th>\n",
       "      <td>CIP</td>\n",
       "      <td>0.050</td>\n",
       "    </tr>\n",
       "    <tr>\n",
       "      <th>1</th>\n",
       "      <td>DDP</td>\n",
       "      <td>0.100</td>\n",
       "    </tr>\n",
       "    <tr>\n",
       "      <th>2</th>\n",
       "      <td>EXW</td>\n",
       "      <td>0.749</td>\n",
       "    </tr>\n",
       "    <tr>\n",
       "      <th>3</th>\n",
       "      <td>FCA</td>\n",
       "      <td>0.100</td>\n",
       "    </tr>\n",
       "  </tbody>\n",
       "</table>\n",
       "</div>"
      ],
      "text/plain": [
       "  vendor_inco_term   prop\n",
       "0              CIP  0.050\n",
       "1              DDP  0.100\n",
       "2              EXW  0.749\n",
       "3              FCA  0.100"
      ]
     },
     "execution_count": 56,
     "metadata": {},
     "output_type": "execute_result"
    }
   ],
   "source": [
    "hypothesized = pd.DataFrame(\n",
    "    zip([\"CIP\", \"DDP\", \"EXW\", \"FCA\"], [0.05, 0.10, 0.749, 0.10]),\n",
    "    columns=[\"vendor_inco_term\", \"prop\"]\n",
    ")\n",
    "hypothesized"
   ]
  },
  {
   "cell_type": "code",
   "execution_count": 87,
   "id": "b00e68f1",
   "metadata": {
    "ExecuteTime": {
     "end_time": "2023-10-12T15:06:34.652986700Z",
     "start_time": "2023-10-12T15:06:34.636136600Z"
    },
    "collapsed": false,
    "jupyter": {
     "outputs_hidden": false
    },
    "tags": []
   },
   "outputs": [
    {
     "name": "stdout",
     "output_type": "stream",
     "text": [
      "  vendor_inco_term   prop      n\n",
      "0              CIP  0.050   50.0\n",
      "1              DDP  0.100  100.0\n",
      "2              EXW  0.749  749.0\n",
      "3              FCA  0.100  100.0\n"
     ]
    }
   ],
   "source": [
    "# Create n column that is prop column * n_total\n",
    "hypothesized[\"n\"] = hypothesized[\"prop\"] * (n_total + 1)\n",
    "\n",
    "# Print the modified hypothesized DataFrame\n",
    "print(hypothesized)"
   ]
  },
  {
   "cell_type": "code",
   "execution_count": 88,
   "id": "723129e1",
   "metadata": {
    "ExecuteTime": {
     "end_time": "2023-10-12T15:06:35.061352700Z",
     "start_time": "2023-10-12T15:06:35.005935800Z"
    },
    "collapsed": false,
    "jupyter": {
     "outputs_hidden": false
    },
    "tags": []
   },
   "outputs": [
    {
     "data": {
      "text/html": [
       "<div>\n",
       "<style scoped>\n",
       "    .dataframe tbody tr th:only-of-type {\n",
       "        vertical-align: middle;\n",
       "    }\n",
       "\n",
       "    .dataframe tbody tr th {\n",
       "        vertical-align: top;\n",
       "    }\n",
       "\n",
       "    .dataframe thead th {\n",
       "        text-align: right;\n",
       "    }\n",
       "</style>\n",
       "<table border=\"1\" class=\"dataframe\">\n",
       "  <thead>\n",
       "    <tr style=\"text-align: right;\">\n",
       "      <th></th>\n",
       "      <th>vendor_inco_term</th>\n",
       "      <th>n</th>\n",
       "    </tr>\n",
       "  </thead>\n",
       "  <tbody>\n",
       "    <tr>\n",
       "      <th>0</th>\n",
       "      <td>EXW</td>\n",
       "      <td>732</td>\n",
       "    </tr>\n",
       "    <tr>\n",
       "      <th>1</th>\n",
       "      <td>FCA</td>\n",
       "      <td>111</td>\n",
       "    </tr>\n",
       "    <tr>\n",
       "      <th>2</th>\n",
       "      <td>DDP</td>\n",
       "      <td>100</td>\n",
       "    </tr>\n",
       "    <tr>\n",
       "      <th>3</th>\n",
       "      <td>CIP</td>\n",
       "      <td>56</td>\n",
       "    </tr>\n",
       "  </tbody>\n",
       "</table>\n",
       "</div>"
      ],
      "text/plain": [
       "  vendor_inco_term    n\n",
       "0              EXW  732\n",
       "1              FCA  111\n",
       "2              DDP  100\n",
       "3              CIP   56"
      ]
     },
     "execution_count": 88,
     "metadata": {},
     "output_type": "execute_result"
    }
   ],
   "source": [
    "incoterm_counts = late_shipments[\"vendor_inco_term\"].value_counts()\n",
    "incoterm_counts = incoterm_counts.reset_index()\n",
    "incoterm_counts.columns = [\"vendor_inco_term\", \"n\"]\n",
    "\n",
    "incoterm_counts"
   ]
  },
  {
   "cell_type": "code",
   "execution_count": 89,
   "id": "09033239",
   "metadata": {
    "ExecuteTime": {
     "end_time": "2023-10-12T15:06:35.324371200Z",
     "start_time": "2023-10-12T15:06:35.272212900Z"
    },
    "collapsed": false,
    "jupyter": {
     "outputs_hidden": false
    },
    "tags": []
   },
   "outputs": [
    {
     "data": {
      "image/png": "[encoded data removed]",
      "text/plain": [
       "<Figure size 640x480 with 1 Axes>"
      ]
     },
     "metadata": {},
     "output_type": "display_data"
    }
   ],
   "source": [
    "# Plot a red bar graph of n vs. vendor_inco_term for incoterm_counts\n",
    "plt.bar(incoterm_counts[\"vendor_inco_term\"], incoterm_counts[\"n\"], color=\"red\", label=\"Observed\")\n",
    "plt.legend()\n",
    "plt.show()"
   ]
  },
  {
   "cell_type": "code",
   "execution_count": 90,
   "id": "d5e54b81",
   "metadata": {
    "ExecuteTime": {
     "end_time": "2023-10-12T15:06:35.778462500Z",
     "start_time": "2023-10-12T15:06:35.729319900Z"
    },
    "collapsed": false,
    "jupyter": {
     "outputs_hidden": false
    },
    "tags": []
   },
   "outputs": [
    {
     "data": {
      "image/png": "[encoded data removed]",
      "text/plain": [
       "<Figure size 640x480 with 1 Axes>"
      ]
     },
     "metadata": {},
     "output_type": "display_data"
    }
   ],
   "source": [
    "# Add a blue bar plot for the hypothesized counts\n",
    "plt.bar(hypothesized['vendor_inco_term'], hypothesized['n'], color=\"blue\", alpha=0.5, label=\"Hypothesized\")\n",
    "plt.legend()\n",
    "plt.show()"
   ]
  },
  {
   "cell_type": "code",
   "execution_count": 91,
   "id": "337eeb54",
   "metadata": {
    "ExecuteTime": {
     "end_time": "2023-10-12T15:06:36.115816600Z",
     "start_time": "2023-10-12T15:06:36.040046200Z"
    },
    "collapsed": false,
    "jupyter": {
     "outputs_hidden": false
    },
    "tags": []
   },
   "outputs": [
    {
     "data": {
      "text/plain": [
       "<matplotlib.legend.Legend at 0x267e8caea90>"
      ]
     },
     "execution_count": 91,
     "metadata": {},
     "output_type": "execute_result"
    },
    {
     "data": {
      "image/png": "[encoded data removed]",
      "text/plain": [
       "<Figure size 640x480 with 1 Axes>"
      ]
     },
     "metadata": {},
     "output_type": "display_data"
    }
   ],
   "source": [
    "# Plot a red bar graph of n vs. vendor_inco_term for incoterm_counts\n",
    "plt.bar(incoterm_counts[\"vendor_inco_term\"], incoterm_counts[\"n\"], color=\"red\", label=\"Observed\")\n",
    "plt.bar(hypothesized['vendor_inco_term'], hypothesized['n'], color=\"blue\", alpha=0.5, label=\"Hypothesized\")\n",
    "plt.legend()"
   ]
  },
  {
   "cell_type": "markdown",
   "id": "210eae86",
   "metadata": {},
   "source": [
    "We need to keep the order of values same as ```chisquare``` function takes in series. So we will merge the two dataframes"
   ]
  },
  {
   "cell_type": "code",
   "execution_count": 96,
   "id": "512b75fe",
   "metadata": {
    "ExecuteTime": {
     "end_time": "2023-10-12T15:06:36.713476600Z",
     "start_time": "2023-10-12T15:06:36.697746600Z"
    },
    "collapsed": false,
    "jupyter": {
     "outputs_hidden": false
    },
    "tags": []
   },
   "outputs": [
    {
     "data": {
      "text/html": [
       "<div>\n",
       "<style scoped>\n",
       "    .dataframe tbody tr th:only-of-type {\n",
       "        vertical-align: middle;\n",
       "    }\n",
       "\n",
       "    .dataframe tbody tr th {\n",
       "        vertical-align: top;\n",
       "    }\n",
       "\n",
       "    .dataframe thead th {\n",
       "        text-align: right;\n",
       "    }\n",
       "</style>\n",
       "<table border=\"1\" class=\"dataframe\">\n",
       "  <thead>\n",
       "    <tr style=\"text-align: right;\">\n",
       "      <th></th>\n",
       "      <th>vendor_inco_term</th>\n",
       "      <th>n_x</th>\n",
       "      <th>prop</th>\n",
       "      <th>n_y</th>\n",
       "    </tr>\n",
       "  </thead>\n",
       "  <tbody>\n",
       "    <tr>\n",
       "      <th>0</th>\n",
       "      <td>EXW</td>\n",
       "      <td>732</td>\n",
       "      <td>0.749</td>\n",
       "      <td>749.0</td>\n",
       "    </tr>\n",
       "    <tr>\n",
       "      <th>1</th>\n",
       "      <td>FCA</td>\n",
       "      <td>111</td>\n",
       "      <td>0.100</td>\n",
       "      <td>100.0</td>\n",
       "    </tr>\n",
       "    <tr>\n",
       "      <th>2</th>\n",
       "      <td>DDP</td>\n",
       "      <td>100</td>\n",
       "      <td>0.100</td>\n",
       "      <td>100.0</td>\n",
       "    </tr>\n",
       "    <tr>\n",
       "      <th>3</th>\n",
       "      <td>CIP</td>\n",
       "      <td>56</td>\n",
       "      <td>0.050</td>\n",
       "      <td>50.0</td>\n",
       "    </tr>\n",
       "  </tbody>\n",
       "</table>\n",
       "</div>"
      ],
      "text/plain": [
       "  vendor_inco_term  n_x   prop    n_y\n",
       "0              EXW  732  0.749  749.0\n",
       "1              FCA  111  0.100  100.0\n",
       "2              DDP  100  0.100  100.0\n",
       "3              CIP   56  0.050   50.0"
      ]
     },
     "execution_count": 96,
     "metadata": {},
     "output_type": "execute_result"
    }
   ],
   "source": [
    "df = pd.merge(\n",
    "    incoterm_counts,\n",
    "    hypothesized,\n",
    "    how=\"inner\",\n",
    "    left_on=\"vendor_inco_term\",\n",
    "    right_on=\"vendor_inco_term\",\n",
    ")\n",
    "\n",
    "df"
   ]
  },
  {
   "cell_type": "code",
   "execution_count": 97,
   "id": "cda12f50-5a3c-44ec-a72d-e6f25d370d3f",
   "metadata": {
    "tags": []
   },
   "outputs": [
    {
     "name": "stdout",
     "output_type": "stream",
     "text": [
      "999\n",
      "999.0\n"
     ]
    }
   ],
   "source": [
    "print(df[\"n_x\"].sum())\n",
    "print(df[\"n_y\"].sum())\n"
   ]
  },
  {
   "cell_type": "code",
   "execution_count": 98,
   "id": "b7e1d6f5",
   "metadata": {
    "ExecuteTime": {
     "end_time": "2023-10-12T15:06:36.975315400Z",
     "start_time": "2023-10-12T15:06:36.970690700Z"
    },
    "collapsed": false,
    "jupyter": {
     "outputs_hidden": false
    },
    "tags": []
   },
   "outputs": [
    {
     "name": "stdout",
     "output_type": "stream",
     "text": [
      "Power_divergenceResult(statistic=2.3158477970627502, pvalue=0.5094916902897231)\n"
     ]
    }
   ],
   "source": [
    "# Perform a goodness of fit test on the incoterm counts n\n",
    "gof_test = chisquare(\n",
    "    f_obs=df[\"n_x\"],\n",
    "    f_exp=df[\"n_y\"]\n",
    ")\n",
    "\n",
    "# Print gof_test results\n",
    "print(gof_test)"
   ]
  },
  {
   "cell_type": "markdown",
   "id": "c24edd82",
   "metadata": {},
   "source": [
    "Since $p$ is greater than significance value of 0.1, we fail to reject the null hypothesis and conclude that ```n``` follows the distribution specified by ```hypothesized```"
   ]
  }
 ],
 "metadata": {
  "kernelspec": {
   "display_name": "Python 3 (ipykernel)",
   "language": "python",
   "name": "python3"
  },
  "language_info": {
   "codemirror_mode": {
    "name": "ipython",
    "version": 3
   },
   "file_extension": ".py",
   "mimetype": "text/x-python",
   "name": "python",
   "nbconvert_exporter": "python",
   "pygments_lexer": "ipython3",
   "version": "3.11.5"
  }
 },
 "nbformat": 4,
 "nbformat_minor": 5
}
