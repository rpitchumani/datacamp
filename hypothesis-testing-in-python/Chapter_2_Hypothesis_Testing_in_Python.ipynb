{
 "cells": [
  {
   "cell_type": "markdown",
   "id": "49b651d1-5517-40fa-a3b6-0c683f66caa6",
   "metadata": {},
   "source": [
    "# Hypothesis Testing in Python"
   ]
  },
  {
   "cell_type": "markdown",
   "id": "75fbcee1-8db9-4673-9cfa-d485aa12d609",
   "metadata": {},
   "source": [
    "## Chapter 2: Two-Sample and ANOVA Tests"
   ]
  },
  {
   "cell_type": "code",
   "execution_count": 1,
   "id": "58e03314-50ba-4c64-bf1c-e9f9afdda58c",
   "metadata": {
    "tags": [],
    "ExecuteTime": {
     "end_time": "2023-10-11T00:34:31.323132400Z",
     "start_time": "2023-10-11T00:34:31.192587800Z"
    }
   },
   "outputs": [],
   "source": [
    "import numpy as np\n",
    "import pandas as pd\n",
    "from scipy.stats import t\n",
    "import pingouin as pg\n",
    "import matplotlib.pyplot as plt\n",
    "import seaborn as sns"
   ]
  },
  {
   "cell_type": "markdown",
   "source": [
    "1. Specify the null and alternative hypothesis\n",
    "2. Conduct hypothesis test in Python\n",
    "3. Identify population parameter that is hypothesized about\n",
    "4. Interpret the results in the context of the original problem\n",
    "5. Measure evidence against the null hypothesis\n",
    "6. Determine (standardized) test statistic and corresponding null distribution\n",
    "7. Make a decision comparing evidence to significance level"
   ],
   "metadata": {
    "collapsed": false
   }
  },
  {
   "cell_type": "code",
   "execution_count": 2,
   "outputs": [
    {
     "data": {
      "text/plain": "          id       country managed_by  fulfill_via vendor_inco_term  \\\n0    36203.0       Nigeria   PMO - US  Direct Drop              EXW   \n1    30998.0      Botswana   PMO - US  Direct Drop              EXW   \n2    69871.0       Vietnam   PMO - US  Direct Drop              EXW   \n3    17648.0  South Africa   PMO - US  Direct Drop              DDP   \n4     5647.0        Uganda   PMO - US  Direct Drop              EXW   \n..       ...           ...        ...          ...              ...   \n995  13608.0        Uganda   PMO - US  Direct Drop              DDP   \n996  80394.0    Congo, DRC   PMO - US  Direct Drop              EXW   \n997  61675.0        Zambia   PMO - US  Direct Drop              EXW   \n998  39182.0  South Africa   PMO - US  Direct Drop              DDP   \n999   5645.0      Botswana   PMO - US  Direct Drop              EXW   \n\n    shipment_mode  late_delivery late product_group    sub_classification  \\\n0             Air            1.0  Yes          HRDT              HIV test   \n1             Air            0.0   No          HRDT              HIV test   \n2             Air            0.0   No           ARV                 Adult   \n3           Ocean            0.0   No           ARV                 Adult   \n4             Air            0.0   No          HRDT  HIV test - Ancillary   \n..            ...            ...  ...           ...                   ...   \n995           Air            0.0   No           ARV                 Adult   \n996           Air            0.0   No          HRDT              HIV test   \n997           Air            1.0  Yes          HRDT              HIV test   \n998         Ocean            0.0   No           ARV                 Adult   \n999           Air            0.0   No          HRDT              HIV test   \n\n     ... line_item_quantity line_item_value pack_price unit_price  \\\n0    ...             2996.0       266644.00      89.00       0.89   \n1    ...               25.0          800.00      32.00       1.60   \n2    ...            22925.0       110040.00       4.80       0.08   \n3    ...           152535.0       361507.95       2.37       0.04   \n4    ...              850.0            8.50       0.01       0.00   \n..   ...                ...             ...        ...        ...   \n995  ...              121.0         9075.00      75.00       0.62   \n996  ...              292.0         9344.00      32.00       1.60   \n997  ...             2127.0       170160.00      80.00       0.80   \n998  ...           191011.0       861459.61       4.51       0.15   \n999  ...              200.0        14398.00      71.99       0.72   \n\n               manufacturing_site first_line_designation  weight_kilograms  \\\n0         Alere Medical Co., Ltd.                    Yes            1426.0   \n1            Trinity Biotech, Plc                    Yes              10.0   \n2    Hetero Unit III Hyderabad IN                    Yes            3723.0   \n3       Aurobindo Unit III, India                    Yes            7698.0   \n4                 Inverness Japan                    Yes              56.0   \n..                            ...                    ...               ...   \n995     Janssen-Cilag, Latina, IT                    Yes              43.0   \n996          Trinity Biotech, Plc                    Yes              99.0   \n997       Alere Medical Co., Ltd.                    Yes             881.0   \n998     Aurobindo Unit III, India                    Yes           16234.0   \n999               Inverness Japan                    Yes              46.0   \n\n     freight_cost_usd  freight_cost_groups  line_item_insurance_usd  \n0            33279.83            expensive                   373.83  \n1              559.89           reasonable                     1.72  \n2            19056.13            expensive                   181.57  \n3            11372.23            expensive                   779.41  \n4              360.00           reasonable                     0.01  \n..                ...                  ...                      ...  \n995            199.00           reasonable                    12.72  \n996           2162.55           reasonable                    13.10  \n997          14019.38            expensive                   210.49  \n998          14439.17            expensive                  1421.41  \n999           1028.18           reasonable                    23.04  \n\n[1000 rows x 27 columns]",
      "text/html": "<div>\n<style scoped>\n    .dataframe tbody tr th:only-of-type {\n        vertical-align: middle;\n    }\n\n    .dataframe tbody tr th {\n        vertical-align: top;\n    }\n\n    .dataframe thead th {\n        text-align: right;\n    }\n</style>\n<table border=\"1\" class=\"dataframe\">\n  <thead>\n    <tr style=\"text-align: right;\">\n      <th></th>\n      <th>id</th>\n      <th>country</th>\n      <th>managed_by</th>\n      <th>fulfill_via</th>\n      <th>vendor_inco_term</th>\n      <th>shipment_mode</th>\n      <th>late_delivery</th>\n      <th>late</th>\n      <th>product_group</th>\n      <th>sub_classification</th>\n      <th>...</th>\n      <th>line_item_quantity</th>\n      <th>line_item_value</th>\n      <th>pack_price</th>\n      <th>unit_price</th>\n      <th>manufacturing_site</th>\n      <th>first_line_designation</th>\n      <th>weight_kilograms</th>\n      <th>freight_cost_usd</th>\n      <th>freight_cost_groups</th>\n      <th>line_item_insurance_usd</th>\n    </tr>\n  </thead>\n  <tbody>\n    <tr>\n      <th>0</th>\n      <td>36203.0</td>\n      <td>Nigeria</td>\n      <td>PMO - US</td>\n      <td>Direct Drop</td>\n      <td>EXW</td>\n      <td>Air</td>\n      <td>1.0</td>\n      <td>Yes</td>\n      <td>HRDT</td>\n      <td>HIV test</td>\n      <td>...</td>\n      <td>2996.0</td>\n      <td>266644.00</td>\n      <td>89.00</td>\n      <td>0.89</td>\n      <td>Alere Medical Co., Ltd.</td>\n      <td>Yes</td>\n      <td>1426.0</td>\n      <td>33279.83</td>\n      <td>expensive</td>\n      <td>373.83</td>\n    </tr>\n    <tr>\n      <th>1</th>\n      <td>30998.0</td>\n      <td>Botswana</td>\n      <td>PMO - US</td>\n      <td>Direct Drop</td>\n      <td>EXW</td>\n      <td>Air</td>\n      <td>0.0</td>\n      <td>No</td>\n      <td>HRDT</td>\n      <td>HIV test</td>\n      <td>...</td>\n      <td>25.0</td>\n      <td>800.00</td>\n      <td>32.00</td>\n      <td>1.60</td>\n      <td>Trinity Biotech, Plc</td>\n      <td>Yes</td>\n      <td>10.0</td>\n      <td>559.89</td>\n      <td>reasonable</td>\n      <td>1.72</td>\n    </tr>\n    <tr>\n      <th>2</th>\n      <td>69871.0</td>\n      <td>Vietnam</td>\n      <td>PMO - US</td>\n      <td>Direct Drop</td>\n      <td>EXW</td>\n      <td>Air</td>\n      <td>0.0</td>\n      <td>No</td>\n      <td>ARV</td>\n      <td>Adult</td>\n      <td>...</td>\n      <td>22925.0</td>\n      <td>110040.00</td>\n      <td>4.80</td>\n      <td>0.08</td>\n      <td>Hetero Unit III Hyderabad IN</td>\n      <td>Yes</td>\n      <td>3723.0</td>\n      <td>19056.13</td>\n      <td>expensive</td>\n      <td>181.57</td>\n    </tr>\n    <tr>\n      <th>3</th>\n      <td>17648.0</td>\n      <td>South Africa</td>\n      <td>PMO - US</td>\n      <td>Direct Drop</td>\n      <td>DDP</td>\n      <td>Ocean</td>\n      <td>0.0</td>\n      <td>No</td>\n      <td>ARV</td>\n      <td>Adult</td>\n      <td>...</td>\n      <td>152535.0</td>\n      <td>361507.95</td>\n      <td>2.37</td>\n      <td>0.04</td>\n      <td>Aurobindo Unit III, India</td>\n      <td>Yes</td>\n      <td>7698.0</td>\n      <td>11372.23</td>\n      <td>expensive</td>\n      <td>779.41</td>\n    </tr>\n    <tr>\n      <th>4</th>\n      <td>5647.0</td>\n      <td>Uganda</td>\n      <td>PMO - US</td>\n      <td>Direct Drop</td>\n      <td>EXW</td>\n      <td>Air</td>\n      <td>0.0</td>\n      <td>No</td>\n      <td>HRDT</td>\n      <td>HIV test - Ancillary</td>\n      <td>...</td>\n      <td>850.0</td>\n      <td>8.50</td>\n      <td>0.01</td>\n      <td>0.00</td>\n      <td>Inverness Japan</td>\n      <td>Yes</td>\n      <td>56.0</td>\n      <td>360.00</td>\n      <td>reasonable</td>\n      <td>0.01</td>\n    </tr>\n    <tr>\n      <th>...</th>\n      <td>...</td>\n      <td>...</td>\n      <td>...</td>\n      <td>...</td>\n      <td>...</td>\n      <td>...</td>\n      <td>...</td>\n      <td>...</td>\n      <td>...</td>\n      <td>...</td>\n      <td>...</td>\n      <td>...</td>\n      <td>...</td>\n      <td>...</td>\n      <td>...</td>\n      <td>...</td>\n      <td>...</td>\n      <td>...</td>\n      <td>...</td>\n      <td>...</td>\n      <td>...</td>\n    </tr>\n    <tr>\n      <th>995</th>\n      <td>13608.0</td>\n      <td>Uganda</td>\n      <td>PMO - US</td>\n      <td>Direct Drop</td>\n      <td>DDP</td>\n      <td>Air</td>\n      <td>0.0</td>\n      <td>No</td>\n      <td>ARV</td>\n      <td>Adult</td>\n      <td>...</td>\n      <td>121.0</td>\n      <td>9075.00</td>\n      <td>75.00</td>\n      <td>0.62</td>\n      <td>Janssen-Cilag, Latina, IT</td>\n      <td>Yes</td>\n      <td>43.0</td>\n      <td>199.00</td>\n      <td>reasonable</td>\n      <td>12.72</td>\n    </tr>\n    <tr>\n      <th>996</th>\n      <td>80394.0</td>\n      <td>Congo, DRC</td>\n      <td>PMO - US</td>\n      <td>Direct Drop</td>\n      <td>EXW</td>\n      <td>Air</td>\n      <td>0.0</td>\n      <td>No</td>\n      <td>HRDT</td>\n      <td>HIV test</td>\n      <td>...</td>\n      <td>292.0</td>\n      <td>9344.00</td>\n      <td>32.00</td>\n      <td>1.60</td>\n      <td>Trinity Biotech, Plc</td>\n      <td>Yes</td>\n      <td>99.0</td>\n      <td>2162.55</td>\n      <td>reasonable</td>\n      <td>13.10</td>\n    </tr>\n    <tr>\n      <th>997</th>\n      <td>61675.0</td>\n      <td>Zambia</td>\n      <td>PMO - US</td>\n      <td>Direct Drop</td>\n      <td>EXW</td>\n      <td>Air</td>\n      <td>1.0</td>\n      <td>Yes</td>\n      <td>HRDT</td>\n      <td>HIV test</td>\n      <td>...</td>\n      <td>2127.0</td>\n      <td>170160.00</td>\n      <td>80.00</td>\n      <td>0.80</td>\n      <td>Alere Medical Co., Ltd.</td>\n      <td>Yes</td>\n      <td>881.0</td>\n      <td>14019.38</td>\n      <td>expensive</td>\n      <td>210.49</td>\n    </tr>\n    <tr>\n      <th>998</th>\n      <td>39182.0</td>\n      <td>South Africa</td>\n      <td>PMO - US</td>\n      <td>Direct Drop</td>\n      <td>DDP</td>\n      <td>Ocean</td>\n      <td>0.0</td>\n      <td>No</td>\n      <td>ARV</td>\n      <td>Adult</td>\n      <td>...</td>\n      <td>191011.0</td>\n      <td>861459.61</td>\n      <td>4.51</td>\n      <td>0.15</td>\n      <td>Aurobindo Unit III, India</td>\n      <td>Yes</td>\n      <td>16234.0</td>\n      <td>14439.17</td>\n      <td>expensive</td>\n      <td>1421.41</td>\n    </tr>\n    <tr>\n      <th>999</th>\n      <td>5645.0</td>\n      <td>Botswana</td>\n      <td>PMO - US</td>\n      <td>Direct Drop</td>\n      <td>EXW</td>\n      <td>Air</td>\n      <td>0.0</td>\n      <td>No</td>\n      <td>HRDT</td>\n      <td>HIV test</td>\n      <td>...</td>\n      <td>200.0</td>\n      <td>14398.00</td>\n      <td>71.99</td>\n      <td>0.72</td>\n      <td>Inverness Japan</td>\n      <td>Yes</td>\n      <td>46.0</td>\n      <td>1028.18</td>\n      <td>reasonable</td>\n      <td>23.04</td>\n    </tr>\n  </tbody>\n</table>\n<p>1000 rows × 27 columns</p>\n</div>"
     },
     "execution_count": 2,
     "metadata": {},
     "output_type": "execute_result"
    }
   ],
   "source": [
    "late_shipments = pd.read_feather(\"late_shipments.feather\")\n",
    "late_shipments"
   ],
   "metadata": {
    "collapsed": false,
    "ExecuteTime": {
     "end_time": "2023-10-11T00:34:31.344604800Z",
     "start_time": "2023-10-11T00:34:31.322131800Z"
    }
   }
  },
  {
   "cell_type": "code",
   "execution_count": 3,
   "outputs": [
    {
     "name": "stdout",
     "output_type": "stream",
     "text": [
      "2715.6721311475408 2544.688210903328 61\n",
      "1897.7912673056444 3154.039507084167 939\n"
     ]
    }
   ],
   "source": [
    "late_shipments_yes = late_shipments[late_shipments[\"late\"]==\"Yes\"].copy()\n",
    "late_shipments_no = late_shipments[late_shipments[\"late\"]==\"No\"].copy()\n",
    "\n",
    "xbar_yes = late_shipments_yes[\"weight_kilograms\"].mean()\n",
    "xbar_no = late_shipments_no[\"weight_kilograms\"].mean()\n",
    "\n",
    "s_yes = late_shipments_yes[\"weight_kilograms\"].std()\n",
    "s_no = late_shipments_no[\"weight_kilograms\"].std()\n",
    "\n",
    "n_yes = late_shipments_yes[\"weight_kilograms\"].count()\n",
    "n_no = late_shipments_no[\"weight_kilograms\"].count()\n",
    "\n",
    "print(xbar_yes, s_yes, n_yes)\n",
    "print(xbar_no, s_no, n_no)"
   ],
   "metadata": {
    "collapsed": false,
    "ExecuteTime": {
     "end_time": "2023-10-11T00:34:31.348148200Z",
     "start_time": "2023-10-11T00:34:31.342539100Z"
    }
   }
  },
  {
   "cell_type": "code",
   "execution_count": 4,
   "outputs": [
    {
     "name": "stdout",
     "output_type": "stream",
     "text": [
      "-2.3936661778766433\n"
     ]
    }
   ],
   "source": [
    "# Calculate the numerator of the test statistic\n",
    "numerator = (xbar_no - xbar_yes)\n",
    "\n",
    "# Calculate the denominator of the test statistic\n",
    "denominator = np.sqrt((s_yes**2/n_yes) + (s_no**2/n_no))\n",
    "\n",
    "# Calculate the test statistic\n",
    "t_stat = numerator/denominator\n",
    "\n",
    "# Print the test statistic\n",
    "print(t_stat)"
   ],
   "metadata": {
    "collapsed": false,
    "ExecuteTime": {
     "end_time": "2023-10-11T00:34:31.369646800Z",
     "start_time": "2023-10-11T00:34:31.347148700Z"
    }
   }
  },
  {
   "cell_type": "markdown",
   "source": [
    "$H_0$: The mean weight of shipments that weren't late is the same as the mean weight of shipments that were late.\n",
    "\n",
    "$H_A$: The mean weight of shipments that weren't late is less than the mean weight of shipments that were late.\n",
    "\n",
    "In this case we will use left-tailed since the alternative hypothesis indicates less than.\n",
    "\n",
    "If $p \\leq \\alpha$ then reject $H_0$"
   ],
   "metadata": {
    "collapsed": false
   }
  },
  {
   "cell_type": "code",
   "execution_count": 5,
   "outputs": [
    {
     "name": "stdout",
     "output_type": "stream",
     "text": [
      "0.008432382146249523\n"
     ]
    }
   ],
   "source": [
    "alpha = 0.05\n",
    "\n",
    "# Calculate the degrees of freedom\n",
    "degrees_of_freedom = n_no + n_yes - 2\n",
    "\n",
    "# Calculate the p-value from the test stat\n",
    "p_value = t.cdf(t_stat, df=degrees_of_freedom)\n",
    "\n",
    "# Print the p_value\n",
    "print(p_value)\n"
   ],
   "metadata": {
    "collapsed": false,
    "ExecuteTime": {
     "end_time": "2023-10-11T00:34:33.095767900Z",
     "start_time": "2023-10-11T00:34:33.086582900Z"
    }
   }
  },
  {
   "cell_type": "code",
   "execution_count": 6,
   "outputs": [
    {
     "data": {
      "text/plain": "       state       county  dem_percent_12  dem_percent_16\n0    Alabama      Bullock       76.305900       74.946921\n1    Alabama      Chilton       19.453671       15.847352\n2    Alabama         Clay       26.673672       18.674517\n3    Alabama      Cullman       14.661752       10.028252\n4    Alabama     Escambia       36.915731       31.020546\n..       ...          ...             ...             ...\n495  Wyoming        Uinta       19.065464       14.191263\n496  Wyoming     Washakie       20.131846       13.948610\n497   Alaska   District 3       33.514582       16.301064\n498   Alaska  District 18       61.284271       52.810051\n499   Alaska  District 24       42.913980       39.405286\n\n[500 rows x 4 columns]",
      "text/html": "<div>\n<style scoped>\n    .dataframe tbody tr th:only-of-type {\n        vertical-align: middle;\n    }\n\n    .dataframe tbody tr th {\n        vertical-align: top;\n    }\n\n    .dataframe thead th {\n        text-align: right;\n    }\n</style>\n<table border=\"1\" class=\"dataframe\">\n  <thead>\n    <tr style=\"text-align: right;\">\n      <th></th>\n      <th>state</th>\n      <th>county</th>\n      <th>dem_percent_12</th>\n      <th>dem_percent_16</th>\n    </tr>\n  </thead>\n  <tbody>\n    <tr>\n      <th>0</th>\n      <td>Alabama</td>\n      <td>Bullock</td>\n      <td>76.305900</td>\n      <td>74.946921</td>\n    </tr>\n    <tr>\n      <th>1</th>\n      <td>Alabama</td>\n      <td>Chilton</td>\n      <td>19.453671</td>\n      <td>15.847352</td>\n    </tr>\n    <tr>\n      <th>2</th>\n      <td>Alabama</td>\n      <td>Clay</td>\n      <td>26.673672</td>\n      <td>18.674517</td>\n    </tr>\n    <tr>\n      <th>3</th>\n      <td>Alabama</td>\n      <td>Cullman</td>\n      <td>14.661752</td>\n      <td>10.028252</td>\n    </tr>\n    <tr>\n      <th>4</th>\n      <td>Alabama</td>\n      <td>Escambia</td>\n      <td>36.915731</td>\n      <td>31.020546</td>\n    </tr>\n    <tr>\n      <th>...</th>\n      <td>...</td>\n      <td>...</td>\n      <td>...</td>\n      <td>...</td>\n    </tr>\n    <tr>\n      <th>495</th>\n      <td>Wyoming</td>\n      <td>Uinta</td>\n      <td>19.065464</td>\n      <td>14.191263</td>\n    </tr>\n    <tr>\n      <th>496</th>\n      <td>Wyoming</td>\n      <td>Washakie</td>\n      <td>20.131846</td>\n      <td>13.948610</td>\n    </tr>\n    <tr>\n      <th>497</th>\n      <td>Alaska</td>\n      <td>District 3</td>\n      <td>33.514582</td>\n      <td>16.301064</td>\n    </tr>\n    <tr>\n      <th>498</th>\n      <td>Alaska</td>\n      <td>District 18</td>\n      <td>61.284271</td>\n      <td>52.810051</td>\n    </tr>\n    <tr>\n      <th>499</th>\n      <td>Alaska</td>\n      <td>District 24</td>\n      <td>42.913980</td>\n      <td>39.405286</td>\n    </tr>\n  </tbody>\n</table>\n<p>500 rows × 4 columns</p>\n</div>"
     },
     "execution_count": 6,
     "metadata": {},
     "output_type": "execute_result"
    }
   ],
   "source": [
    "sample_dem_data = pd.read_feather(\"dem_votes_potus_12_16.feather\")\n",
    "sample_dem_data"
   ],
   "metadata": {
    "collapsed": false,
    "ExecuteTime": {
     "end_time": "2023-10-11T00:34:33.606796100Z",
     "start_time": "2023-10-11T00:34:33.577514100Z"
    }
   }
  },
  {
   "cell_type": "code",
   "execution_count": 7,
   "outputs": [
    {
     "data": {
      "text/plain": "<Figure size 640x480 with 1 Axes>",
      "image/png": "[encoded data removed]"
     },
     "metadata": {},
     "output_type": "display_data"
    }
   ],
   "source": [
    "# Calculate the differences from 2012 to 2016\n",
    "sample_dem_data['diff'] = sample_dem_data['dem_percent_12'] - sample_dem_data['dem_percent_16']\n",
    "\n",
    "# Find the mean of the diff column\n",
    "xbar_diff = sample_dem_data['diff'].mean()\n",
    "\n",
    "# Find the standard deviation of the diff column\n",
    "s_diff = sample_dem_data['diff'].std()\n",
    "\n",
    "# Plot a histogram of diff with 20 bins\n",
    "plt.hist(sample_dem_data[\"diff\"], bins=20)\n",
    "sample_dem_data['diff'].hist(bins=20)\n",
    "plt.show()"
   ],
   "metadata": {
    "collapsed": false,
    "ExecuteTime": {
     "end_time": "2023-10-11T00:34:34.331286600Z",
     "start_time": "2023-10-11T00:34:34.131986200Z"
    }
   }
  },
  {
   "cell_type": "markdown",
   "source": [],
   "metadata": {
    "collapsed": false
   }
  },
  {
   "cell_type": "markdown",
   "source": [
    "$H_0$: The proportion of democratic votes in 2012 and 2016 were the same.\n",
    "$H_A$: The proportion of democratic votes in 2012 and 2016 were different."
   ],
   "metadata": {
    "collapsed": false
   }
  },
  {
   "cell_type": "code",
   "execution_count": 8,
   "outputs": [
    {
     "name": "stdout",
     "output_type": "stream",
     "text": [
      "                T  dof alternative          p-val         CI95%   cohen-d  \\\n",
      "T-test  30.298384  499   two-sided  3.600634e-115  [6.39, 7.27]  1.354985   \n",
      "\n",
      "              BF10  power  \n",
      "T-test  2.246e+111    1.0  \n"
     ]
    }
   ],
   "source": [
    "# Conduct a t-test on diff\n",
    "test_results = pg.ttest(\n",
    "    x=sample_dem_data[\"diff\"],\n",
    "    y=0,\n",
    "    alternative=\"two-sided\"\n",
    ")\n",
    "\n",
    "print(test_results)"
   ],
   "metadata": {
    "collapsed": false,
    "ExecuteTime": {
     "end_time": "2023-10-11T00:34:35.932090700Z",
     "start_time": "2023-10-11T00:34:35.918051300Z"
    }
   }
  },
  {
   "cell_type": "markdown",
   "source": [
    "Since $p < \\alpha$, where $\\alpha = 0.01$ we will reject $H_0$"
   ],
   "metadata": {
    "collapsed": false
   }
  },
  {
   "cell_type": "code",
   "execution_count": 9,
   "outputs": [
    {
     "name": "stdout",
     "output_type": "stream",
     "text": [
      "                T  dof alternative          p-val         CI95%   cohen-d  \\\n",
      "T-test  30.298384  499   two-sided  3.600634e-115  [6.39, 7.27]  0.454202   \n",
      "\n",
      "              BF10  power  \n",
      "T-test  2.246e+111    1.0  \n"
     ]
    }
   ],
   "source": [
    "# Conduct a paired t-test on dem_percent_12 and dem_percent_16\n",
    "paired_test_results = pg.ttest(\n",
    "    x=sample_dem_data['dem_percent_12'],\n",
    "    y=sample_dem_data['dem_percent_16'],\n",
    "    paired=True,\n",
    "    alternative=\"two-sided\"\n",
    ")\n",
    "\n",
    "# Print the paired test results\n",
    "print(paired_test_results)"
   ],
   "metadata": {
    "collapsed": false,
    "ExecuteTime": {
     "end_time": "2023-10-11T00:34:36.843860700Z",
     "start_time": "2023-10-11T00:34:36.838756Z"
    }
   }
  },
  {
   "cell_type": "code",
   "execution_count": 10,
   "outputs": [
    {
     "data": {
      "text/plain": "<Figure size 640x480 with 1 Axes>",
      "image/png": "[encoded data removed]"
     },
     "metadata": {},
     "output_type": "display_data"
    }
   ],
   "source": [
    "# Calculate the mean pack_price for each shipment_mode\n",
    "xbar_pack_by_mode = late_shipments.groupby(\"shipment_mode\")['pack_price'].mean()\n",
    "\n",
    "# Calculate the standard deviation of the pack_price for each shipment_mode\n",
    "s_pack_by_mode = late_shipments.groupby(\"shipment_mode\")['pack_price'].std()\n",
    "\n",
    "# Boxplot of shipment_mode vs. pack_price\n",
    "sns.boxplot(x=\"pack_price\", y=\"shipment_mode\", data=late_shipments)\n",
    "plt.show()\n"
   ],
   "metadata": {
    "collapsed": false,
    "ExecuteTime": {
     "end_time": "2023-10-11T00:34:37.396108400Z",
     "start_time": "2023-10-11T00:34:37.313656400Z"
    }
   }
  },
  {
   "cell_type": "markdown",
   "source": [
    "$H_0$: Pack prices for every category of shipment mode are the same.\n",
    "\n",
    "$H_A$: Pack prices for some categories of shipment mode are different.\n",
    "\n",
    "Use a significance level of 0.1."
   ],
   "metadata": {
    "collapsed": false
   }
  },
  {
   "cell_type": "code",
   "execution_count": 11,
   "outputs": [
    {
     "name": "stdout",
     "output_type": "stream",
     "text": [
      "          Source  ddof1  ddof2        F         p-unc       np2\n",
      "0  shipment_mode      2    997  21.8646  5.089479e-10  0.042018\n"
     ]
    }
   ],
   "source": [
    "# Run an ANOVA for pack_price across shipment_mode\n",
    "anova_results = pg.anova(\n",
    "    data=late_shipments,\n",
    "    dv=\"pack_price\",\n",
    "    between=\"shipment_mode\"\n",
    ")\n",
    "\n",
    "# Print anova_results\n",
    "print(anova_results)"
   ],
   "metadata": {
    "collapsed": false,
    "ExecuteTime": {
     "end_time": "2023-10-11T00:34:38.359012400Z",
     "start_time": "2023-10-11T00:34:38.348982700Z"
    }
   }
  },
  {
   "cell_type": "code",
   "execution_count": 12,
   "outputs": [
    {
     "name": "stdout",
     "output_type": "stream",
     "text": [
      "        Contrast            A            B  Paired  Parametric          T  \\\n",
      "0  shipment_mode          Air  Air Charter   False        True  21.179625   \n",
      "1  shipment_mode          Air        Ocean   False        True  19.335760   \n",
      "2  shipment_mode  Air Charter        Ocean   False        True  -3.170654   \n",
      "\n",
      "          dof alternative         p-unc       BF10    hedges  \n",
      "0  600.685682   two-sided  8.748346e-75  5.809e+76  0.726592  \n",
      "1  986.979785   two-sided  6.934555e-71  1.129e+67  0.711119  \n",
      "2   35.615026   two-sided  3.123012e-03     15.277 -0.423775  \n"
     ]
    }
   ],
   "source": [
    "# Perform a pairwise t-test on pack price, grouped by shipment mode\n",
    "pairwise_results = pg.pairwise_tests(\n",
    "    data=late_shipments,\n",
    "    dv=\"pack_price\",\n",
    "    between=\"shipment_mode\",\n",
    "    padjust=\"none\"\n",
    ")\n",
    "\n",
    "# Print pairwise_results\n",
    "print(pairwise_results)"
   ],
   "metadata": {
    "collapsed": false,
    "ExecuteTime": {
     "end_time": "2023-10-11T00:34:38.840915400Z",
     "start_time": "2023-10-11T00:34:38.828656500Z"
    }
   }
  },
  {
   "cell_type": "code",
   "execution_count": 13,
   "outputs": [
    {
     "name": "stdout",
     "output_type": "stream",
     "text": [
      "        Contrast            A            B  Paired  Parametric          T  \\\n",
      "0  shipment_mode          Air  Air Charter   False        True  21.179625   \n",
      "1  shipment_mode          Air        Ocean   False        True  19.335760   \n",
      "2  shipment_mode  Air Charter        Ocean   False        True  -3.170654   \n",
      "\n",
      "          dof alternative         p-unc        p-corr p-adjust       BF10  \\\n",
      "0  600.685682   two-sided  8.748346e-75  2.624504e-74     bonf  5.809e+76   \n",
      "1  986.979785   two-sided  6.934555e-71  2.080367e-70     bonf  1.129e+67   \n",
      "2   35.615026   two-sided  3.123012e-03  9.369037e-03     bonf     15.277   \n",
      "\n",
      "     hedges  \n",
      "0  0.726592  \n",
      "1  0.711119  \n",
      "2 -0.423775  \n"
     ]
    }
   ],
   "source": [
    "# Modify the pairwise t-tests to use Bonferroni p-value adjustment\n",
    "pairwise_results = pg.pairwise_tests(\n",
    "    data=late_shipments,\n",
    "    dv=\"pack_price\",\n",
    "    between=\"shipment_mode\",\n",
    "    padjust=\"bonf\"\n",
    ")\n",
    "\n",
    "# Print pairwise_results\n",
    "print(pairwise_results)\n"
   ],
   "metadata": {
    "collapsed": false,
    "ExecuteTime": {
     "end_time": "2023-10-11T00:34:39.292094300Z",
     "start_time": "2023-10-11T00:34:39.278355400Z"
    }
   }
  },
  {
   "cell_type": "markdown",
   "source": [
    "After applying the Bonferroni adjustment, the p-values for the t-tests between each of the three groups are all less than 0.1.\n"
   ],
   "metadata": {
    "collapsed": false
   }
  },
  {
   "cell_type": "code",
   "execution_count": null,
   "outputs": [],
   "source": [],
   "metadata": {
    "collapsed": false
   }
  }
 ],
 "metadata": {
  "kernelspec": {
   "display_name": "Python 3 (ipykernel)",
   "language": "python",
   "name": "python3"
  },
  "language_info": {
   "codemirror_mode": {
    "name": "ipython",
    "version": 3
   },
   "file_extension": ".py",
   "mimetype": "text/x-python",
   "name": "python",
   "nbconvert_exporter": "python",
   "pygments_lexer": "ipython3",
   "version": "3.11.5"
  }
 },
 "nbformat": 4,
 "nbformat_minor": 5
}
