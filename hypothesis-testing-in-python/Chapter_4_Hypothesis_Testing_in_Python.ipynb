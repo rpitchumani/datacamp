{
 "cells": [
  {
   "cell_type": "markdown",
   "id": "49b651d1-5517-40fa-a3b6-0c683f66caa6",
   "metadata": {},
   "source": [
    "# Hypothesis Testing in Python"
   ]
  },
  {
   "cell_type": "markdown",
   "id": "75fbcee1-8db9-4673-9cfa-d485aa12d609",
   "metadata": {},
   "source": [
    "## Chapter 4: Non-Parametric Tests"
   ]
  },
  {
   "cell_type": "code",
   "execution_count": 15,
   "id": "58e03314-50ba-4c64-bf1c-e9f9afdda58c",
   "metadata": {
    "tags": [],
    "ExecuteTime": {
     "end_time": "2023-10-13T01:33:12.227543300Z",
     "start_time": "2023-10-13T01:33:12.227040400Z"
    }
   },
   "outputs": [],
   "source": [
    "import pandas as pd\n",
    "import pingouin as pg"
   ]
  },
  {
   "cell_type": "markdown",
   "id": "bd1658b7",
   "metadata": {},
   "source": [
    "Sample Size for t-test:\n",
    "- One Sample: $n \\geq 30$\n",
    "- Two Samples: $n_1 \\geq 30$, $n_2 \\geq 30$\n",
    "- Paired Samples: at least 30 pairs of observations across samples. Number of rows in the data $\\geq 30$\n",
    "- ANOVA: at least 30 observations in each sample. $n_i \\geq 30$ for all values of $i$"
   ]
  },
  {
   "cell_type": "markdown",
   "id": "2973e2e4",
   "metadata": {},
   "source": [
    "Large sample size: proportion test:\n",
    "- One Sample:\n",
    "    - Number of successes in sample is greater than equal to 10\n",
    "        - $n \\times \\hat{p} \\geq 10$\n",
    "    - Number of failures in sample is greater than or equal to 10\n",
    "        - $n \\times (1 - \\hat{p}) \\geq 10$\n",
    "- Two Sample:\n",
    "    - Number of successes in each sample is greater than or equal to 10\n",
    "        - $n_1 \\times \\hat{p_1} \\geq 10$\n",
    "        - $n_2 \\times \\hat{p_2} \\geq 10$\n",
    "    -  Number of failures in each sample is greater than or equal to 10\n",
    "        - $n_1 \\times (1 - \\hat{p_1}) \\geq 10$\n",
    "        - $n_2 \\times (1 - \\hat{p_2}) \\geq 10$"
   ]
  },
  {
   "cell_type": "markdown",
   "id": "3ffbe0b6",
   "metadata": {},
   "source": [
    "Large sample size: chi-square tests:\n",
    "- The number of successes in each group in greater than or equal to 5\n",
    "    - $n_i \\times \\hat{p_i} \\geq 5$ for all values of $i$\n",
    "- The number of failures in each group in greater than or equal to 5\n",
    "    - $n_i \\times (1 − \\hat{p_i}) ≥ 5$ for all values of $i$\n",
    "\n",
    "1. If the bootstrap distribution doesn't look normal, assumptions likely aren't valid\n",
    "2. Check for randomness, independence, and sample size"
   ]
  },
  {
   "cell_type": "markdown",
   "id": "d7fd33cc",
   "metadata": {},
   "source": [
    "Steps:\n",
    "1. z-test, t-test, and ANOVA are all parametric tests\n",
    "2. Assume a normal distribution\n",
    "3. Require sufficiently large sample sizes"
   ]
  },
  {
   "cell_type": "code",
   "execution_count": 2,
   "id": "4fae5bc5",
   "metadata": {
    "collapsed": false,
    "jupyter": {
     "outputs_hidden": false
    },
    "tags": [],
    "ExecuteTime": {
     "end_time": "2023-10-13T01:26:48.635068200Z",
     "start_time": "2023-10-13T01:26:48.585457900Z"
    }
   },
   "outputs": [
    {
     "data": {
      "text/plain": "          id       country managed_by  fulfill_via vendor_inco_term  \\\n0    36203.0       Nigeria   PMO - US  Direct Drop              EXW   \n1    30998.0      Botswana   PMO - US  Direct Drop              EXW   \n2    69871.0       Vietnam   PMO - US  Direct Drop              EXW   \n3    17648.0  South Africa   PMO - US  Direct Drop              DDP   \n4     5647.0        Uganda   PMO - US  Direct Drop              EXW   \n..       ...           ...        ...          ...              ...   \n995  13608.0        Uganda   PMO - US  Direct Drop              DDP   \n996  80394.0    Congo, DRC   PMO - US  Direct Drop              EXW   \n997  61675.0        Zambia   PMO - US  Direct Drop              EXW   \n998  39182.0  South Africa   PMO - US  Direct Drop              DDP   \n999   5645.0      Botswana   PMO - US  Direct Drop              EXW   \n\n    shipment_mode  late_delivery late product_group    sub_classification  \\\n0             Air            1.0  Yes          HRDT              HIV test   \n1             Air            0.0   No          HRDT              HIV test   \n2             Air            0.0   No           ARV                 Adult   \n3           Ocean            0.0   No           ARV                 Adult   \n4             Air            0.0   No          HRDT  HIV test - Ancillary   \n..            ...            ...  ...           ...                   ...   \n995           Air            0.0   No           ARV                 Adult   \n996           Air            0.0   No          HRDT              HIV test   \n997           Air            1.0  Yes          HRDT              HIV test   \n998         Ocean            0.0   No           ARV                 Adult   \n999           Air            0.0   No          HRDT              HIV test   \n\n     ... line_item_quantity line_item_value pack_price unit_price  \\\n0    ...             2996.0       266644.00      89.00       0.89   \n1    ...               25.0          800.00      32.00       1.60   \n2    ...            22925.0       110040.00       4.80       0.08   \n3    ...           152535.0       361507.95       2.37       0.04   \n4    ...              850.0            8.50       0.01       0.00   \n..   ...                ...             ...        ...        ...   \n995  ...              121.0         9075.00      75.00       0.62   \n996  ...              292.0         9344.00      32.00       1.60   \n997  ...             2127.0       170160.00      80.00       0.80   \n998  ...           191011.0       861459.61       4.51       0.15   \n999  ...              200.0        14398.00      71.99       0.72   \n\n               manufacturing_site first_line_designation  weight_kilograms  \\\n0         Alere Medical Co., Ltd.                    Yes            1426.0   \n1            Trinity Biotech, Plc                    Yes              10.0   \n2    Hetero Unit III Hyderabad IN                    Yes            3723.0   \n3       Aurobindo Unit III, India                    Yes            7698.0   \n4                 Inverness Japan                    Yes              56.0   \n..                            ...                    ...               ...   \n995     Janssen-Cilag, Latina, IT                    Yes              43.0   \n996          Trinity Biotech, Plc                    Yes              99.0   \n997       Alere Medical Co., Ltd.                    Yes             881.0   \n998     Aurobindo Unit III, India                    Yes           16234.0   \n999               Inverness Japan                    Yes              46.0   \n\n     freight_cost_usd  freight_cost_groups  line_item_insurance_usd  \n0            33279.83            expensive                   373.83  \n1              559.89           reasonable                     1.72  \n2            19056.13            expensive                   181.57  \n3            11372.23            expensive                   779.41  \n4              360.00           reasonable                     0.01  \n..                ...                  ...                      ...  \n995            199.00           reasonable                    12.72  \n996           2162.55           reasonable                    13.10  \n997          14019.38            expensive                   210.49  \n998          14439.17            expensive                  1421.41  \n999           1028.18           reasonable                    23.04  \n\n[1000 rows x 27 columns]",
      "text/html": "<div>\n<style scoped>\n    .dataframe tbody tr th:only-of-type {\n        vertical-align: middle;\n    }\n\n    .dataframe tbody tr th {\n        vertical-align: top;\n    }\n\n    .dataframe thead th {\n        text-align: right;\n    }\n</style>\n<table border=\"1\" class=\"dataframe\">\n  <thead>\n    <tr style=\"text-align: right;\">\n      <th></th>\n      <th>id</th>\n      <th>country</th>\n      <th>managed_by</th>\n      <th>fulfill_via</th>\n      <th>vendor_inco_term</th>\n      <th>shipment_mode</th>\n      <th>late_delivery</th>\n      <th>late</th>\n      <th>product_group</th>\n      <th>sub_classification</th>\n      <th>...</th>\n      <th>line_item_quantity</th>\n      <th>line_item_value</th>\n      <th>pack_price</th>\n      <th>unit_price</th>\n      <th>manufacturing_site</th>\n      <th>first_line_designation</th>\n      <th>weight_kilograms</th>\n      <th>freight_cost_usd</th>\n      <th>freight_cost_groups</th>\n      <th>line_item_insurance_usd</th>\n    </tr>\n  </thead>\n  <tbody>\n    <tr>\n      <th>0</th>\n      <td>36203.0</td>\n      <td>Nigeria</td>\n      <td>PMO - US</td>\n      <td>Direct Drop</td>\n      <td>EXW</td>\n      <td>Air</td>\n      <td>1.0</td>\n      <td>Yes</td>\n      <td>HRDT</td>\n      <td>HIV test</td>\n      <td>...</td>\n      <td>2996.0</td>\n      <td>266644.00</td>\n      <td>89.00</td>\n      <td>0.89</td>\n      <td>Alere Medical Co., Ltd.</td>\n      <td>Yes</td>\n      <td>1426.0</td>\n      <td>33279.83</td>\n      <td>expensive</td>\n      <td>373.83</td>\n    </tr>\n    <tr>\n      <th>1</th>\n      <td>30998.0</td>\n      <td>Botswana</td>\n      <td>PMO - US</td>\n      <td>Direct Drop</td>\n      <td>EXW</td>\n      <td>Air</td>\n      <td>0.0</td>\n      <td>No</td>\n      <td>HRDT</td>\n      <td>HIV test</td>\n      <td>...</td>\n      <td>25.0</td>\n      <td>800.00</td>\n      <td>32.00</td>\n      <td>1.60</td>\n      <td>Trinity Biotech, Plc</td>\n      <td>Yes</td>\n      <td>10.0</td>\n      <td>559.89</td>\n      <td>reasonable</td>\n      <td>1.72</td>\n    </tr>\n    <tr>\n      <th>2</th>\n      <td>69871.0</td>\n      <td>Vietnam</td>\n      <td>PMO - US</td>\n      <td>Direct Drop</td>\n      <td>EXW</td>\n      <td>Air</td>\n      <td>0.0</td>\n      <td>No</td>\n      <td>ARV</td>\n      <td>Adult</td>\n      <td>...</td>\n      <td>22925.0</td>\n      <td>110040.00</td>\n      <td>4.80</td>\n      <td>0.08</td>\n      <td>Hetero Unit III Hyderabad IN</td>\n      <td>Yes</td>\n      <td>3723.0</td>\n      <td>19056.13</td>\n      <td>expensive</td>\n      <td>181.57</td>\n    </tr>\n    <tr>\n      <th>3</th>\n      <td>17648.0</td>\n      <td>South Africa</td>\n      <td>PMO - US</td>\n      <td>Direct Drop</td>\n      <td>DDP</td>\n      <td>Ocean</td>\n      <td>0.0</td>\n      <td>No</td>\n      <td>ARV</td>\n      <td>Adult</td>\n      <td>...</td>\n      <td>152535.0</td>\n      <td>361507.95</td>\n      <td>2.37</td>\n      <td>0.04</td>\n      <td>Aurobindo Unit III, India</td>\n      <td>Yes</td>\n      <td>7698.0</td>\n      <td>11372.23</td>\n      <td>expensive</td>\n      <td>779.41</td>\n    </tr>\n    <tr>\n      <th>4</th>\n      <td>5647.0</td>\n      <td>Uganda</td>\n      <td>PMO - US</td>\n      <td>Direct Drop</td>\n      <td>EXW</td>\n      <td>Air</td>\n      <td>0.0</td>\n      <td>No</td>\n      <td>HRDT</td>\n      <td>HIV test - Ancillary</td>\n      <td>...</td>\n      <td>850.0</td>\n      <td>8.50</td>\n      <td>0.01</td>\n      <td>0.00</td>\n      <td>Inverness Japan</td>\n      <td>Yes</td>\n      <td>56.0</td>\n      <td>360.00</td>\n      <td>reasonable</td>\n      <td>0.01</td>\n    </tr>\n    <tr>\n      <th>...</th>\n      <td>...</td>\n      <td>...</td>\n      <td>...</td>\n      <td>...</td>\n      <td>...</td>\n      <td>...</td>\n      <td>...</td>\n      <td>...</td>\n      <td>...</td>\n      <td>...</td>\n      <td>...</td>\n      <td>...</td>\n      <td>...</td>\n      <td>...</td>\n      <td>...</td>\n      <td>...</td>\n      <td>...</td>\n      <td>...</td>\n      <td>...</td>\n      <td>...</td>\n      <td>...</td>\n    </tr>\n    <tr>\n      <th>995</th>\n      <td>13608.0</td>\n      <td>Uganda</td>\n      <td>PMO - US</td>\n      <td>Direct Drop</td>\n      <td>DDP</td>\n      <td>Air</td>\n      <td>0.0</td>\n      <td>No</td>\n      <td>ARV</td>\n      <td>Adult</td>\n      <td>...</td>\n      <td>121.0</td>\n      <td>9075.00</td>\n      <td>75.00</td>\n      <td>0.62</td>\n      <td>Janssen-Cilag, Latina, IT</td>\n      <td>Yes</td>\n      <td>43.0</td>\n      <td>199.00</td>\n      <td>reasonable</td>\n      <td>12.72</td>\n    </tr>\n    <tr>\n      <th>996</th>\n      <td>80394.0</td>\n      <td>Congo, DRC</td>\n      <td>PMO - US</td>\n      <td>Direct Drop</td>\n      <td>EXW</td>\n      <td>Air</td>\n      <td>0.0</td>\n      <td>No</td>\n      <td>HRDT</td>\n      <td>HIV test</td>\n      <td>...</td>\n      <td>292.0</td>\n      <td>9344.00</td>\n      <td>32.00</td>\n      <td>1.60</td>\n      <td>Trinity Biotech, Plc</td>\n      <td>Yes</td>\n      <td>99.0</td>\n      <td>2162.55</td>\n      <td>reasonable</td>\n      <td>13.10</td>\n    </tr>\n    <tr>\n      <th>997</th>\n      <td>61675.0</td>\n      <td>Zambia</td>\n      <td>PMO - US</td>\n      <td>Direct Drop</td>\n      <td>EXW</td>\n      <td>Air</td>\n      <td>1.0</td>\n      <td>Yes</td>\n      <td>HRDT</td>\n      <td>HIV test</td>\n      <td>...</td>\n      <td>2127.0</td>\n      <td>170160.00</td>\n      <td>80.00</td>\n      <td>0.80</td>\n      <td>Alere Medical Co., Ltd.</td>\n      <td>Yes</td>\n      <td>881.0</td>\n      <td>14019.38</td>\n      <td>expensive</td>\n      <td>210.49</td>\n    </tr>\n    <tr>\n      <th>998</th>\n      <td>39182.0</td>\n      <td>South Africa</td>\n      <td>PMO - US</td>\n      <td>Direct Drop</td>\n      <td>DDP</td>\n      <td>Ocean</td>\n      <td>0.0</td>\n      <td>No</td>\n      <td>ARV</td>\n      <td>Adult</td>\n      <td>...</td>\n      <td>191011.0</td>\n      <td>861459.61</td>\n      <td>4.51</td>\n      <td>0.15</td>\n      <td>Aurobindo Unit III, India</td>\n      <td>Yes</td>\n      <td>16234.0</td>\n      <td>14439.17</td>\n      <td>expensive</td>\n      <td>1421.41</td>\n    </tr>\n    <tr>\n      <th>999</th>\n      <td>5645.0</td>\n      <td>Botswana</td>\n      <td>PMO - US</td>\n      <td>Direct Drop</td>\n      <td>EXW</td>\n      <td>Air</td>\n      <td>0.0</td>\n      <td>No</td>\n      <td>HRDT</td>\n      <td>HIV test</td>\n      <td>...</td>\n      <td>200.0</td>\n      <td>14398.00</td>\n      <td>71.99</td>\n      <td>0.72</td>\n      <td>Inverness Japan</td>\n      <td>Yes</td>\n      <td>46.0</td>\n      <td>1028.18</td>\n      <td>reasonable</td>\n      <td>23.04</td>\n    </tr>\n  </tbody>\n</table>\n<p>1000 rows × 27 columns</p>\n</div>"
     },
     "execution_count": 2,
     "metadata": {},
     "output_type": "execute_result"
    }
   ],
   "source": [
    "late_shipments = pd.read_feather(\"late_shipments.feather\")\n",
    "late_shipments"
   ]
  },
  {
   "cell_type": "code",
   "execution_count": 3,
   "id": "6892ff17",
   "metadata": {
    "collapsed": false,
    "jupyter": {
     "outputs_hidden": false
    },
    "tags": [],
    "ExecuteTime": {
     "end_time": "2023-10-13T01:26:48.635068200Z",
     "start_time": "2023-10-13T01:26:48.635068200Z"
    }
   },
   "outputs": [],
   "source": [
    "late_shipments = late_shipments[late_shipments[\"vendor_inco_term\"] != \"DDU\"].copy()"
   ]
  },
  {
   "cell_type": "code",
   "execution_count": 4,
   "id": "270f6e27",
   "metadata": {
    "collapsed": false,
    "jupyter": {
     "outputs_hidden": false
    },
    "tags": [],
    "ExecuteTime": {
     "end_time": "2023-10-13T01:26:48.640441400Z",
     "start_time": "2023-10-13T01:26:48.635068200Z"
    }
   },
   "outputs": [
    {
     "name": "stdout",
     "output_type": "stream",
     "text": [
      "freight_cost_groups\n",
      "expensive     531\n",
      "reasonable    454\n",
      "Name: count, dtype: int64\n",
      "True\n"
     ]
    }
   ],
   "source": [
    "# Count the freight_cost_group values\n",
    "counts = late_shipments[\"freight_cost_groups\"].value_counts()\n",
    "\n",
    "# Print the result\n",
    "print(counts)\n",
    "\n",
    "# Inspect whether the counts are big enough\n",
    "print((counts >= 30).all())\n"
   ]
  },
  {
   "cell_type": "code",
   "execution_count": 5,
   "id": "2d83e1b4",
   "metadata": {
    "collapsed": false,
    "jupyter": {
     "outputs_hidden": false
    },
    "tags": [],
    "ExecuteTime": {
     "end_time": "2023-10-13T01:26:48.644447100Z",
     "start_time": "2023-10-13T01:26:48.641946700Z"
    }
   },
   "outputs": [
    {
     "name": "stdout",
     "output_type": "stream",
     "text": [
      "late\n",
      "No     938\n",
      "Yes     61\n",
      "Name: count, dtype: int64\n",
      "True\n"
     ]
    }
   ],
   "source": [
    "# Count the late values\n",
    "counts = late_shipments[\"late\"].value_counts()\n",
    "\n",
    "# Print the result\n",
    "print(counts)\n",
    "\n",
    "# Inspect whether the counts are big enough\n",
    "print((counts >= 10).all())\n"
   ]
  },
  {
   "cell_type": "code",
   "execution_count": 6,
   "id": "c31076ae",
   "metadata": {
    "collapsed": false,
    "jupyter": {
     "outputs_hidden": false
    },
    "tags": [],
    "ExecuteTime": {
     "end_time": "2023-10-13T01:26:48.649362200Z",
     "start_time": "2023-10-13T01:26:48.644447100Z"
    }
   },
   "outputs": [
    {
     "name": "stdout",
     "output_type": "stream",
     "text": [
      "vendor_inco_term  freight_cost_groups\n",
      "CIP               reasonable              34\n",
      "                  expensive               16\n",
      "DDP               expensive               55\n",
      "                  reasonable              45\n",
      "EXW               expensive              423\n",
      "                  reasonable             302\n",
      "FCA               reasonable              73\n",
      "                  expensive               37\n",
      "Name: count, dtype: int64\n",
      "True\n"
     ]
    }
   ],
   "source": [
    "# Count the values of freight_cost_group grouped by vendor_inco_term\n",
    "counts =  late_shipments.groupby(\"vendor_inco_term\")[\"freight_cost_groups\"].value_counts()\n",
    "\n",
    "# Print the result\n",
    "print(counts)\n",
    "\n",
    "# Inspect whether the counts are big enough\n",
    "print((counts >= 5).all())\n"
   ]
  },
  {
   "cell_type": "code",
   "execution_count": 7,
   "id": "774cd3e8",
   "metadata": {
    "collapsed": false,
    "jupyter": {
     "outputs_hidden": false
    },
    "tags": [],
    "ExecuteTime": {
     "end_time": "2023-10-13T01:26:48.653024400Z",
     "start_time": "2023-10-13T01:26:48.649362200Z"
    }
   },
   "outputs": [
    {
     "name": "stdout",
     "output_type": "stream",
     "text": [
      "shipment_mode\n",
      "Air            905\n",
      "Ocean           88\n",
      "Air Charter      6\n",
      "Name: count, dtype: int64\n",
      "False\n"
     ]
    }
   ],
   "source": [
    "# Count the shipment_mode values\n",
    "counts = late_shipments[\"shipment_mode\"].value_counts()\n",
    "\n",
    "# Print the result\n",
    "print(counts)\n",
    "\n",
    "# Inspect whether the counts are big enough\n",
    "print((counts >= 30).all())\n"
   ]
  },
  {
   "cell_type": "code",
   "execution_count": 8,
   "id": "545d479f",
   "metadata": {
    "collapsed": false,
    "jupyter": {
     "outputs_hidden": false
    },
    "tags": [],
    "ExecuteTime": {
     "end_time": "2023-10-13T01:26:48.693132800Z",
     "start_time": "2023-10-13T01:26:48.653024400Z"
    }
   },
   "outputs": [
    {
     "data": {
      "text/plain": "       state       county  dem_percent_12  dem_percent_16\n0    Alabama      Bullock       76.305900       74.946921\n1    Alabama      Chilton       19.453671       15.847352\n2    Alabama         Clay       26.673672       18.674517\n3    Alabama      Cullman       14.661752       10.028252\n4    Alabama     Escambia       36.915731       31.020546\n..       ...          ...             ...             ...\n495  Wyoming        Uinta       19.065464       14.191263\n496  Wyoming     Washakie       20.131846       13.948610\n497   Alaska   District 3       33.514582       16.301064\n498   Alaska  District 18       61.284271       52.810051\n499   Alaska  District 24       42.913980       39.405286\n\n[500 rows x 4 columns]",
      "text/html": "<div>\n<style scoped>\n    .dataframe tbody tr th:only-of-type {\n        vertical-align: middle;\n    }\n\n    .dataframe tbody tr th {\n        vertical-align: top;\n    }\n\n    .dataframe thead th {\n        text-align: right;\n    }\n</style>\n<table border=\"1\" class=\"dataframe\">\n  <thead>\n    <tr style=\"text-align: right;\">\n      <th></th>\n      <th>state</th>\n      <th>county</th>\n      <th>dem_percent_12</th>\n      <th>dem_percent_16</th>\n    </tr>\n  </thead>\n  <tbody>\n    <tr>\n      <th>0</th>\n      <td>Alabama</td>\n      <td>Bullock</td>\n      <td>76.305900</td>\n      <td>74.946921</td>\n    </tr>\n    <tr>\n      <th>1</th>\n      <td>Alabama</td>\n      <td>Chilton</td>\n      <td>19.453671</td>\n      <td>15.847352</td>\n    </tr>\n    <tr>\n      <th>2</th>\n      <td>Alabama</td>\n      <td>Clay</td>\n      <td>26.673672</td>\n      <td>18.674517</td>\n    </tr>\n    <tr>\n      <th>3</th>\n      <td>Alabama</td>\n      <td>Cullman</td>\n      <td>14.661752</td>\n      <td>10.028252</td>\n    </tr>\n    <tr>\n      <th>4</th>\n      <td>Alabama</td>\n      <td>Escambia</td>\n      <td>36.915731</td>\n      <td>31.020546</td>\n    </tr>\n    <tr>\n      <th>...</th>\n      <td>...</td>\n      <td>...</td>\n      <td>...</td>\n      <td>...</td>\n    </tr>\n    <tr>\n      <th>495</th>\n      <td>Wyoming</td>\n      <td>Uinta</td>\n      <td>19.065464</td>\n      <td>14.191263</td>\n    </tr>\n    <tr>\n      <th>496</th>\n      <td>Wyoming</td>\n      <td>Washakie</td>\n      <td>20.131846</td>\n      <td>13.948610</td>\n    </tr>\n    <tr>\n      <th>497</th>\n      <td>Alaska</td>\n      <td>District 3</td>\n      <td>33.514582</td>\n      <td>16.301064</td>\n    </tr>\n    <tr>\n      <th>498</th>\n      <td>Alaska</td>\n      <td>District 18</td>\n      <td>61.284271</td>\n      <td>52.810051</td>\n    </tr>\n    <tr>\n      <th>499</th>\n      <td>Alaska</td>\n      <td>District 24</td>\n      <td>42.913980</td>\n      <td>39.405286</td>\n    </tr>\n  </tbody>\n</table>\n<p>500 rows × 4 columns</p>\n</div>"
     },
     "execution_count": 8,
     "metadata": {},
     "output_type": "execute_result"
    }
   ],
   "source": [
    "sample_dem_data = pd.read_feather(\"dem_votes_potus_12_16.feather\")\n",
    "sample_dem_data"
   ]
  },
  {
   "cell_type": "code",
   "execution_count": 9,
   "id": "01cfd3b1-9e3f-4155-b0af-a304a87d57dd",
   "metadata": {
    "tags": [],
    "ExecuteTime": {
     "end_time": "2023-10-13T01:26:48.743222300Z",
     "start_time": "2023-10-13T01:26:48.660508900Z"
    }
   },
   "outputs": [
    {
     "name": "stdout",
     "output_type": "stream",
     "text": [
      "                T  dof alternative          p-val         CI95%   cohen-d  \\\n",
      "T-test  30.298384  499   two-sided  3.600634e-115  [6.39, 7.27]  0.454202   \n",
      "\n",
      "              BF10  power  \n",
      "T-test  2.246e+111    1.0  \n"
     ]
    }
   ],
   "source": [
    "# Conduct a paired t-test on dem_percent_12 and dem_percent_16\n",
    "paired_test_results = pg.ttest(\n",
    "    x=sample_dem_data[\"dem_percent_12\"],\n",
    "    y=sample_dem_data[\"dem_percent_16\"],\n",
    "    paired=True,\n",
    "    alternative=\"two-sided\"\n",
    ") \n",
    "\n",
    "# Print paired t-test results\n",
    "print(paired_test_results)"
   ]
  },
  {
   "cell_type": "code",
   "execution_count": 10,
   "id": "e039df5f-1989-46be-8dc6-db715f40e9b6",
   "metadata": {
    "tags": [],
    "ExecuteTime": {
     "end_time": "2023-10-13T01:26:50.161069700Z",
     "start_time": "2023-10-13T01:26:50.143121400Z"
    }
   },
   "outputs": [
    {
     "name": "stdout",
     "output_type": "stream",
     "text": [
      "           W-val alternative         p-val       RBC      CLES\n",
      "Wilcoxon  2401.0   two-sided  1.780396e-77  0.961661  0.644816\n"
     ]
    }
   ],
   "source": [
    "# Conduct a Wilcoxon test on dem_percent_12 and dem_percent_16\n",
    "wilcoxon_test_results =  pg.wilcoxon(\n",
    "    x=sample_dem_data[\"dem_percent_12\"],\n",
    "    y=sample_dem_data[\"dem_percent_16\"],\n",
    "    alternative=\"two-sided\"\n",
    ") \n",
    "\n",
    "# Print Wilcoxon test results\n",
    "print(wilcoxon_test_results)"
   ]
  },
  {
   "cell_type": "markdown",
   "id": "c8e5b7a4-5280-48be-8be3-689a73d44505",
   "metadata": {},
   "source": [
    "Given the large sample size (500), you obtained similar results here between the parametric t-test and non-parametric Wilcoxon test with a very small p-value."
   ]
  },
  {
   "cell_type": "code",
   "execution_count": 12,
   "id": "4a193727-f1c4-426a-8c17-16c8b365aa6b",
   "metadata": {
    "ExecuteTime": {
     "end_time": "2023-10-13T01:29:27.887967800Z",
     "start_time": "2023-10-13T01:29:27.882345Z"
    }
   },
   "outputs": [
    {
     "data": {
      "text/plain": "late       No     Yes\n0         NaN  1426.0\n1        10.0     NaN\n2      3723.0     NaN\n3      7698.0     NaN\n4        56.0     NaN\n..        ...     ...\n995      43.0     NaN\n996      99.0     NaN\n997       NaN   881.0\n998   16234.0     NaN\n999      46.0     NaN\n\n[999 rows x 2 columns]",
      "text/html": "<div>\n<style scoped>\n    .dataframe tbody tr th:only-of-type {\n        vertical-align: middle;\n    }\n\n    .dataframe tbody tr th {\n        vertical-align: top;\n    }\n\n    .dataframe thead th {\n        text-align: right;\n    }\n</style>\n<table border=\"1\" class=\"dataframe\">\n  <thead>\n    <tr style=\"text-align: right;\">\n      <th>late</th>\n      <th>No</th>\n      <th>Yes</th>\n    </tr>\n  </thead>\n  <tbody>\n    <tr>\n      <th>0</th>\n      <td>NaN</td>\n      <td>1426.0</td>\n    </tr>\n    <tr>\n      <th>1</th>\n      <td>10.0</td>\n      <td>NaN</td>\n    </tr>\n    <tr>\n      <th>2</th>\n      <td>3723.0</td>\n      <td>NaN</td>\n    </tr>\n    <tr>\n      <th>3</th>\n      <td>7698.0</td>\n      <td>NaN</td>\n    </tr>\n    <tr>\n      <th>4</th>\n      <td>56.0</td>\n      <td>NaN</td>\n    </tr>\n    <tr>\n      <th>...</th>\n      <td>...</td>\n      <td>...</td>\n    </tr>\n    <tr>\n      <th>995</th>\n      <td>43.0</td>\n      <td>NaN</td>\n    </tr>\n    <tr>\n      <th>996</th>\n      <td>99.0</td>\n      <td>NaN</td>\n    </tr>\n    <tr>\n      <th>997</th>\n      <td>NaN</td>\n      <td>881.0</td>\n    </tr>\n    <tr>\n      <th>998</th>\n      <td>16234.0</td>\n      <td>NaN</td>\n    </tr>\n    <tr>\n      <th>999</th>\n      <td>46.0</td>\n      <td>NaN</td>\n    </tr>\n  </tbody>\n</table>\n<p>999 rows × 2 columns</p>\n</div>"
     },
     "execution_count": 12,
     "metadata": {},
     "output_type": "execute_result"
    }
   ],
   "source": [
    "# Select the weight_kilograms and late columns\n",
    "weight_vs_late = late_shipments[[\"weight_kilograms\", \"late\"]]\n",
    "\n",
    "# Convert weight_vs_late into wide format\n",
    "weight_vs_late_wide = weight_vs_late.pivot(columns=\"late\",\n",
    "                                           values=\"weight_kilograms\")\n",
    "\n",
    "weight_vs_late_wide"
   ]
  },
  {
   "cell_type": "code",
   "execution_count": 14,
   "outputs": [
    {
     "name": "stdout",
     "output_type": "stream",
     "text": [
      "       U-val alternative     p-val       RBC      CLES\n",
      "MWU  19131.0   two-sided  0.000014  0.331294  0.334353\n"
     ]
    }
   ],
   "source": [
    "# Run a two-sided Wilcoxon-Mann-Whitney test on weight_kilograms vs. late\n",
    "wmw_test = pg.mwu(\n",
    "    x=weight_vs_late_wide[\"No\"],\n",
    "    y=weight_vs_late_wide[\"Yes\"],\n",
    "    alternative=\"two-sided\"\n",
    ")\n",
    "\n",
    "# Print the test results\n",
    "print(wmw_test)"
   ],
   "metadata": {
    "collapsed": false,
    "ExecuteTime": {
     "end_time": "2023-10-13T01:31:57.452439Z",
     "start_time": "2023-10-13T01:31:57.438808Z"
    }
   }
  },
  {
   "cell_type": "markdown",
   "source": [
    "The small p-value here leads us to suspect that a difference does exist in the weight of the shipment and whether or not it was late. The Wilcoxon-Mann-Whitney test is useful when you cannot satisfy the assumptions for a parametric test comparing two means, like the t-test."
   ],
   "metadata": {
    "collapsed": false
   }
  },
  {
   "cell_type": "code",
   "execution_count": 16,
   "outputs": [
    {
     "name": "stdout",
     "output_type": "stream",
     "text": [
      "                Source  ddof1           H         p-unc\n",
      "Kruskal  shipment_mode      2  124.983244  7.248254e-28\n"
     ]
    }
   ],
   "source": [
    "# Run a Kruskal-Wallis test on weight_kilograms vs. shipment_mode\n",
    "kw_test = pg.kruskal(data=late_shipments, dv=\"weight_kilograms\", between=\"shipment_mode\")\n",
    "\n",
    "# Print the results\n",
    "print(kw_test)"
   ],
   "metadata": {
    "collapsed": false,
    "ExecuteTime": {
     "end_time": "2023-10-13T01:35:30.852942200Z",
     "start_time": "2023-10-13T01:35:30.851801500Z"
    }
   }
  },
  {
   "cell_type": "markdown",
   "source": [
    "The Kruskal-Wallis test yielded a very small p-value, so there is evidence that at least one of the three groups of shipment mode has a different weight distribution than the others. Th Kruskal-Wallis test is comparable to an ANOVA, which tests for a difference in means across multiple groups."
   ],
   "metadata": {
    "collapsed": false
   }
  },
  {
   "cell_type": "code",
   "execution_count": null,
   "outputs": [],
   "source": [],
   "metadata": {
    "collapsed": false
   }
  }
 ],
 "metadata": {
  "kernelspec": {
   "display_name": "Python 3 (ipykernel)",
   "language": "python",
   "name": "python3"
  },
  "language_info": {
   "codemirror_mode": {
    "name": "ipython",
    "version": 3
   },
   "file_extension": ".py",
   "mimetype": "text/x-python",
   "name": "python",
   "nbconvert_exporter": "python",
   "pygments_lexer": "ipython3",
   "version": "3.11.5"
  }
 },
 "nbformat": 4,
 "nbformat_minor": 5
}
