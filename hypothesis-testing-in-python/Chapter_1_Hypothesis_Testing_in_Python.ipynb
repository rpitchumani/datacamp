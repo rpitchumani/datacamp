{
 "cells": [
  {
   "cell_type": "markdown",
   "id": "49b651d1-5517-40fa-a3b6-0c683f66caa6",
   "metadata": {},
   "source": [
    "# Hypothesis Testing in Python"
   ]
  },
  {
   "cell_type": "markdown",
   "id": "75fbcee1-8db9-4673-9cfa-d485aa12d609",
   "metadata": {},
   "source": [
    "## Chapter 1: Introduction to Hypothesis Testing"
   ]
  },
  {
   "cell_type": "code",
   "execution_count": 10,
   "id": "58e03314-50ba-4c64-bf1c-e9f9afdda58c",
   "metadata": {
    "tags": [],
    "ExecuteTime": {
     "end_time": "2023-10-11T02:25:31.837228100Z",
     "start_time": "2023-10-11T02:25:31.834688100Z"
    }
   },
   "outputs": [],
   "source": [
    "import numpy as np\n",
    "import pandas as pd\n",
    "from scipy.stats import norm"
   ]
  },
  {
   "cell_type": "code",
   "execution_count": 4,
   "id": "b536ba06-a2a7-4a7f-9b74-4916281c0247",
   "metadata": {
    "tags": [],
    "ExecuteTime": {
     "end_time": "2023-10-11T00:34:16.202713700Z",
     "start_time": "2023-10-11T00:34:16.142632800Z"
    }
   },
   "outputs": [
    {
     "data": {
      "text/plain": "          id       country managed_by  fulfill_via vendor_inco_term  \\\n0    36203.0       Nigeria   PMO - US  Direct Drop              EXW   \n1    30998.0      Botswana   PMO - US  Direct Drop              EXW   \n2    69871.0       Vietnam   PMO - US  Direct Drop              EXW   \n3    17648.0  South Africa   PMO - US  Direct Drop              DDP   \n4     5647.0        Uganda   PMO - US  Direct Drop              EXW   \n..       ...           ...        ...          ...              ...   \n995  13608.0        Uganda   PMO - US  Direct Drop              DDP   \n996  80394.0    Congo, DRC   PMO - US  Direct Drop              EXW   \n997  61675.0        Zambia   PMO - US  Direct Drop              EXW   \n998  39182.0  South Africa   PMO - US  Direct Drop              DDP   \n999   5645.0      Botswana   PMO - US  Direct Drop              EXW   \n\n    shipment_mode  late_delivery late product_group    sub_classification  \\\n0             Air            1.0  Yes          HRDT              HIV test   \n1             Air            0.0   No          HRDT              HIV test   \n2             Air            0.0   No           ARV                 Adult   \n3           Ocean            0.0   No           ARV                 Adult   \n4             Air            0.0   No          HRDT  HIV test - Ancillary   \n..            ...            ...  ...           ...                   ...   \n995           Air            0.0   No           ARV                 Adult   \n996           Air            0.0   No          HRDT              HIV test   \n997           Air            1.0  Yes          HRDT              HIV test   \n998         Ocean            0.0   No           ARV                 Adult   \n999           Air            0.0   No          HRDT              HIV test   \n\n     ... line_item_quantity line_item_value pack_price unit_price  \\\n0    ...             2996.0       266644.00      89.00       0.89   \n1    ...               25.0          800.00      32.00       1.60   \n2    ...            22925.0       110040.00       4.80       0.08   \n3    ...           152535.0       361507.95       2.37       0.04   \n4    ...              850.0            8.50       0.01       0.00   \n..   ...                ...             ...        ...        ...   \n995  ...              121.0         9075.00      75.00       0.62   \n996  ...              292.0         9344.00      32.00       1.60   \n997  ...             2127.0       170160.00      80.00       0.80   \n998  ...           191011.0       861459.61       4.51       0.15   \n999  ...              200.0        14398.00      71.99       0.72   \n\n               manufacturing_site first_line_designation  weight_kilograms  \\\n0         Alere Medical Co., Ltd.                    Yes            1426.0   \n1            Trinity Biotech, Plc                    Yes              10.0   \n2    Hetero Unit III Hyderabad IN                    Yes            3723.0   \n3       Aurobindo Unit III, India                    Yes            7698.0   \n4                 Inverness Japan                    Yes              56.0   \n..                            ...                    ...               ...   \n995     Janssen-Cilag, Latina, IT                    Yes              43.0   \n996          Trinity Biotech, Plc                    Yes              99.0   \n997       Alere Medical Co., Ltd.                    Yes             881.0   \n998     Aurobindo Unit III, India                    Yes           16234.0   \n999               Inverness Japan                    Yes              46.0   \n\n     freight_cost_usd  freight_cost_groups  line_item_insurance_usd  \n0            33279.83            expensive                   373.83  \n1              559.89           reasonable                     1.72  \n2            19056.13            expensive                   181.57  \n3            11372.23            expensive                   779.41  \n4              360.00           reasonable                     0.01  \n..                ...                  ...                      ...  \n995            199.00           reasonable                    12.72  \n996           2162.55           reasonable                    13.10  \n997          14019.38            expensive                   210.49  \n998          14439.17            expensive                  1421.41  \n999           1028.18           reasonable                    23.04  \n\n[1000 rows x 27 columns]",
      "text/html": "<div>\n<style scoped>\n    .dataframe tbody tr th:only-of-type {\n        vertical-align: middle;\n    }\n\n    .dataframe tbody tr th {\n        vertical-align: top;\n    }\n\n    .dataframe thead th {\n        text-align: right;\n    }\n</style>\n<table border=\"1\" class=\"dataframe\">\n  <thead>\n    <tr style=\"text-align: right;\">\n      <th></th>\n      <th>id</th>\n      <th>country</th>\n      <th>managed_by</th>\n      <th>fulfill_via</th>\n      <th>vendor_inco_term</th>\n      <th>shipment_mode</th>\n      <th>late_delivery</th>\n      <th>late</th>\n      <th>product_group</th>\n      <th>sub_classification</th>\n      <th>...</th>\n      <th>line_item_quantity</th>\n      <th>line_item_value</th>\n      <th>pack_price</th>\n      <th>unit_price</th>\n      <th>manufacturing_site</th>\n      <th>first_line_designation</th>\n      <th>weight_kilograms</th>\n      <th>freight_cost_usd</th>\n      <th>freight_cost_groups</th>\n      <th>line_item_insurance_usd</th>\n    </tr>\n  </thead>\n  <tbody>\n    <tr>\n      <th>0</th>\n      <td>36203.0</td>\n      <td>Nigeria</td>\n      <td>PMO - US</td>\n      <td>Direct Drop</td>\n      <td>EXW</td>\n      <td>Air</td>\n      <td>1.0</td>\n      <td>Yes</td>\n      <td>HRDT</td>\n      <td>HIV test</td>\n      <td>...</td>\n      <td>2996.0</td>\n      <td>266644.00</td>\n      <td>89.00</td>\n      <td>0.89</td>\n      <td>Alere Medical Co., Ltd.</td>\n      <td>Yes</td>\n      <td>1426.0</td>\n      <td>33279.83</td>\n      <td>expensive</td>\n      <td>373.83</td>\n    </tr>\n    <tr>\n      <th>1</th>\n      <td>30998.0</td>\n      <td>Botswana</td>\n      <td>PMO - US</td>\n      <td>Direct Drop</td>\n      <td>EXW</td>\n      <td>Air</td>\n      <td>0.0</td>\n      <td>No</td>\n      <td>HRDT</td>\n      <td>HIV test</td>\n      <td>...</td>\n      <td>25.0</td>\n      <td>800.00</td>\n      <td>32.00</td>\n      <td>1.60</td>\n      <td>Trinity Biotech, Plc</td>\n      <td>Yes</td>\n      <td>10.0</td>\n      <td>559.89</td>\n      <td>reasonable</td>\n      <td>1.72</td>\n    </tr>\n    <tr>\n      <th>2</th>\n      <td>69871.0</td>\n      <td>Vietnam</td>\n      <td>PMO - US</td>\n      <td>Direct Drop</td>\n      <td>EXW</td>\n      <td>Air</td>\n      <td>0.0</td>\n      <td>No</td>\n      <td>ARV</td>\n      <td>Adult</td>\n      <td>...</td>\n      <td>22925.0</td>\n      <td>110040.00</td>\n      <td>4.80</td>\n      <td>0.08</td>\n      <td>Hetero Unit III Hyderabad IN</td>\n      <td>Yes</td>\n      <td>3723.0</td>\n      <td>19056.13</td>\n      <td>expensive</td>\n      <td>181.57</td>\n    </tr>\n    <tr>\n      <th>3</th>\n      <td>17648.0</td>\n      <td>South Africa</td>\n      <td>PMO - US</td>\n      <td>Direct Drop</td>\n      <td>DDP</td>\n      <td>Ocean</td>\n      <td>0.0</td>\n      <td>No</td>\n      <td>ARV</td>\n      <td>Adult</td>\n      <td>...</td>\n      <td>152535.0</td>\n      <td>361507.95</td>\n      <td>2.37</td>\n      <td>0.04</td>\n      <td>Aurobindo Unit III, India</td>\n      <td>Yes</td>\n      <td>7698.0</td>\n      <td>11372.23</td>\n      <td>expensive</td>\n      <td>779.41</td>\n    </tr>\n    <tr>\n      <th>4</th>\n      <td>5647.0</td>\n      <td>Uganda</td>\n      <td>PMO - US</td>\n      <td>Direct Drop</td>\n      <td>EXW</td>\n      <td>Air</td>\n      <td>0.0</td>\n      <td>No</td>\n      <td>HRDT</td>\n      <td>HIV test - Ancillary</td>\n      <td>...</td>\n      <td>850.0</td>\n      <td>8.50</td>\n      <td>0.01</td>\n      <td>0.00</td>\n      <td>Inverness Japan</td>\n      <td>Yes</td>\n      <td>56.0</td>\n      <td>360.00</td>\n      <td>reasonable</td>\n      <td>0.01</td>\n    </tr>\n    <tr>\n      <th>...</th>\n      <td>...</td>\n      <td>...</td>\n      <td>...</td>\n      <td>...</td>\n      <td>...</td>\n      <td>...</td>\n      <td>...</td>\n      <td>...</td>\n      <td>...</td>\n      <td>...</td>\n      <td>...</td>\n      <td>...</td>\n      <td>...</td>\n      <td>...</td>\n      <td>...</td>\n      <td>...</td>\n      <td>...</td>\n      <td>...</td>\n      <td>...</td>\n      <td>...</td>\n      <td>...</td>\n    </tr>\n    <tr>\n      <th>995</th>\n      <td>13608.0</td>\n      <td>Uganda</td>\n      <td>PMO - US</td>\n      <td>Direct Drop</td>\n      <td>DDP</td>\n      <td>Air</td>\n      <td>0.0</td>\n      <td>No</td>\n      <td>ARV</td>\n      <td>Adult</td>\n      <td>...</td>\n      <td>121.0</td>\n      <td>9075.00</td>\n      <td>75.00</td>\n      <td>0.62</td>\n      <td>Janssen-Cilag, Latina, IT</td>\n      <td>Yes</td>\n      <td>43.0</td>\n      <td>199.00</td>\n      <td>reasonable</td>\n      <td>12.72</td>\n    </tr>\n    <tr>\n      <th>996</th>\n      <td>80394.0</td>\n      <td>Congo, DRC</td>\n      <td>PMO - US</td>\n      <td>Direct Drop</td>\n      <td>EXW</td>\n      <td>Air</td>\n      <td>0.0</td>\n      <td>No</td>\n      <td>HRDT</td>\n      <td>HIV test</td>\n      <td>...</td>\n      <td>292.0</td>\n      <td>9344.00</td>\n      <td>32.00</td>\n      <td>1.60</td>\n      <td>Trinity Biotech, Plc</td>\n      <td>Yes</td>\n      <td>99.0</td>\n      <td>2162.55</td>\n      <td>reasonable</td>\n      <td>13.10</td>\n    </tr>\n    <tr>\n      <th>997</th>\n      <td>61675.0</td>\n      <td>Zambia</td>\n      <td>PMO - US</td>\n      <td>Direct Drop</td>\n      <td>EXW</td>\n      <td>Air</td>\n      <td>1.0</td>\n      <td>Yes</td>\n      <td>HRDT</td>\n      <td>HIV test</td>\n      <td>...</td>\n      <td>2127.0</td>\n      <td>170160.00</td>\n      <td>80.00</td>\n      <td>0.80</td>\n      <td>Alere Medical Co., Ltd.</td>\n      <td>Yes</td>\n      <td>881.0</td>\n      <td>14019.38</td>\n      <td>expensive</td>\n      <td>210.49</td>\n    </tr>\n    <tr>\n      <th>998</th>\n      <td>39182.0</td>\n      <td>South Africa</td>\n      <td>PMO - US</td>\n      <td>Direct Drop</td>\n      <td>DDP</td>\n      <td>Ocean</td>\n      <td>0.0</td>\n      <td>No</td>\n      <td>ARV</td>\n      <td>Adult</td>\n      <td>...</td>\n      <td>191011.0</td>\n      <td>861459.61</td>\n      <td>4.51</td>\n      <td>0.15</td>\n      <td>Aurobindo Unit III, India</td>\n      <td>Yes</td>\n      <td>16234.0</td>\n      <td>14439.17</td>\n      <td>expensive</td>\n      <td>1421.41</td>\n    </tr>\n    <tr>\n      <th>999</th>\n      <td>5645.0</td>\n      <td>Botswana</td>\n      <td>PMO - US</td>\n      <td>Direct Drop</td>\n      <td>EXW</td>\n      <td>Air</td>\n      <td>0.0</td>\n      <td>No</td>\n      <td>HRDT</td>\n      <td>HIV test</td>\n      <td>...</td>\n      <td>200.0</td>\n      <td>14398.00</td>\n      <td>71.99</td>\n      <td>0.72</td>\n      <td>Inverness Japan</td>\n      <td>Yes</td>\n      <td>46.0</td>\n      <td>1028.18</td>\n      <td>reasonable</td>\n      <td>23.04</td>\n    </tr>\n  </tbody>\n</table>\n<p>1000 rows × 27 columns</p>\n</div>"
     },
     "execution_count": 4,
     "metadata": {},
     "output_type": "execute_result"
    }
   ],
   "source": [
    "late_shipments = pd.read_feather(\"late_shipments.feather\")\n",
    "late_shipments"
   ]
  },
  {
   "cell_type": "code",
   "execution_count": 11,
   "id": "67d6ef73-c56d-46ce-8c8b-487bc4c47096",
   "metadata": {
    "tags": [],
    "ExecuteTime": {
     "end_time": "2023-10-11T02:25:48.572358600Z",
     "start_time": "2023-10-11T02:25:48.568298700Z"
    }
   },
   "outputs": [
    {
     "name": "stdout",
     "output_type": "stream",
     "text": [
      "0.061\n"
     ]
    }
   ],
   "source": [
    "# Calculate the proportion of late shipments\n",
    "late_prop_samp = (late_shipments[\"late\"]==\"Yes\").mean()\n",
    "\n",
    "# Print the results\n",
    "print(late_prop_samp)"
   ]
  },
  {
   "cell_type": "code",
   "execution_count": 6,
   "outputs": [],
   "source": [
    "late_shipments_boot_distn = []\n",
    "for i in range(5000):\n",
    "\n",
    "    late_shipments_boot_distn.append(\n",
    "        np.mean(\n",
    "            late_shipments.sample(frac=1, replace=True)[\"late\"]==\"Yes\"\n",
    "        )\n",
    "\n",
    "    )"
   ],
   "metadata": {
    "collapsed": false
   }
  },
  {
   "cell_type": "code",
   "execution_count": 7,
   "id": "1af1cc4e-37ca-42e6-bf15-5d6c963f74a1",
   "metadata": {
    "tags": [],
    "ExecuteTime": {
     "end_time": "2023-10-11T00:34:18.011849900Z",
     "start_time": "2023-10-11T00:34:18.010342300Z"
    }
   },
   "outputs": [
    {
     "name": "stdout",
     "output_type": "stream",
     "text": [
      "0.13219357400759651\n"
     ]
    }
   ],
   "source": [
    "# Hypothesize that the proportion is 6%\n",
    "late_prop_hyp = 6/100\n",
    "\n",
    "# Calculate the standard error\n",
    "std_error = np.std(late_shipments_boot_distn, ddof=1)\n",
    "\n",
    "# Find z-score of late_prop_samp\n",
    "z_score = (late_prop_samp - late_prop_hyp)/std_error\n",
    "\n",
    "# Print z_score\n",
    "print(z_score)"
   ]
  },
  {
   "cell_type": "markdown",
   "source": [
    "Hypothesis Testing\n",
    "- Either $H_A$ or $H_0$ is true (not both)\n",
    "- Initially, $H_0$ is assumed to be true\n",
    "- The test ends in either \"reject $H_0$\" or \"fail to reject $H_0$\"\n",
    "\n",
    "One-tailed and Two-tailed Tests\n",
    "- Two-tailed: Alternative DIFFERENT from null\n",
    "- Left-tailed: Alternative LESS than null\n",
    "- Right-tailed: Alternative GREATER than null\n",
    "\n",
    "**p-values**: probability of obtaining a result, assuming the null hypothesis is true\n",
    "\n",
    "- Large p-value, large support for $H_0$\n",
    "    - Statistic likely not in the tail of the null distribution\n",
    "- Small p-value, strong evidence against $H_0$\n",
    "    - Statistic likely in the tail of the null distribution\n",
    "- Large p-value → fail to reject null hypothesis\n",
    "- Small p-value → reject null hypothesis\n",
    "\n",
    "Calculating the p-value:\n",
    "- norm.cdf() is normal CDF from ```scipy.stats```\n",
    "- Left-tailed test → use ```norm.cdf()```\n",
    "- Right-tailed test → use ```1 - norm.cdf()```\n",
    "- Two-tailed test → use ```norm.cdf(-z_score) + 1 - norm.cdf(z_score)```\n",
    "\n",
    "Type of Errors:\n",
    "- Type 1: False positives\n",
    "- Type 2: False negatives\n"
   ],
   "metadata": {
    "collapsed": false
   }
  },
  {
   "cell_type": "markdown",
   "source": [
    "|--------------|-------------------------------|------------------------------|\n",
    "|              | actual $H_0$                  | actual $H_A$                 |\n",
    "|--------------|-------------------------------|------------------------------|\n",
    "| chosen $H_0$ | correct                       | false negative<br/> (Type 2) |\n",
    "| chosen $H_A$ | false positive<br/> (Type 1)  | correct                      |\n",
    "|--------------|-------------------------------|------------------------------|"
   ],
   "metadata": {
    "collapsed": false
   }
  },
  {
   "cell_type": "code",
   "execution_count": 8,
   "id": "bb22cc09-5fbb-4c10-b53b-80e44b14fba0",
   "metadata": {
    "ExecuteTime": {
     "end_time": "2023-10-11T00:34:18.310647900Z",
     "start_time": "2023-10-11T00:34:18.287264100Z"
    }
   },
   "outputs": [
    {
     "name": "stdout",
     "output_type": "stream",
     "text": [
      "0.4474155918577094\n"
     ]
    }
   ],
   "source": [
    "# Calculate the p-value\n",
    "p_value = 1 - norm.cdf(z_score, loc=0, scale=1)\n",
    "\n",
    "# Print the p-value\n",
    "print(p_value)"
   ]
  },
  {
   "cell_type": "code",
   "execution_count": 9,
   "outputs": [
    {
     "name": "stdout",
     "output_type": "stream",
     "text": [
      "(0.046, 0.076)\n"
     ]
    }
   ],
   "source": [
    "# Calculate 95% confidence interval using quantile method\n",
    "lower = np.quantile(late_shipments_boot_distn, 0.025)\n",
    "upper = np.quantile(late_shipments_boot_distn, 0.975)\n",
    "\n",
    "# Print the confidence interval\n",
    "print((lower, upper))\n"
   ],
   "metadata": {
    "collapsed": false,
    "ExecuteTime": {
     "end_time": "2023-10-11T00:34:18.752608600Z",
     "start_time": "2023-10-11T00:34:18.742951100Z"
    }
   }
  },
  {
   "cell_type": "markdown",
   "source": [
    "When you have a confidence interval width equal to one minus the significance level, if the hypothesized population parameter is within the confidence interval, you should fail to reject the null hypothesis.\n"
   ],
   "metadata": {
    "collapsed": false
   }
  },
  {
   "cell_type": "markdown",
   "source": [
    "- Type 1, False Positive: Reject the null hypothesis when in fact the null hypothesis is true\n",
    "- Type 2, False Negative: Failing to reject the null hypothesis when in fact the null hypothesis is false\n",
    "- No Error: Rejecting the null hypothesis when in fact the null hypothesis is false\n",
    "- No Error: Failing to reject the null hypothesis when in fact the null hypothesis is false\n"
   ],
   "metadata": {
    "collapsed": false
   }
  },
  {
   "cell_type": "code",
   "execution_count": null,
   "outputs": [],
   "source": [],
   "metadata": {
    "collapsed": false
   }
  }
 ],
 "metadata": {
  "kernelspec": {
   "display_name": "Python 3 (ipykernel)",
   "language": "python",
   "name": "python3"
  },
  "language_info": {
   "codemirror_mode": {
    "name": "ipython",
    "version": 3
   },
   "file_extension": ".py",
   "mimetype": "text/x-python",
   "name": "python",
   "nbconvert_exporter": "python",
   "pygments_lexer": "ipython3",
   "version": "3.11.5"
  }
 },
 "nbformat": 4,
 "nbformat_minor": 5
}
