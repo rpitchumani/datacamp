{
 "cells": [
  {
   "cell_type": "markdown",
   "id": "49b651d1-5517-40fa-a3b6-0c683f66caa6",
   "metadata": {},
   "source": [
    "# Introduction to Statistics in Python"
   ]
  },
  {
   "cell_type": "markdown",
   "id": "75fbcee1-8db9-4673-9cfa-d485aa12d609",
   "metadata": {},
   "source": [
    "## Chapter 2: Random Numbers and Probability"
   ]
  },
  {
   "cell_type": "code",
   "execution_count": 10,
   "id": "58e03314-50ba-4c64-bf1c-e9f9afdda58c",
   "metadata": {
    "tags": [],
    "ExecuteTime": {
     "end_time": "2023-10-13T04:38:15.199180300Z",
     "start_time": "2023-10-13T04:38:14.854715200Z"
    }
   },
   "outputs": [],
   "source": [
    "import numpy as np\n",
    "import pandas as pd\n",
    "import matplotlib.pyplot as plt"
   ]
  },
  {
   "cell_type": "code",
   "execution_count": null,
   "outputs": [],
   "source": [],
   "metadata": {
    "collapsed": false
   }
  },
  {
   "cell_type": "code",
   "execution_count": null,
   "outputs": [],
   "source": [],
   "metadata": {
    "collapsed": false
   }
  },
  {
   "cell_type": "code",
   "execution_count": null,
   "outputs": [],
   "source": [],
   "metadata": {
    "collapsed": false
   }
  },
  {
   "cell_type": "code",
   "execution_count": null,
   "outputs": [],
   "source": [],
   "metadata": {
    "collapsed": false
   }
  },
  {
   "cell_type": "code",
   "execution_count": null,
   "outputs": [],
   "source": [],
   "metadata": {
    "collapsed": false
   }
  },
  {
   "cell_type": "code",
   "execution_count": null,
   "outputs": [],
   "source": [],
   "metadata": {
    "collapsed": false
   }
  },
  {
   "cell_type": "code",
   "execution_count": null,
   "outputs": [],
   "source": [],
   "metadata": {
    "collapsed": false
   }
  },
  {
   "cell_type": "code",
   "execution_count": null,
   "outputs": [],
   "source": [],
   "metadata": {
    "collapsed": false
   }
  },
  {
   "cell_type": "code",
   "execution_count": 5,
   "outputs": [
    {
     "data": {
      "text/plain": "      Unnamed: 0     country food_category  consumption  co2_emission\n0              1   Argentina          pork        10.51         37.20\n1              2   Argentina       poultry        38.66         41.53\n2              3   Argentina          beef        55.48       1712.00\n3              4   Argentina     lamb_goat         1.56         54.63\n4              5   Argentina          fish         4.36          6.96\n...          ...         ...           ...          ...           ...\n1425        1426  Bangladesh         dairy        21.91         31.21\n1426        1427  Bangladesh         wheat        17.47          3.33\n1427        1428  Bangladesh          rice       171.73        219.76\n1428        1429  Bangladesh      soybeans         0.61          0.27\n1429        1430  Bangladesh          nuts         0.72          1.27\n\n[1430 rows x 5 columns]",
      "text/html": "<div>\n<style scoped>\n    .dataframe tbody tr th:only-of-type {\n        vertical-align: middle;\n    }\n\n    .dataframe tbody tr th {\n        vertical-align: top;\n    }\n\n    .dataframe thead th {\n        text-align: right;\n    }\n</style>\n<table border=\"1\" class=\"dataframe\">\n  <thead>\n    <tr style=\"text-align: right;\">\n      <th></th>\n      <th>Unnamed: 0</th>\n      <th>country</th>\n      <th>food_category</th>\n      <th>consumption</th>\n      <th>co2_emission</th>\n    </tr>\n  </thead>\n  <tbody>\n    <tr>\n      <th>0</th>\n      <td>1</td>\n      <td>Argentina</td>\n      <td>pork</td>\n      <td>10.51</td>\n      <td>37.20</td>\n    </tr>\n    <tr>\n      <th>1</th>\n      <td>2</td>\n      <td>Argentina</td>\n      <td>poultry</td>\n      <td>38.66</td>\n      <td>41.53</td>\n    </tr>\n    <tr>\n      <th>2</th>\n      <td>3</td>\n      <td>Argentina</td>\n      <td>beef</td>\n      <td>55.48</td>\n      <td>1712.00</td>\n    </tr>\n    <tr>\n      <th>3</th>\n      <td>4</td>\n      <td>Argentina</td>\n      <td>lamb_goat</td>\n      <td>1.56</td>\n      <td>54.63</td>\n    </tr>\n    <tr>\n      <th>4</th>\n      <td>5</td>\n      <td>Argentina</td>\n      <td>fish</td>\n      <td>4.36</td>\n      <td>6.96</td>\n    </tr>\n    <tr>\n      <th>...</th>\n      <td>...</td>\n      <td>...</td>\n      <td>...</td>\n      <td>...</td>\n      <td>...</td>\n    </tr>\n    <tr>\n      <th>1425</th>\n      <td>1426</td>\n      <td>Bangladesh</td>\n      <td>dairy</td>\n      <td>21.91</td>\n      <td>31.21</td>\n    </tr>\n    <tr>\n      <th>1426</th>\n      <td>1427</td>\n      <td>Bangladesh</td>\n      <td>wheat</td>\n      <td>17.47</td>\n      <td>3.33</td>\n    </tr>\n    <tr>\n      <th>1427</th>\n      <td>1428</td>\n      <td>Bangladesh</td>\n      <td>rice</td>\n      <td>171.73</td>\n      <td>219.76</td>\n    </tr>\n    <tr>\n      <th>1428</th>\n      <td>1429</td>\n      <td>Bangladesh</td>\n      <td>soybeans</td>\n      <td>0.61</td>\n      <td>0.27</td>\n    </tr>\n    <tr>\n      <th>1429</th>\n      <td>1430</td>\n      <td>Bangladesh</td>\n      <td>nuts</td>\n      <td>0.72</td>\n      <td>1.27</td>\n    </tr>\n  </tbody>\n</table>\n<p>1430 rows × 5 columns</p>\n</div>"
     },
     "execution_count": 5,
     "metadata": {},
     "output_type": "execute_result"
    }
   ],
   "source": [
    "food_consumption = pd.read_csv(\"food_consumption.csv\", header=0)\n",
    "food_consumption"
   ],
   "metadata": {
    "collapsed": false,
    "ExecuteTime": {
     "end_time": "2023-10-13T04:04:11.054188800Z",
     "start_time": "2023-10-13T04:04:11.039609Z"
    }
   }
  },
  {
   "cell_type": "code",
   "execution_count": 8,
   "outputs": [
    {
     "name": "stdout",
     "output_type": "stream",
     "text": [
      "42.13272727272727\n",
      "12.59\n",
      "44.650000000000006\n",
      "14.58\n"
     ]
    }
   ],
   "source": [
    "# Filter for Belgium\n",
    "be_consumption = food_consumption[food_consumption[\"country\"]==\"Belgium\"]\n",
    "\n",
    "# Filter for USA\n",
    "usa_consumption = food_consumption[food_consumption[\"country\"]==\"USA\"]\n",
    "\n",
    "# Calculate mean and median consumption in Belgium\n",
    "print(np.mean(be_consumption[\"consumption\"]))\n",
    "print(np.median(be_consumption[\"consumption\"]))\n",
    "\n",
    "# Calculate mean and median consumption in USA\n",
    "print(np.mean(usa_consumption[\"consumption\"]))\n",
    "print(np.median(usa_consumption[\"consumption\"]))"
   ],
   "metadata": {
    "collapsed": false,
    "ExecuteTime": {
     "end_time": "2023-10-13T04:18:49.490836500Z",
     "start_time": "2023-10-13T04:18:49.478004600Z"
    }
   }
  },
  {
   "cell_type": "code",
   "execution_count": 9,
   "outputs": [
    {
     "name": "stdout",
     "output_type": "stream",
     "text": [
      "              mean  median\n",
      "country                   \n",
      "Belgium  42.132727   12.59\n",
      "USA      44.650000   14.58\n"
     ]
    }
   ],
   "source": [
    "# Subset for Belgium and USA only\n",
    "be_and_usa = food_consumption[(food_consumption[\"country\"]==\"Belgium\") | (food_consumption[\"country\"]==\"USA\")]\n",
    "\n",
    "# Group by country, select consumption column, and compute mean and median\n",
    "print(be_and_usa.groupby(\"country\")[\"consumption\"].agg([np.mean, np.median]))"
   ],
   "metadata": {
    "collapsed": false,
    "ExecuteTime": {
     "end_time": "2023-10-13T04:21:36.769471200Z",
     "start_time": "2023-10-13T04:21:36.759044800Z"
    }
   }
  },
  {
   "cell_type": "code",
   "execution_count": 11,
   "outputs": [
    {
     "data": {
      "text/plain": "<Figure size 640x480 with 1 Axes>",
      "image/png": "[encoded data removed]"
     },
     "metadata": {},
     "output_type": "display_data"
    }
   ],
   "source": [
    "# Subset for food_category equals rice\n",
    "rice_consumption = food_consumption[food_consumption[\"food_category\"]==\"rice\"]\n",
    "\n",
    "# Histogram of co2_emission for rice and show plot\n",
    "rice_consumption[\"co2_emission\"].hist()\n",
    "plt.show()"
   ],
   "metadata": {
    "collapsed": false,
    "ExecuteTime": {
     "end_time": "2023-10-13T04:38:25.956058400Z",
     "start_time": "2023-10-13T04:38:25.789021700Z"
    }
   }
  },
  {
   "cell_type": "code",
   "execution_count": 12,
   "outputs": [
    {
     "name": "stdout",
     "output_type": "stream",
     "text": [
      "mean      37.591615\n",
      "median    15.200000\n",
      "Name: co2_emission, dtype: float64\n"
     ]
    }
   ],
   "source": [
    "# Calculate mean and median of co2_emission with .agg()\n",
    "print(rice_consumption[\"co2_emission\"].agg([np.mean, np.median]))"
   ],
   "metadata": {
    "collapsed": false,
    "ExecuteTime": {
     "end_time": "2023-10-13T04:40:00.478414800Z",
     "start_time": "2023-10-13T04:40:00.454398900Z"
    }
   }
  },
  {
   "cell_type": "markdown",
   "source": [
    "Outliers:\n",
    "- data < $Q1 - 1.5 \\times IQR$\n",
    "- data > $Q3 + 1.5 \\times IQR$\n"
   ],
   "metadata": {
    "collapsed": false
   }
  },
  {
   "cell_type": "code",
   "execution_count": 13,
   "outputs": [
    {
     "name": "stdout",
     "output_type": "stream",
     "text": [
      "[   0.        5.21     16.53     62.5975 1712.    ]\n",
      "[   0.       3.54    11.026   25.59    99.978 1712.   ]\n",
      "[0.00000e+00 6.68000e-01 3.54000e+00 7.04000e+00 1.10260e+01 1.65300e+01\n",
      " 2.55900e+01 4.42710e+01 9.99780e+01 2.03629e+02 1.71200e+03]\n"
     ]
    }
   ],
   "source": [
    "# Calculate the quartiles of co2_emission\n",
    "print(np.quantile(food_consumption[\"co2_emission\"], np.linspace(0, 1, 5)))\n",
    "\n",
    "# Calculate the quintiles of co2_emission\n",
    "print(np.quantile(food_consumption[\"co2_emission\"], np.linspace(0, 1, 6)))\n",
    "\n",
    "# Calculate the deciles of co2_emission\n",
    "print(np.quantile(food_consumption[\"co2_emission\"], np.linspace(0, 1, 11)))"
   ],
   "metadata": {
    "collapsed": false,
    "ExecuteTime": {
     "end_time": "2023-10-13T04:53:43.536767600Z",
     "start_time": "2023-10-13T04:53:43.532685700Z"
    }
   }
  },
  {
   "cell_type": "code",
   "execution_count": 14,
   "outputs": [
    {
     "name": "stdout",
     "output_type": "stream",
     "text": [
      "                        var         std\n",
      "food_category                          \n",
      "beef           88748.408132  297.906710\n",
      "dairy          17671.891985  132.935669\n",
      "eggs              21.371819    4.622966\n",
      "fish             921.637349   30.358481\n",
      "lamb_goat      16475.518363  128.356996\n",
      "nuts              35.639652    5.969895\n",
      "pork            3094.963537   55.632396\n",
      "poultry          245.026801   15.653332\n",
      "rice            2281.376243   47.763754\n",
      "soybeans           0.879882    0.938020\n",
      "wheat             71.023937    8.427570\n"
     ]
    },
    {
     "data": {
      "text/plain": "<Figure size 640x480 with 1 Axes>",
      "image/png": "[encoded data removed]"
     },
     "metadata": {},
     "output_type": "display_data"
    },
    {
     "data": {
      "text/plain": "<Figure size 640x480 with 1 Axes>",
      "image/png": "[encoded data removed]"
     },
     "metadata": {},
     "output_type": "display_data"
    }
   ],
   "source": [
    "# Print variance and sd of co2_emission for each food_category\n",
    "print(food_consumption.groupby(\"food_category\")[\"co2_emission\"].agg([np.var, np.std]))\n",
    "\n",
    "# Import matplotlib.pyplot with alias plt\n",
    "import matplotlib.pyplot as plt\n",
    "\n",
    "# Create histogram of co2_emission for food_category 'beef'\n",
    "food_consumption[food_consumption[\"food_category\"]==\"beef\"][\"co2_emission\"].hist()\n",
    "# Show plot\n",
    "plt.show()\n",
    "\n",
    "# Create histogram of co2_emission for food_category 'eggs'\n",
    "food_consumption[food_consumption[\"food_category\"]==\"eggs\"][\"co2_emission\"].hist()\n",
    "# Show plot\n",
    "plt.show()"
   ],
   "metadata": {
    "collapsed": false,
    "ExecuteTime": {
     "end_time": "2023-10-13T05:03:27.163139900Z",
     "start_time": "2023-10-13T05:03:26.931309400Z"
    }
   }
  },
  {
   "cell_type": "code",
   "execution_count": 15,
   "outputs": [
    {
     "data": {
      "text/plain": "<Figure size 640x480 with 1 Axes>",
      "image/png": "[encoded data removed]"
     },
     "metadata": {},
     "output_type": "display_data"
    }
   ],
   "source": [
    "# Create histogram of co2_emission for food_category 'beef'\n",
    "food_consumption[food_consumption[\"food_category\"]==\"beef\"][\"co2_emission\"].hist()\n",
    "# Create histogram of co2_emission for food_category 'eggs'\n",
    "food_consumption[food_consumption[\"food_category\"]==\"eggs\"][\"co2_emission\"].hist()\n",
    "# Show plot\n",
    "plt.show()"
   ],
   "metadata": {
    "collapsed": false,
    "ExecuteTime": {
     "end_time": "2023-10-13T05:04:04.728710400Z",
     "start_time": "2023-10-13T05:04:04.667439900Z"
    }
   }
  },
  {
   "cell_type": "code",
   "execution_count": 17,
   "outputs": [
    {
     "name": "stdout",
     "output_type": "stream",
     "text": [
      "country\n",
      "Albania      1777.85\n",
      "Algeria       707.88\n",
      "Angola        412.99\n",
      "Argentina    2172.40\n",
      "Armenia      1109.93\n",
      "              ...   \n",
      "Uruguay      1634.91\n",
      "Venezuela    1104.10\n",
      "Vietnam       641.51\n",
      "Zambia        225.30\n",
      "Zimbabwe      350.33\n",
      "Name: co2_emission, Length: 130, dtype: float64\n"
     ]
    }
   ],
   "source": [
    "# Calculate total co2_emission per country: emissions_by_country\n",
    "emissions_by_country = food_consumption.groupby('country')['co2_emission'].sum()\n",
    "\n",
    "print(emissions_by_country)"
   ],
   "metadata": {
    "collapsed": false,
    "ExecuteTime": {
     "end_time": "2023-10-13T05:05:46.893550200Z",
     "start_time": "2023-10-13T05:05:46.887742600Z"
    }
   }
  },
  {
   "cell_type": "code",
   "execution_count": 18,
   "outputs": [
    {
     "name": "stdout",
     "output_type": "stream",
     "text": [
      "country\n",
      "Argentina    2172.4\n",
      "Name: co2_emission, dtype: float64\n"
     ]
    }
   ],
   "source": [
    "# Compute the first and third quantiles and IQR of emissions_by_country\n",
    "q1 = np.quantile(emissions_by_country, 0.25)\n",
    "q3 = np.quantile(emissions_by_country, 0.75)\n",
    "iqr = q3 - q1\n",
    "\n",
    "# Calculate the lower and upper cutoffs for outliers\n",
    "lower = q1 - 1.5 * iqr\n",
    "upper = q3 + 1.5 * iqr\n",
    "\n",
    "# Subset emissions_by_country to find outliers\n",
    "outliers = emissions_by_country[(emissions_by_country < lower) | (emissions_by_country > upper)]\n",
    "print(outliers)"
   ],
   "metadata": {
    "collapsed": false,
    "ExecuteTime": {
     "end_time": "2023-10-13T05:09:30.254477700Z",
     "start_time": "2023-10-13T05:09:30.250473Z"
    }
   }
  },
  {
   "cell_type": "markdown",
   "source": [
    "It looks like Argentina has a substantially higher amount of CO2 emissions per person than other countries in the world."
   ],
   "metadata": {
    "collapsed": false
   }
  },
  {
   "cell_type": "code",
   "execution_count": null,
   "outputs": [],
   "source": [],
   "metadata": {
    "collapsed": false
   }
  }
 ],
 "metadata": {
  "kernelspec": {
   "display_name": "Python 3 (ipykernel)",
   "language": "python",
   "name": "python3"
  },
  "language_info": {
   "codemirror_mode": {
    "name": "ipython",
    "version": 3
   },
   "file_extension": ".py",
   "mimetype": "text/x-python",
   "name": "python",
   "nbconvert_exporter": "python",
   "pygments_lexer": "ipython3",
   "version": "3.11.5"
  }
 },
 "nbformat": 4,
 "nbformat_minor": 5
}
