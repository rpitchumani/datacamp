{
 "cells": [
  {
   "cell_type": "markdown",
   "id": "49b651d1-5517-40fa-a3b6-0c683f66caa6",
   "metadata": {},
   "source": [
    "# Introduction to Statistics in Python"
   ]
  },
  {
   "cell_type": "markdown",
   "id": "75fbcee1-8db9-4673-9cfa-d485aa12d609",
   "metadata": {},
   "source": [
    "## Chapter 2: Random Numbers and Probability"
   ]
  },
  {
   "cell_type": "code",
   "execution_count": 2,
   "id": "58e03314-50ba-4c64-bf1c-e9f9afdda58c",
   "metadata": {
    "tags": [],
    "ExecuteTime": {
     "end_time": "2023-10-14T05:10:10.922233500Z",
     "start_time": "2023-10-14T05:10:09.561259500Z"
    }
   },
   "outputs": [],
   "source": [
    "import numpy as np\n",
    "import pandas as pd\n",
    "import matplotlib.pyplot as plt"
   ]
  },
  {
   "cell_type": "code",
   "execution_count": 3,
   "outputs": [
    {
     "data": {
      "text/plain": "     Unnamed: 0    product   client status   amount  num_users\n0             1  Product F  Current    Won  7389.52         19\n1             2  Product C      New    Won  4493.01         43\n2             3  Product B      New    Won  5738.09         87\n3             4  Product I  Current    Won  2591.24         83\n4             5  Product E  Current    Won  6622.97         17\n..          ...        ...      ...    ...      ...        ...\n173         174  Product A  Current   Lost  5835.32         23\n174         175  Product D  Current    Won  6377.50         12\n175         176  Product D  Current    Won  3537.61         28\n176         177  Product A  Current    Won  6448.07         34\n177         178  Product D      New   Lost  7320.05         72\n\n[178 rows x 6 columns]",
      "text/html": "<div>\n<style scoped>\n    .dataframe tbody tr th:only-of-type {\n        vertical-align: middle;\n    }\n\n    .dataframe tbody tr th {\n        vertical-align: top;\n    }\n\n    .dataframe thead th {\n        text-align: right;\n    }\n</style>\n<table border=\"1\" class=\"dataframe\">\n  <thead>\n    <tr style=\"text-align: right;\">\n      <th></th>\n      <th>Unnamed: 0</th>\n      <th>product</th>\n      <th>client</th>\n      <th>status</th>\n      <th>amount</th>\n      <th>num_users</th>\n    </tr>\n  </thead>\n  <tbody>\n    <tr>\n      <th>0</th>\n      <td>1</td>\n      <td>Product F</td>\n      <td>Current</td>\n      <td>Won</td>\n      <td>7389.52</td>\n      <td>19</td>\n    </tr>\n    <tr>\n      <th>1</th>\n      <td>2</td>\n      <td>Product C</td>\n      <td>New</td>\n      <td>Won</td>\n      <td>4493.01</td>\n      <td>43</td>\n    </tr>\n    <tr>\n      <th>2</th>\n      <td>3</td>\n      <td>Product B</td>\n      <td>New</td>\n      <td>Won</td>\n      <td>5738.09</td>\n      <td>87</td>\n    </tr>\n    <tr>\n      <th>3</th>\n      <td>4</td>\n      <td>Product I</td>\n      <td>Current</td>\n      <td>Won</td>\n      <td>2591.24</td>\n      <td>83</td>\n    </tr>\n    <tr>\n      <th>4</th>\n      <td>5</td>\n      <td>Product E</td>\n      <td>Current</td>\n      <td>Won</td>\n      <td>6622.97</td>\n      <td>17</td>\n    </tr>\n    <tr>\n      <th>...</th>\n      <td>...</td>\n      <td>...</td>\n      <td>...</td>\n      <td>...</td>\n      <td>...</td>\n      <td>...</td>\n    </tr>\n    <tr>\n      <th>173</th>\n      <td>174</td>\n      <td>Product A</td>\n      <td>Current</td>\n      <td>Lost</td>\n      <td>5835.32</td>\n      <td>23</td>\n    </tr>\n    <tr>\n      <th>174</th>\n      <td>175</td>\n      <td>Product D</td>\n      <td>Current</td>\n      <td>Won</td>\n      <td>6377.50</td>\n      <td>12</td>\n    </tr>\n    <tr>\n      <th>175</th>\n      <td>176</td>\n      <td>Product D</td>\n      <td>Current</td>\n      <td>Won</td>\n      <td>3537.61</td>\n      <td>28</td>\n    </tr>\n    <tr>\n      <th>176</th>\n      <td>177</td>\n      <td>Product A</td>\n      <td>Current</td>\n      <td>Won</td>\n      <td>6448.07</td>\n      <td>34</td>\n    </tr>\n    <tr>\n      <th>177</th>\n      <td>178</td>\n      <td>Product D</td>\n      <td>New</td>\n      <td>Lost</td>\n      <td>7320.05</td>\n      <td>72</td>\n    </tr>\n  </tbody>\n</table>\n<p>178 rows × 6 columns</p>\n</div>"
     },
     "execution_count": 3,
     "metadata": {},
     "output_type": "execute_result"
    }
   ],
   "source": [
    "amir_deals = pd.read_csv(\"amir_deals.csv\")\n",
    "amir_deals"
   ],
   "metadata": {
    "collapsed": false,
    "ExecuteTime": {
     "end_time": "2023-10-14T05:10:10.942074800Z",
     "start_time": "2023-10-14T05:10:10.922233500Z"
    }
   }
  },
  {
   "cell_type": "code",
   "execution_count": 5,
   "outputs": [
    {
     "name": "stdout",
     "output_type": "stream",
     "text": [
      "product\n",
      "Product B    62\n",
      "Product D    40\n",
      "Product A    23\n",
      "Product C    15\n",
      "Product F    11\n",
      "Product H     8\n",
      "Product I     7\n",
      "Product E     5\n",
      "Product N     3\n",
      "Product G     2\n",
      "Product J     2\n",
      "Name: count, dtype: int64\n"
     ]
    }
   ],
   "source": [
    "# Count the deals for each product\n",
    "counts = amir_deals[\"product\"].value_counts()\n",
    "\n",
    "print(counts)"
   ],
   "metadata": {
    "collapsed": false,
    "ExecuteTime": {
     "end_time": "2023-10-14T05:11:58.246058800Z",
     "start_time": "2023-10-14T05:11:58.190607100Z"
    }
   }
  },
  {
   "cell_type": "code",
   "execution_count": 6,
   "outputs": [
    {
     "name": "stdout",
     "output_type": "stream",
     "text": [
      "product\n",
      "Product B    0.348315\n",
      "Product D    0.224719\n",
      "Product A    0.129213\n",
      "Product C    0.084270\n",
      "Product F    0.061798\n",
      "Product H    0.044944\n",
      "Product I    0.039326\n",
      "Product E    0.028090\n",
      "Product N    0.016854\n",
      "Product G    0.011236\n",
      "Product J    0.011236\n",
      "Name: count, dtype: float64\n"
     ]
    }
   ],
   "source": [
    "# Calculate probability of picking a deal with each product\n",
    "probs = counts/len(amir_deals)\n",
    "print(probs)"
   ],
   "metadata": {
    "collapsed": false,
    "ExecuteTime": {
     "end_time": "2023-10-14T05:12:40.716324600Z",
     "start_time": "2023-10-14T05:12:40.694803600Z"
    }
   }
  },
  {
   "cell_type": "code",
   "execution_count": 7,
   "outputs": [
    {
     "name": "stdout",
     "output_type": "stream",
     "text": [
      "     Unnamed: 0    product   client status   amount  num_users\n",
      "127         128  Product B  Current    Won  2070.25          7\n",
      "148         149  Product D  Current    Won  3485.48         52\n",
      "77           78  Product B  Current    Won  6252.30         27\n",
      "104         105  Product D  Current    Won  4110.98         39\n",
      "166         167  Product C      New   Lost  3779.86         11\n"
     ]
    }
   ],
   "source": [
    "# Set random seed\n",
    "np.random.seed(24)\n",
    "\n",
    "# Sample 5 deals without replacement\n",
    "sample_without_replacement = amir_deals.sample(5, replace=False)\n",
    "print(sample_without_replacement)"
   ],
   "metadata": {
    "collapsed": false,
    "ExecuteTime": {
     "end_time": "2023-10-14T05:14:33.046271200Z",
     "start_time": "2023-10-14T05:14:33.018419800Z"
    }
   }
  },
  {
   "cell_type": "code",
   "execution_count": 8,
   "outputs": [
    {
     "name": "stdout",
     "output_type": "stream",
     "text": [
      "     Unnamed: 0    product   client status   amount  num_users\n",
      "133         134  Product D  Current    Won  5992.86         98\n",
      "101         102  Product H  Current    Won  5116.34         63\n",
      "110         111  Product B  Current    Won   696.88         44\n",
      "49           50  Product B  Current    Won  3488.36         79\n",
      "56           57  Product D  Current    Won  6820.84         42\n"
     ]
    }
   ],
   "source": [
    "# Sample 5 deals with replacement\n",
    "sample_with_replacement = amir_deals.sample(5, replace=True)\n",
    "print(sample_with_replacement)"
   ],
   "metadata": {
    "collapsed": false,
    "ExecuteTime": {
     "end_time": "2023-10-14T05:37:39.549171200Z",
     "start_time": "2023-10-14T05:37:39.537649100Z"
    }
   }
  },
  {
   "cell_type": "code",
   "execution_count": 9,
   "outputs": [
    {
     "data": {
      "text/plain": "  group_id  group_size\n0        A           2\n1        B           4\n2        C           6\n3        D           2\n4        E           2\n5        F           2\n6        G           3\n7        H           2\n8        I           4\n9        J           2",
      "text/html": "<div>\n<style scoped>\n    .dataframe tbody tr th:only-of-type {\n        vertical-align: middle;\n    }\n\n    .dataframe tbody tr th {\n        vertical-align: top;\n    }\n\n    .dataframe thead th {\n        text-align: right;\n    }\n</style>\n<table border=\"1\" class=\"dataframe\">\n  <thead>\n    <tr style=\"text-align: right;\">\n      <th></th>\n      <th>group_id</th>\n      <th>group_size</th>\n    </tr>\n  </thead>\n  <tbody>\n    <tr>\n      <th>0</th>\n      <td>A</td>\n      <td>2</td>\n    </tr>\n    <tr>\n      <th>1</th>\n      <td>B</td>\n      <td>4</td>\n    </tr>\n    <tr>\n      <th>2</th>\n      <td>C</td>\n      <td>6</td>\n    </tr>\n    <tr>\n      <th>3</th>\n      <td>D</td>\n      <td>2</td>\n    </tr>\n    <tr>\n      <th>4</th>\n      <td>E</td>\n      <td>2</td>\n    </tr>\n    <tr>\n      <th>5</th>\n      <td>F</td>\n      <td>2</td>\n    </tr>\n    <tr>\n      <th>6</th>\n      <td>G</td>\n      <td>3</td>\n    </tr>\n    <tr>\n      <th>7</th>\n      <td>H</td>\n      <td>2</td>\n    </tr>\n    <tr>\n      <th>8</th>\n      <td>I</td>\n      <td>4</td>\n    </tr>\n    <tr>\n      <th>9</th>\n      <td>J</td>\n      <td>2</td>\n    </tr>\n  </tbody>\n</table>\n</div>"
     },
     "execution_count": 9,
     "metadata": {},
     "output_type": "execute_result"
    }
   ],
   "source": [
    "restaurant_groups = pd.DataFrame(\n",
    "    zip(\n",
    "        ['A', 'B', 'C', 'D', 'E', 'F', 'G', 'H', 'I', 'J'],\n",
    "        [2, 4, 6, 2, 2, 2, 3, 2, 4, 2]\n",
    "    ),\n",
    "    columns=[\"group_id\", \"group_size\"]\n",
    ")\n",
    "\n",
    "restaurant_groups"
   ],
   "metadata": {
    "collapsed": false,
    "ExecuteTime": {
     "end_time": "2023-10-14T06:00:16.865504500Z",
     "start_time": "2023-10-14T06:00:16.852199100Z"
    }
   }
  },
  {
   "cell_type": "code",
   "execution_count": 10,
   "outputs": [
    {
     "data": {
      "text/plain": "<Figure size 640x480 with 1 Axes>",
      "image/png": "[encoded data removed]"
     },
     "metadata": {},
     "output_type": "display_data"
    }
   ],
   "source": [
    "# Create a histogram of restaurant_groups and show plot\n",
    "restaurant_groups['group_size'].hist(bins=[2, 3, 4, 5, 6])\n",
    "plt.show()"
   ],
   "metadata": {
    "collapsed": false,
    "ExecuteTime": {
     "end_time": "2023-10-14T06:01:00.099386700Z",
     "start_time": "2023-10-14T06:00:59.899926500Z"
    }
   }
  },
  {
   "cell_type": "code",
   "execution_count": 12,
   "outputs": [
    {
     "name": "stdout",
     "output_type": "stream",
     "text": [
      "   group_size  prob\n",
      "0           2   0.6\n",
      "1           4   0.2\n",
      "2           6   0.1\n",
      "3           3   0.1\n"
     ]
    }
   ],
   "source": [
    "# Create probability distribution\n",
    "size_dist = restaurant_groups['group_size'].value_counts() / restaurant_groups.shape[0]\n",
    "# Reset index and rename columns\n",
    "size_dist = size_dist.reset_index()\n",
    "size_dist.columns = ['group_size', 'prob']\n",
    "\n",
    "print(size_dist)"
   ],
   "metadata": {
    "collapsed": false,
    "ExecuteTime": {
     "end_time": "2023-10-14T06:03:39.711746300Z",
     "start_time": "2023-10-14T06:03:39.696377700Z"
    }
   }
  },
  {
   "cell_type": "code",
   "execution_count": 14,
   "outputs": [
    {
     "name": "stdout",
     "output_type": "stream",
     "text": [
      "2.9000000000000004\n"
     ]
    }
   ],
   "source": [
    "# Calculate expected value\n",
    "expected_value = np.sum(size_dist['group_size'] * size_dist['prob'])\n",
    "print(expected_value)"
   ],
   "metadata": {
    "collapsed": false,
    "ExecuteTime": {
     "end_time": "2023-10-14T06:08:07.879083200Z",
     "start_time": "2023-10-14T06:08:07.851354500Z"
    }
   }
  },
  {
   "cell_type": "code",
   "execution_count": 15,
   "outputs": [
    {
     "name": "stdout",
     "output_type": "stream",
     "text": [
      "0.30000000000000004\n"
     ]
    }
   ],
   "source": [
    "# Subset groups of size 4 or more\n",
    "groups_4_or_more = size_dist[size_dist[\"group_size\"] >=4]\n",
    "\n",
    "# Sum the probabilities of groups_4_or_more\n",
    "prob_4_or_more = np.sum(groups_4_or_more[\"prob\"])\n",
    "print(prob_4_or_more)"
   ],
   "metadata": {
    "collapsed": false,
    "ExecuteTime": {
     "end_time": "2023-10-14T06:09:01.943999800Z",
     "start_time": "2023-10-14T06:09:01.923389500Z"
    }
   }
  },
  {
   "cell_type": "code",
   "execution_count": null,
   "outputs": [],
   "source": [],
   "metadata": {
    "collapsed": false
   }
  },
  {
   "cell_type": "code",
   "execution_count": null,
   "outputs": [],
   "source": [],
   "metadata": {
    "collapsed": false
   }
  },
  {
   "cell_type": "code",
   "execution_count": null,
   "outputs": [],
   "source": [],
   "metadata": {
    "collapsed": false
   }
  },
  {
   "cell_type": "code",
   "execution_count": null,
   "outputs": [],
   "source": [],
   "metadata": {
    "collapsed": false
   }
  },
  {
   "cell_type": "code",
   "execution_count": null,
   "outputs": [],
   "source": [],
   "metadata": {
    "collapsed": false
   }
  }
 ],
 "metadata": {
  "kernelspec": {
   "display_name": "Python 3 (ipykernel)",
   "language": "python",
   "name": "python3"
  },
  "language_info": {
   "codemirror_mode": {
    "name": "ipython",
    "version": 3
   },
   "file_extension": ".py",
   "mimetype": "text/x-python",
   "name": "python",
   "nbconvert_exporter": "python",
   "pygments_lexer": "ipython3",
   "version": "3.11.5"
  }
 },
 "nbformat": 4,
 "nbformat_minor": 5
}
